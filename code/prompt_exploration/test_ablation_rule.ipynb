{
 "cells": [
  {
   "cell_type": "code",
   "execution_count": 9,
   "metadata": {},
   "outputs": [],
   "source": [
    "import code_ablation  \n",
    "import code"
   ]
  },
  {
   "cell_type": "code",
   "execution_count": 10,
   "metadata": {},
   "outputs": [],
   "source": [
    "text = \"\"\"If the rabbit is round and the rabbit needs the squirrel then the rabbit is rough.If something needs the cat and the cat chases the rabbit then the cat chases the bear.If something is big then it chases the rabbit.If something sees the cat and the cat is blue then the cat visits the dog.If something is cold then it visits the bear.If something is green and it visits the bear then the bear sees the dog.If Bob is not furry then Bob is round.If Erin is round then Erin is white.If someone is furry and not rough then they are blue.If someone is furry and not round then they are blue.If someone is round and not red then they are nice.If someone is white and not blue then they are quiet.Anne is blue. Anne is furry. Anne is nice. Anne is red. Anne is smart. Bob is kind. Bob is nice. If something is furry then it is kind. Nice, smart things are kind. All nice things are furry. If Bob is smart and Bob is blue then Bob is kind. If something is kind then it is nice. Kind things are smart.All rough things are smart. All white, rough things are smart. All nice things are red. All white things are nice. Kind things are white. All kind, round things are rough. All nice, young things are round. Nice, young things are round. Green things are round. Round, green things are rough. Nice, young things are green. All rough, green things are young. All round things are nice. If the lion is round and the lion is young then the lion is rough.\"\"\"\n",
    "\n",
    "\n",
    "facts_rules_list = code.FR_decomposer_proofwriter_new(text)\n",
    "facts = facts_rules_list['facts']\n",
    "rules = facts_rules_list['rules']"
   ]
  },
  {
   "cell_type": "code",
   "execution_count": 11,
   "metadata": {},
   "outputs": [
    {
     "data": {
      "text/plain": [
       "['If the rabbit is round and the rabbit needs the squirrel then the rabbit is rough.',\n",
       " 'If something needs the cat and the cat chases the rabbit then the cat chases the bear.',\n",
       " 'If something is big then it chases the rabbit.',\n",
       " 'If something sees the cat and the cat is blue then the cat visits the dog.',\n",
       " 'If something is cold then it visits the bear.',\n",
       " 'If something is green and it visits the bear then the bear sees the dog.',\n",
       " 'If Bob is not furry then Bob is round.',\n",
       " 'If Erin is round then Erin is white.',\n",
       " 'If someone is furry and not rough then they are blue.',\n",
       " 'If someone is furry and not round then they are blue.',\n",
       " 'If someone is round and not red then they are nice.',\n",
       " 'If someone is white and not blue then they are quiet.',\n",
       " 'If something is furry then it is kind.',\n",
       " 'Nice, smart things are kind.',\n",
       " 'All nice things are furry.',\n",
       " 'If Bob is smart and Bob is blue then Bob is kind.',\n",
       " 'If something is kind then it is nice.',\n",
       " 'Kind things are smart.',\n",
       " 'All rough things are smart.',\n",
       " 'All white, rough things are smart.',\n",
       " 'All nice things are red.',\n",
       " 'All white things are nice.',\n",
       " 'Kind things are white.',\n",
       " 'All kind, round things are rough.',\n",
       " 'All nice, young things are round.',\n",
       " 'Nice, young things are round.',\n",
       " 'Green things are round.',\n",
       " 'Round, green things are rough.',\n",
       " 'Nice, young things are green.',\n",
       " 'All rough, green things are young.',\n",
       " 'All round things are nice.',\n",
       " 'If the lion is round and the lion is young then the lion is rough.']"
      ]
     },
     "execution_count": 11,
     "metadata": {},
     "output_type": "execute_result"
    }
   ],
   "source": [
    "rules"
   ]
  },
  {
   "cell_type": "code",
   "execution_count": 12,
   "metadata": {},
   "outputs": [
    {
     "name": "stderr",
     "output_type": "stream",
     "text": [
      "/home/yanghn/env_py/lib/python3.8/site-packages/tqdm/auto.py:21: TqdmWarning: IProgress not found. Please update jupyter and ipywidgets. See https://ipywidgets.readthedocs.io/en/stable/user_install.html\n",
      "  from .autonotebook import tqdm as notebook_tqdm\n",
      "Loading checkpoint shards: 100%|██████████| 2/2 [00:43<00:00, 21.75s/it]\n"
     ]
    }
   ],
   "source": [
    "import os\n",
    "os.environ[\"CUDA_VISIBLE_DEVICES\"] = \"0,1,2,3\"\n",
    "from transformers import AutoTokenizer\n",
    "import transformers\n",
    "import torch\n",
    "import json\n",
    "import pandas as pd\n",
    "from tqdm import tqdm\n",
    "import logging\n",
    "import time\n",
    "\n",
    "model = \"meta-llama/Llama-2-7b-chat-hf\"\n",
    "# model = \"meta-llama/Llama-2-13b-hf\"\n",
    "tokenizer = AutoTokenizer.from_pretrained(model)\n",
    "\n",
    "pipeline = transformers.pipeline(\n",
    "    \"text-generation\",\n",
    "    model=model,\n",
    "    torch_dtype=torch.float16,\n",
    "    device_map=\"auto\",\n",
    ")\n",
    "def ask(question:str, max_length=500) -> str:\n",
    "    sequences = pipeline(\n",
    "        question,\n",
    "        do_sample=False,\n",
    "        # do_sample=True,\n",
    "        # top_k=10,\n",
    "        num_return_sequences=1,\n",
    "        eos_token_id=tokenizer.eos_token_id,\n",
    "        max_length=max_length,\n",
    "        # max_length=200,\n",
    "    )\n",
    "    for seq in sequences:\n",
    "        return seq['generated_text']\n"
   ]
  },
  {
   "cell_type": "code",
   "execution_count": 14,
   "metadata": {},
   "outputs": [
    {
     "data": {
      "text/plain": [
       "['If the rabbit is round and the rabbit needs the squirrel then the rabbit is rough.',\n",
       " 'If something needs the cat and the cat chases the rabbit then the cat chases the bear.',\n",
       " 'If something is big then it chases the rabbit.',\n",
       " 'If something sees the cat and the cat is blue then the cat visits the dog.',\n",
       " 'If something is cold then it visits the bear.',\n",
       " 'If something is green and it visits the bear then the bear sees the dog.',\n",
       " 'If Bob is not furry then Bob is round.',\n",
       " 'If Erin is round then Erin is white.',\n",
       " 'If someone is furry and not rough then they are blue.',\n",
       " 'If someone is furry and not round then they are blue.',\n",
       " 'If someone is round and not red then they are nice.',\n",
       " 'If someone is white and not blue then they are quiet.',\n",
       " 'If something is furry then it is kind.',\n",
       " 'Nice, smart things are kind.',\n",
       " 'All nice things are furry.',\n",
       " 'If Bob is smart and Bob is blue then Bob is kind.',\n",
       " 'If something is kind then it is nice.',\n",
       " 'Kind things are smart.',\n",
       " 'All rough things are smart.',\n",
       " 'All white, rough things are smart.',\n",
       " 'All nice things are red.',\n",
       " 'All white things are nice.',\n",
       " 'Kind things are white.',\n",
       " 'All kind, round things are rough.',\n",
       " 'All nice, young things are round.',\n",
       " 'Nice, young things are round.',\n",
       " 'Green things are round.',\n",
       " 'Round, green things are rough.',\n",
       " 'Nice, young things are green.',\n",
       " 'All rough, green things are young.',\n",
       " 'All round things are nice.',\n",
       " 'If the lion is round and the lion is young then the lion is rough.']"
      ]
     },
     "execution_count": 14,
     "metadata": {},
     "output_type": "execute_result"
    }
   ],
   "source": [
    "facts_rules_list['rules']"
   ]
  },
  {
   "cell_type": "code",
   "execution_count": 5,
   "metadata": {},
   "outputs": [],
   "source": []
  },
  {
   "cell_type": "markdown",
   "metadata": {},
   "source": [
    "### Rules"
   ]
  },
  {
   "cell_type": "code",
   "execution_count": 136,
   "metadata": {},
   "outputs": [],
   "source": [
    "rules = ['if jack loves rose then jack is blue',\n",
    "    'if bob is blue, then bob is green',\n",
    "    'all nice cat are cute',\n",
    "    'if bob is nice, then bob is dooog',\n",
    "    'if something is cute, then it is nice',\n",
    "    'if something is not cute, then it is real',\n",
    "    'if cat is cute and loves dog, then it likes lion'\n",
    "    'all nice, handsome cats are cute',\n",
    "    'all nice, round, rough cats are cute',\n",
    "    'red, blue cats are green',\n",
    "    ]"
   ]
  },
  {
   "cell_type": "code",
   "execution_count": 138,
   "metadata": {},
   "outputs": [
    {
     "name": "stderr",
     "output_type": "stream",
     "text": [
      "/home/yanghn/env_py/lib/python3.8/site-packages/transformers/pipelines/base.py:1101: UserWarning: You seem to be using the pipelines sequentially on GPU. In order to maximize efficiency please use a dataset\n",
      "  warnings.warn(\n",
      "/home/yanghn/env_py/lib/python3.8/site-packages/transformers/generation/configuration_utils.py:381: UserWarning: `do_sample` is set to `False`. However, `temperature` is set to `0.6` -- this flag is only used in sample-based generation modes. You should set `do_sample=True` or unset `temperature`.\n",
      "  warnings.warn(\n",
      "/home/yanghn/env_py/lib/python3.8/site-packages/transformers/generation/configuration_utils.py:386: UserWarning: `do_sample` is set to `False`. However, `top_p` is set to `0.9` -- this flag is only used in sample-based generation modes. You should set `do_sample=True` or unset `top_p`.\n",
      "  warnings.warn(\n"
     ]
    },
    {
     "name": "stdout",
     "output_type": "stream",
     "text": [
      "Task: \n",
      "please convert the following Rules in the form as IF-THEN expression,\n",
      "The sentence \"If <Person> is <Property>, then <Person> is <Property>\" should be written as \"IF <Property>(<Person>), THEN <Property>(<Person>)\".\n",
      "The sentence \"All <Property> <Object> are <Property>\" should be written as \"IF <Property>(<Object>), THEN <Property>(<Object>)\".\n",
      "Example: Sentence: If Bob is good, then Bob is nice, output: IF Good(Bob) THEN Nice(Bob)\n",
      "Example: Sentence: If Bob is good and cute, then Bob is nice, output: IF Good(Bob) AND Cute(Bob) THEN Nice(Bob)\n",
      "Example: Sentence: If Bob likes dog, then Bob is nice, output: IF Like(Bob, dog) THEN Nice(Bob)\n",
      "Example: Sentence: All good people are nice, output: IF Good(people) THEN Nice(people)\n",
      "Example: Sentence: All cute dog are nice, output: IF Cute(dog) THEN Nice(dog)\n",
      "Example: Sentence: Good people are nice, output: IF Good(people) THEN Nice(people)\n",
      "Sentences: \n",
      "*if jack loves rose then jack is blue\n",
      "*if bob is blue, then bob is green\n",
      "*all nice cat are cute\n",
      "*if bob is nice, then bob is dooog\n",
      "*if something is cute, then it is nice\n",
      "*if something is not cute, then it is real\n",
      "*if cat is cute and loves dog, then it likes lionall nice, handsome cats are cute\n",
      "*all nice, round, rough cats are cute\n",
      "*red, blue cats are green\n",
      "Output:\n",
      "*IF Love(Jack, Rose) THEN Blue(Jack)\n",
      "*IF Blue(Bob) THEN Green(Bob)\n",
      "*IF Nice(Cat) THEN Cute(Cat)\n",
      "*IF Nice(Bob) THEN Dooog(Bob)\n",
      "*IF Cute(X) THEN Nice(X)\n",
      "*IF Not Cute(X) THEN Real(X)\n",
      "*IF Cat(Is) Cute(And) Loves(Dog) THEN Like(Lion)\n",
      "*IF Nice(Cat) AND Round(Cat) AND Rough(Cat) THEN Cute(Cat)\n",
      "*IF Red(Cat) AND Blue(Cat) THEN Green(Cat)\n",
      "\n",
      "Please let me know if you have any questions or need further clarification.\n"
     ]
    }
   ],
   "source": [
    "\n",
    "def prompt_formulator_translation_rules_2_ifthen_4_example(rules:list) -> str:\n",
    "    prompt = f\"\"\"Task: \n",
    "please convert the following Rules in the form as IF-THEN expression,\n",
    "The sentence \"If <Person> is <Property>, then <Person> is <Property>\" should be written as \"IF <Property>(<Person>), THEN <Property>(<Person>)\".\n",
    "The sentence \"All <Property> <Object> are <Property>\" should be written as \"IF <Property>(<Object>), THEN <Property>(<Object>)\".\n",
    "Example: Sentence: If Bob is good, then Bob is nice, output: IF Good(Bob) THEN Nice(Bob)\n",
    "Example: Sentence: If Bob is good and cute, then Bob is nice, output: IF Good(Bob) AND Cute(Bob) THEN Nice(Bob)\n",
    "Example: Sentence: If Bob likes dog, then Bob is nice, output: IF Like(Bob, dog) THEN Nice(Bob)\n",
    "Example: Sentence: All good people are nice, output: IF Good(people) THEN Nice(people)\n",
    "Example: Sentence: All cute dog are nice, output: IF Cute(dog) THEN Nice(dog)\n",
    "Example: Sentence: Good people are nice, output: IF Good(people) THEN Nice(people)\n",
    "Sentences: \n",
    "{code.list_2_str(rules)}Output:\n",
    "\"\"\"\n",
    "    return prompt\n",
    "\n",
    "prompt_rule = prompt_formulator_translation_rules_2_ifthen_4_example(rules)\n",
    "answer = ask(prompt_rule, max_length=700)\n",
    "print(answer)"
   ]
  },
  {
   "cell_type": "code",
   "execution_count": 141,
   "metadata": {},
   "outputs": [
    {
     "name": "stdout",
     "output_type": "stream",
     "text": [
      "Task: \n",
      "please convert the following Rules in the form as IF-THEN expression,\n",
      "The sentence \"If <Person> is <Property>, then <Person> is <Property>\" should be written as \"IF <Property>(<Person>), THEN <Property>(<Person>)\".\n",
      "The sentence \"All <Property> <Object> are <Property>\" should be written as \"IF <Property>(<Object>), THEN <Property>(<Object>)\".\n",
      "Example: Sentence: If Bob is good, then Bob is nice, output: IF Good(Bob) THEN Nice(Bob)\n",
      "Example: Sentence: If Bob is good and cute, then Bob is nice, output: IF Good(Bob) AND Cute(Bob) THEN Nice(Bob)\n",
      "Example: Sentence: If Bob likes dog, then Bob is nice, output: IF Like(Bob, dog) THEN Nice(Bob)\n",
      "Example: Sentence: All cute dog are nice, output: IF Cute(dog) THEN Nice(dog)\n",
      "Example: Sentence: All cute, rough cats are nice, output: IF Cute(cat) AND Rough(cat) THEN Nice(dog)\n",
      "Example: Sentence: Good people are nice, output: IF Good(people) THEN Nice(people)\n",
      "Sentences: \n",
      "*if jack loves rose then jack is blue\n",
      "*if bob is blue, then bob is green\n",
      "*all nice cat are cute\n",
      "*if bob is nice, then bob is dooog\n",
      "*if something is cute, then it is nice\n",
      "*if something is not cute, then it is real\n",
      "*if cat is cute and loves dog, then it likes lionall nice, handsome cats are cute\n",
      "*all nice, round, rough cats are cute\n",
      "*red, blue cats are green\n",
      "Output:\n",
      "*IF Love(Jack, Rose) THEN Blue(Jack)\n",
      "*IF Blue(Bob) THEN Green(Bob)\n",
      "*IF Nice(Cat) THEN Cute(Cat)\n",
      "*IF Nice(Bob) THEN Dooog(Bob)\n",
      "*IF Cute(X) THEN Nice(X)\n",
      "*IF Not Cute(X) THEN Real(X)\n",
      "*IF Cute(Cat) AND Love(Cat, Dog) THEN Like(Cat, Lion)\n",
      "*IF Nice, Round, Rough(Cat) THEN Cute(Cat)\n",
      "*IF Red(Cat) AND Blue(Cat) THEN Green(Cat)\n",
      "\n",
      "Please let me know if you have any questions or need further clarification.\n"
     ]
    }
   ],
   "source": [
    "\n",
    "def prompt_formulator_translation_rules_2_ifthen_4_example(rules:list) -> str:\n",
    "    prompt = f\"\"\"Task: \n",
    "please convert the following Rules in the form as IF-THEN expression,\n",
    "The sentence \"If <Person> is <Property>, then <Person> is <Property>\" should be written as \"IF <Property>(<Person>), THEN <Property>(<Person>)\".\n",
    "The sentence \"All <Property> <Object> are <Property>\" should be written as \"IF <Property>(<Object>), THEN <Property>(<Object>)\".\n",
    "Example: Sentence: If Bob is good, then Bob is nice, output: IF Good(Bob) THEN Nice(Bob)\n",
    "Example: Sentence: If Bob is good and cute, then Bob is nice, output: IF Good(Bob) AND Cute(Bob) THEN Nice(Bob)\n",
    "Example: Sentence: If Bob likes dog, then Bob is nice, output: IF Like(Bob, dog) THEN Nice(Bob)\n",
    "Example: Sentence: All cute dog are nice, output: IF Cute(dog) THEN Nice(dog)\n",
    "Example: Sentence: All cute, rough cats are nice, output: IF Cute(cat) AND Rough(cat) THEN Nice(dog)\n",
    "Example: Sentence: Good people are nice, output: IF Good(people) THEN Nice(people)\n",
    "Sentences: \n",
    "{code.list_2_str(rules)}Output:\n",
    "\"\"\"\n",
    "    return prompt\n",
    "\n",
    "prompt_rule = prompt_formulator_translation_rules_2_ifthen_4_example(rules)\n",
    "answer = ask(prompt_rule, max_length=700)\n",
    "print(answer)"
   ]
  },
  {
   "cell_type": "code",
   "execution_count": 143,
   "metadata": {},
   "outputs": [
    {
     "name": "stdout",
     "output_type": "stream",
     "text": [
      "Task: \n",
      "please convert the following Rules in the form as IF-THEN expression,\n",
      "The sentence \"If <Person> is <Property>, then <Person> is <Property>\" should be written as \"IF <Property>(<Person>), THEN <Property>(<Person>)\".\n",
      "The sentence \"All <Property> <Object> are <Property>\" should be written as \"IF <Property>(<Object>), THEN <Property>(<Object>)\".\n",
      "Example: Sentence: If Bob is good and cute, then Bob is nice, output: IF Good(Bob) AND Cute(Bob) THEN Nice(Bob)\n",
      "Example: Sentence: If Bob likes dog, then Bob is nice, output: IF Like(Bob, dog) THEN Nice(Bob)\n",
      "Example: Sentence: All cute dog are nice, output: IF Cute(dog) THEN Nice(dog)\n",
      "Example: Sentence: Good people are nice, output: IF Good(people) THEN Nice(people)\n",
      "Sentences: \n",
      "*if jack loves rose then jack is blue\n",
      "*if bob is blue, then bob is green\n",
      "*all nice cat are cute\n",
      "*if bob is nice, then bob is dooog\n",
      "*if something is cute, then it is nice\n",
      "*if something is not cute, then it is real\n",
      "*if cat is cute and loves dog, then it likes lionall nice, handsome cats are cute\n",
      "*all nice, round, rough cats are cute\n",
      "*red, blue cats are green\n",
      "Output:\n",
      "*IF Love(Jack, Rose) THEN Blue(Jack)\n",
      "*IF Blue(Bob) THEN Green(Bob)\n",
      "*IF Nice(cat) THEN Cute(cat)\n",
      "*IF Nice(Bob) THEN Dooog(Bob)\n",
      "*IF Cute(X) THEN Nice(X)\n",
      "*IF Not Cute(X) THEN Real(X)\n",
      "*IF Cute(cat) AND Love(cat, dog) THEN Like(cat, lion)\n",
      "*IF Nice(cat) AND Round(cat) AND Rough(cat) THEN Cute(cat)\n",
      "*IF Red(cat) AND Blue(cat) THEN Green(cat)\n",
      "\n",
      "Please let me know if you have any questions or need further clarification.\n"
     ]
    }
   ],
   "source": [
    "\n",
    "def prompt_formulator_translation_rules_2_ifthen_4_example(rules:list) -> str:\n",
    "    prompt = f\"\"\"Task: \n",
    "please convert the following Rules in the form as IF-THEN expression,\n",
    "The sentence \"If <Person> is <Property>, then <Person> is <Property>\" should be written as \"IF <Property>(<Person>), THEN <Property>(<Person>)\".\n",
    "The sentence \"All <Property> <Object> are <Property>\" should be written as \"IF <Property>(<Object>), THEN <Property>(<Object>)\".\n",
    "Example: Sentence: If Bob is good and cute, then Bob is nice, output: IF Good(Bob) AND Cute(Bob) THEN Nice(Bob)\n",
    "Example: Sentence: If Bob likes dog, then Bob is nice, output: IF Like(Bob, dog) THEN Nice(Bob)\n",
    "Example: Sentence: All cute dog are nice, output: IF Cute(dog) THEN Nice(dog)\n",
    "Example: Sentence: Good people are nice, output: IF Good(people) THEN Nice(people)\n",
    "Sentences: \n",
    "{code.list_2_str(rules)}Output:\n",
    "\"\"\"\n",
    "    return prompt\n",
    "\n",
    "prompt_rule = prompt_formulator_translation_rules_2_ifthen_4_example(rules)\n",
    "answer = ask(prompt_rule, max_length=700)\n",
    "print(answer)"
   ]
  },
  {
   "cell_type": "code",
   "execution_count": 144,
   "metadata": {},
   "outputs": [
    {
     "name": "stdout",
     "output_type": "stream",
     "text": [
      "Task: \n",
      "please convert the following Rules in the form as IF-THEN expression,\n",
      "The sentence \"If <Person> is <Property>, then <Person> is <Property>\" should be written as \"IF <Property>(<Person>), THEN <Property>(<Person>)\".\n",
      "The sentence \"All <Property> <Object> are <Property>\" should be written as \"IF <Property>(<Object>), THEN <Property>(<Object>)\".\n",
      "Example: Sentence: If Bob likes dog, then Bob is nice, output: IF Like(Bob, dog) THEN Nice(Bob)\n",
      "Example: Sentence: All cute dog are nice, output: IF Cute(dog) THEN Nice(dog)\n",
      "Example: Sentence: Good people are nice, output: IF Good(people) THEN Nice(people)\n",
      "Sentences: \n",
      "*if jack loves rose then jack is blue\n",
      "*if bob is blue, then bob is green\n",
      "*all nice cat are cute\n",
      "*if bob is nice, then bob is dooog\n",
      "*if something is cute, then it is nice\n",
      "*if something is not cute, then it is real\n",
      "*if cat is cute and loves dog, then it likes lionall nice, handsome cats are cute\n",
      "*all nice, round, rough cats are cute\n",
      "*red, blue cats are green\n",
      "Output:\n",
      "*IF Love(Jack, Rose) THEN Blue(Jack)\n",
      "*IF Blue(Bob) THEN Green(Bob)\n",
      "*IF Nice(Cat) THEN Cute(Cat)\n",
      "*IF Nice(Bob) THEN Dooog(Bob)\n",
      "*IF Cute(X) THEN Nice(X)\n",
      "*IF Not Cute(X) THEN Real(X)\n",
      "*IF Cat(X) AND Love(X, Dog) THEN Like(X, Lion)\n",
      "*IF Nice(X) AND Round(X) AND Rough(X) THEN Cute(X)\n",
      "*IF Red(X) AND Blue(X) THEN Green(X)\n",
      "\n",
      "Please let me know if you have any questions or need further clarification.\n"
     ]
    }
   ],
   "source": [
    "\n",
    "def prompt_formulator_translation_rules_2_ifthen_4_example(rules:list) -> str:\n",
    "    prompt = f\"\"\"Task: \n",
    "please convert the following Rules in the form as IF-THEN expression,\n",
    "The sentence \"If <Person> is <Property>, then <Person> is <Property>\" should be written as \"IF <Property>(<Person>), THEN <Property>(<Person>)\".\n",
    "The sentence \"All <Property> <Object> are <Property>\" should be written as \"IF <Property>(<Object>), THEN <Property>(<Object>)\".\n",
    "Example: Sentence: If Bob likes dog, then Bob is nice, output: IF Like(Bob, dog) THEN Nice(Bob)\n",
    "Example: Sentence: All cute dog are nice, output: IF Cute(dog) THEN Nice(dog)\n",
    "Example: Sentence: Good people are nice, output: IF Good(people) THEN Nice(people)\n",
    "Sentences: \n",
    "{code.list_2_str(rules)}Output:\n",
    "\"\"\"\n",
    "    return prompt\n",
    "\n",
    "prompt_rule = prompt_formulator_translation_rules_2_ifthen_4_example(rules)\n",
    "answer = ask(prompt_rule, max_length=700)\n",
    "print(answer)"
   ]
  },
  {
   "cell_type": "code",
   "execution_count": 145,
   "metadata": {},
   "outputs": [
    {
     "name": "stdout",
     "output_type": "stream",
     "text": [
      "Task: \n",
      "please convert the following Rules in the form as IF-THEN expression,\n",
      "The sentence \"If <Person> is <Property>, then <Person> is <Property>\" should be written as \"IF <Property>(<Person>), THEN <Property>(<Person>)\".\n",
      "The sentence \"All <Property> <Object> are <Property>\" should be written as \"IF <Property>(<Object>), THEN <Property>(<Object>)\".\n",
      "Example: Sentence: If Bob likes dog, then Bob is nice, output: IF Like(Bob, dog) THEN Nice(Bob)\n",
      "Example: Sentence: All cute dog are nice, output: IF Cute(dog) THEN Nice(dog)\n",
      "Sentences: \n",
      "*if jack loves rose then jack is blue\n",
      "*if bob is blue, then bob is green\n",
      "*all nice cat are cute\n",
      "*if bob is nice, then bob is dooog\n",
      "*if something is cute, then it is nice\n",
      "*if something is not cute, then it is real\n",
      "*if cat is cute and loves dog, then it likes lionall nice, handsome cats are cute\n",
      "*all nice, round, rough cats are cute\n",
      "*red, blue cats are green\n",
      "Output:\n",
      "*IF Love(Jack, Rose) THEN Blue(Jack)\n",
      "*IF Blue(Bob) THEN Green(Bob)\n",
      "*ALL Nice(Cat) THEN Cute(Cat)\n",
      "*IF Nice(Bob) THEN Dooog(Bob)\n",
      "*IF Cute(X) THEN Nice(X)\n",
      "*IF Not Cute(X) THEN Real(X)\n",
      "*IF Cute(Cat) AND Love(Cat, Dog) THEN Like(Cat, Lion)\n",
      "*IF Nice(Cat) AND Round(Cat) AND Rough(Cat) THEN Cute(Cat)\n",
      "*IF Red(Cat) AND Blue(Cat) THEN Green(Cat)\n",
      "\n",
      "Please let me know if you have any questions or need further clarification.\n"
     ]
    }
   ],
   "source": [
    "\n",
    "def prompt_formulator_translation_rules_2_ifthen_4_example(rules:list) -> str:\n",
    "    prompt = f\"\"\"Task: \n",
    "please convert the following Rules in the form as IF-THEN expression,\n",
    "The sentence \"If <Person> is <Property>, then <Person> is <Property>\" should be written as \"IF <Property>(<Person>), THEN <Property>(<Person>)\".\n",
    "The sentence \"All <Property> <Object> are <Property>\" should be written as \"IF <Property>(<Object>), THEN <Property>(<Object>)\".\n",
    "Example: Sentence: If Bob likes dog, then Bob is nice, output: IF Like(Bob, dog) THEN Nice(Bob)\n",
    "Example: Sentence: All cute dog are nice, output: IF Cute(dog) THEN Nice(dog)\n",
    "Sentences: \n",
    "{code.list_2_str(rules)}Output:\n",
    "\"\"\"\n",
    "    return prompt\n",
    "\n",
    "prompt_rule = prompt_formulator_translation_rules_2_ifthen_4_example(rules)\n",
    "answer = ask(prompt_rule, max_length=700)\n",
    "print(answer)"
   ]
  },
  {
   "cell_type": "code",
   "execution_count": 146,
   "metadata": {},
   "outputs": [
    {
     "name": "stdout",
     "output_type": "stream",
     "text": [
      "Task: \n",
      "please convert the following Rules in the form as IF-THEN expression,\n",
      "The sentence \"If <Person> is <Property>, then <Person> is <Property>\" should be written as \"IF <Property>(<Person>), THEN <Property>(<Person>)\".\n",
      "The sentence \"All <Property> <Object> are <Property>\" should be written as \"IF <Property>(<Object>), THEN <Property>(<Object>)\".\n",
      "Example: Sentence: If Bob likes dog, then Bob is nice, output: IF Like(Bob, dog) THEN Nice(Bob)\n",
      "Sentences: \n",
      "*if jack loves rose then jack is blue\n",
      "*if bob is blue, then bob is green\n",
      "*all nice cat are cute\n",
      "*if bob is nice, then bob is dooog\n",
      "*if something is cute, then it is nice\n",
      "*if something is not cute, then it is real\n",
      "*if cat is cute and loves dog, then it likes lionall nice, handsome cats are cute\n",
      "*all nice, round, rough cats are cute\n",
      "*red, blue cats are green\n",
      "Output:\n",
      "*IF Love(Jack, Rose) THEN Blue(Jack)\n",
      "*IF Blue(Bob) THEN Green(Bob)\n",
      "*ALL Nice(Cat) THEN Cute(Cat)\n",
      "*IF Nice(Bob) THEN Dooog(Bob)\n",
      "*IF Cute(X) THEN Nice(X)\n",
      "*IF Not Cute(X) THEN Real(X)\n",
      "*IF Cat(Nice, Love, Dog) THEN Like(Lion)\n",
      "*IF Nice, Round, Rough(Cat) THEN Cute(Cat)\n",
      "*IF Red, Blue(Cat) THEN Green(Cat)\n",
      "\n",
      "Please let me know if you have any questions or need further clarification.\n"
     ]
    }
   ],
   "source": [
    "def prompt_formulator_translation_rules_2_ifthen_4_example(rules:list) -> str:\n",
    "    prompt = f\"\"\"Task: \n",
    "please convert the following Rules in the form as IF-THEN expression,\n",
    "The sentence \"If <Person> is <Property>, then <Person> is <Property>\" should be written as \"IF <Property>(<Person>), THEN <Property>(<Person>)\".\n",
    "The sentence \"All <Property> <Object> are <Property>\" should be written as \"IF <Property>(<Object>), THEN <Property>(<Object>)\".\n",
    "Example: Sentence: If Bob likes dog, then Bob is nice, output: IF Like(Bob, dog) THEN Nice(Bob)\n",
    "Sentences: \n",
    "{code.list_2_str(rules)}Output:\n",
    "\"\"\"\n",
    "    return prompt\n",
    "\n",
    "prompt_rule = prompt_formulator_translation_rules_2_ifthen_4_example(rules)\n",
    "answer = ask(prompt_rule, max_length=700)\n",
    "print(answer)"
   ]
  },
  {
   "cell_type": "code",
   "execution_count": 149,
   "metadata": {},
   "outputs": [
    {
     "name": "stdout",
     "output_type": "stream",
     "text": [
      "Task: \n",
      "please convert the following Rules in the form as IF-THEN expression,\n",
      "The sentence \"If <Person> is <Property>, then <Person> is <Property>\" should be written as \"IF <Property>(<Person>), THEN <Property>(<Person>)\".\n",
      "The sentence \"All <Property> <Object> are <Property>\" should be written as \"IF <Property>(<Object>), THEN <Property>(<Object>)\".\n",
      "Sentences: \n",
      "*if jack loves rose then jack is blue\n",
      "*if bob is blue, then bob is green\n",
      "*all nice cat are cute\n",
      "*if bob is nice, then bob is dooog\n",
      "*if something is cute, then it is nice\n",
      "*if something is not cute, then it is real\n",
      "*if cat is cute and loves dog, then it likes lionall nice, handsome cats are cute\n",
      "*all nice, round, rough cats are cute\n",
      "*red, blue cats are green\n",
      "Output:\n",
      "Please convert the following rules into IF-THEN expressions:\n",
      "\n",
      "1. IF Jack loves Rose, THEN Jack is blue.\n",
      "2. IF Bob is blue, THEN Bob is green.\n",
      "3. ALL nice cat ARE cute.\n",
      "4. IF Bob is nice, THEN Bob is dooog.\n",
      "5. IF something is cute, THEN it is nice.\n",
      "6. IF something is not cute, THEN it is real.\n",
      "7. IF cat is cute and loves dog, THEN it likes lion.\n",
      "8. ALL nice, round, rough cats ARE cute.\n",
      "9. IF red, blue cats are green.\n",
      "\n",
      "Expected Output:\n",
      "\n",
      "1. IF (Jack loves Rose), THEN (Jack is blue).\n",
      "2. IF (Bob is blue), THEN (Bob is green).\n",
      "3. ALL (nice cat) ARE (cute).\n",
      "4. IF (Bob is nice), THEN (Bob is dooog).\n",
      "5. IF (something is cute), THEN (it is nice).\n",
      "6. IF (something is not cute), THEN (it is real).\n",
      "7. IF (cat is cute and loves dog), THEN (it likes lion).\n",
      "8. ALL (nice, round, rough cat) ARE (cute).\n",
      "9. IF (red, blue cats are green).\n",
      "\n",
      "Please let me know if you have any questions or need further clarification.\n"
     ]
    }
   ],
   "source": [
    "def prompt_formulator_translation_rules_2_ifthen_4_example(rules:list) -> str:\n",
    "    prompt = f\"\"\"Task: \n",
    "please convert the following Rules in the form as IF-THEN expression,\n",
    "The sentence \"If <Person> is <Property>, then <Person> is <Property>\" should be written as \"IF <Property>(<Person>), THEN <Property>(<Person>)\".\n",
    "The sentence \"All <Property> <Object> are <Property>\" should be written as \"IF <Property>(<Object>), THEN <Property>(<Object>)\".\n",
    "Sentences: \n",
    "{code.list_2_str(rules)}Output:\n",
    "\"\"\"\n",
    "    return prompt\n",
    "\n",
    "prompt_rule = prompt_formulator_translation_rules_2_ifthen_4_example(rules)\n",
    "answer = ask(prompt_rule, max_length=700)\n",
    "print(answer)"
   ]
  },
  {
   "cell_type": "markdown",
   "metadata": {},
   "source": [
    "# Evaluate Rules"
   ]
  },
  {
   "cell_type": "code",
   "execution_count": 15,
   "metadata": {},
   "outputs": [],
   "source": [
    "import nltk\n",
    "from nltk import pos_tag\n",
    "from nltk.tokenize import word_tokenize\n",
    "from nltk.stem import WordNetLemmatizer\n",
    "\n",
    "# nltk.download('punkt')\n",
    "# nltk.download('averaged_perceptron_tagger')\n",
    "# nltk.download('wordnet')"
   ]
  },
  {
   "cell_type": "code",
   "execution_count": 119,
   "metadata": {},
   "outputs": [],
   "source": [
    "import nltk\n",
    "from nltk import pos_tag\n",
    "from nltk.tokenize import word_tokenize\n",
    "from nltk.stem import WordNetLemmatizer\n",
    "\n",
    "# nltk.download('punkt')\n",
    "# nltk.download('averaged_perceptron_tagger')\n",
    "# nltk.download('wordnet')\n",
    "\n",
    "def rules_parse_answer(answer:str) -> dict:\n",
    "    # convert answer to {condition:{set}, conclusion:{set}}\n",
    "    if 'if' not in answer.lower() or 'then' not in answer.lower():\n",
    "        return {answer:answer}\n",
    "    else: \n",
    "        words = answer.lower().split('then')    # ['if xxx'] then ['xxx']\n",
    "        if len(words) < 2:\n",
    "            return {answer:answer}\n",
    "        return find_answer_rules(words[0], words[1])\n",
    "\n",
    "def rules_parse_rule(rule:str) -> dict:\n",
    "    # convert rule sentence to {condition:{set}, conclusion:{set}}\n",
    "    # can't find solution for 'are', or 'all'\n",
    "    rule_lower = rule.lower()\n",
    "    rule_lower = rule_lower.replace('all', '')\n",
    "    rule_lower = rule_lower.replace('if', '')\n",
    "    rule_lower = rule_lower.replace('is', '')\n",
    "    rule_lower = rule_lower.replace('.', '')\n",
    "    rule_lower = rule_lower.replace(',', '')\n",
    "    if 'are' in rule_lower:\n",
    "        # words = rule_lower.split('are')\n",
    "        # if len(words) < 2:\n",
    "        return {rule:rule}\n",
    "    elif 'then' in rule_lower:\n",
    "        words = rule_lower.split('then')\n",
    "        if len(words) < 2:\n",
    "            return {rule:rule}\n",
    "    else: \n",
    "        return {rule:rule}\n",
    "    return find_answer_rules(words[0], words[1])\n",
    "\n",
    "\n",
    "def find_answer_rules(str_conditions:str, str_conclusion:str) -> dict:\n",
    "    lemmatizer = WordNetLemmatizer()\n",
    "    result = {\n",
    "        'conditions'    : [],\n",
    "        'conclusion'    : [],\n",
    "    }\n",
    "    str_conditions = str_conditions.strip()\n",
    "    str_conclusion = str_conclusion.strip()\n",
    "    \n",
    "\n",
    "    # process condition\n",
    "    str_conditions = str_conditions.replace('(', ' ')\n",
    "    str_conditions = str_conditions.replace(')', ' ')\n",
    "    str_conditions = str_conditions.replace('if', '')\n",
    "    str_conditions = str_conditions.replace('and', '')\n",
    "    str_conditions = str_conditions.replace('is', '')\n",
    "    str_conditions = str_conditions.replace(',', '')\n",
    "\n",
    "    str_conditions = str_conditions.strip()\n",
    "\n",
    "    tokens = word_tokenize(str_conditions)\n",
    "    tagged_words = pos_tag(tokens)\n",
    "    nouns = [word[0] for word in tagged_words if word[1].startswith('NN')]\n",
    "    nouns = list(set(nouns))\n",
    "    adjs  = [word[0] for word in tagged_words if word[1].startswith('JJ')]\n",
    "    adjs  = list(set(adjs))\n",
    "    verbs = [word[0] for word in tagged_words if word[1].startswith('VB') and word[0] not in ['is', 'are']]\n",
    "    verbs = list(set(verbs))\n",
    "    nouns = [lemmatizer.lemmatize(word, pos='n') for word in nouns]\n",
    "    adjs  = [lemmatizer.lemmatize(word, pos='a') for word in adjs ]\n",
    "    verbs = [lemmatizer.lemmatize(word, pos='v') for word in verbs]\n",
    "    result['conditions'].extend(nouns)\n",
    "    result['conditions'].extend(adjs)\n",
    "    result['conditions'].extend(verbs)\n",
    "\n",
    "    # process conclusion\n",
    "    str_conclusion = str_conclusion.replace('(', ' ')\n",
    "    str_conclusion = str_conclusion.replace(')', ' ')\n",
    "    str_conclusion = str_conclusion.replace('if', '')\n",
    "    str_conclusion = str_conclusion.replace('and', '')\n",
    "    str_conclusion = str_conclusion.replace('is', '')\n",
    "    str_conclusion = str_conclusion.replace('are', '')\n",
    "    str_conclusion = str_conclusion.replace(',', '')\n",
    "    str_conclusion = str_conclusion.strip()\n",
    "\n",
    "    tokens = word_tokenize(str_conclusion)\n",
    "    tagged_words = pos_tag(tokens)\n",
    "    nouns = [word[0] for word in tagged_words if word[1].startswith('NN')]\n",
    "    nouns = list(set(nouns))\n",
    "    adjs  = [word[0] for word in tagged_words if word[1].startswith('JJ')]\n",
    "    adjs  = list(set(adjs))\n",
    "    verbs = [word[0] for word in tagged_words if word[1].startswith('VB') and word[0] not in ['is', 'are']]\n",
    "    verbs = list(set(verbs))\n",
    "    nouns = [lemmatizer.lemmatize(word, pos='n') for word in nouns]\n",
    "    adjs  = [lemmatizer.lemmatize(word, pos='a') for word in adjs ]\n",
    "    verbs = [lemmatizer.lemmatize(word, pos='v') for word in verbs]\n",
    "    result['conclusion'].extend(nouns)\n",
    "    result['conclusion'].extend(adjs)\n",
    "    result['conclusion'].extend(verbs)\n",
    "\n",
    "    result['conditions'] = set(result['conditions'])\n",
    "    result['conclusion'] = set(result['conclusion'])\n",
    "    print(result)\n",
    "    return result\n",
    "\n",
    "def evaluation_translation_rule(rules_list:list, answers_list:list):\n",
    "    # how many examples in answer?\n",
    "    # how many are correct?\n",
    "    answer_parsed = [rules_parse_answer(answer) for answer in answers_list]\n",
    "    \n",
    "    num_correct = 0\n",
    "    rules_no_answer = []\n",
    "    rules_are = [rule for rule in rules_list if 'are' in rule]\n",
    "    num_rules_are = len(rules_are)\n",
    "    for rule in rules_list:\n",
    "        if 'are' in rule:\n",
    "            continue\n",
    "        rule_parsed = rules_parse_rule(rule)\n",
    "        if rule_parsed in answer_parsed:\n",
    "            num_correct += 1\n",
    "            index = answer_parsed.index(rule_parsed)\n",
    "            answers_list.remove(answers_list[index])\n",
    "            answer_parsed.remove(rule_parsed)\n",
    "        else:\n",
    "            rules_no_answer.append(rule)\n",
    "\n",
    "    bad_answers = answers_list\n",
    "    num_rules_no_answer = len(rules_no_answer)\n",
    "    num_bad_answers = len(bad_answers)\n",
    "\n",
    "    str_rules_no_answer = \"\"\n",
    "    for index, rule in enumerate(rules_no_answer):\n",
    "        str_rules_no_answer += f\"{index+1}. {rule}\\n\"\n",
    "\n",
    "    str_bad_answers     = \"\"\n",
    "    for index, rule in enumerate(bad_answers):\n",
    "        str_bad_answers += f\"{index+1}. {rule}\\n\"\n",
    "\n",
    "    str_are_rules     = \"\"\n",
    "    for index, rule in enumerate(rules_are):\n",
    "        str_are_rules += f\"{index+1}. {rule}\\n\"\n",
    "\n",
    "    result_dict = {}\n",
    "    result_dict['num_all']                       = len(rules_list)\n",
    "    result_dict['num_rules_without_are']         = len(rules_list) - num_rules_are\n",
    "    result_dict['num_correct']                   = num_correct\n",
    "    result_dict['num_rules_no_answer']           = num_rules_no_answer\n",
    "    result_dict['num_bad_answers']               = num_bad_answers\n",
    "    result_dict['str_rules_no_answer']           = str_rules_no_answer\n",
    "    result_dict['str_bad_answers']               = str_bad_answers\n",
    "    result_dict['num_rules_are']                 = num_rules_are\n",
    "    result_dict['str_are_rules']                 = str_are_rules\n",
    "    return result_dict\n"
   ]
  },
  {
   "cell_type": "code",
   "execution_count": 18,
   "metadata": {},
   "outputs": [
    {
     "data": {
      "text/plain": [
       "['if you are good']"
      ]
     },
     "execution_count": 18,
     "metadata": {},
     "output_type": "execute_result"
    }
   ],
   "source": [
    "'if you are good'.split('1')"
   ]
  },
  {
   "cell_type": "code",
   "execution_count": 17,
   "metadata": {},
   "outputs": [
    {
     "data": {
      "text/plain": [
       "'and'"
      ]
     },
     "execution_count": 17,
     "metadata": {},
     "output_type": "execute_result"
    }
   ],
   "source": [
    "a = 'and'\n",
    "a.replace('and', \",\")\n",
    "a"
   ]
  },
  {
   "cell_type": "code",
   "execution_count": 82,
   "metadata": {},
   "outputs": [
    {
     "data": {
      "text/plain": [
       "False"
      ]
     },
     "execution_count": 82,
     "metadata": {},
     "output_type": "execute_result"
    }
   ],
   "source": [
    "5 in {1:1}"
   ]
  },
  {
   "cell_type": "code",
   "execution_count": 19,
   "metadata": {},
   "outputs": [
    {
     "data": {
      "text/plain": [
       "[('If', 'IN'),\n",
       " ('something', 'NN'),\n",
       " ('needs', 'VBZ'),\n",
       " ('the', 'DT'),\n",
       " ('cat', 'NN'),\n",
       " ('and', 'CC'),\n",
       " ('the', 'DT'),\n",
       " ('cat', 'NN'),\n",
       " ('chases', 'VBZ'),\n",
       " ('the', 'DT'),\n",
       " ('rabbit', 'NN'),\n",
       " ('then', 'RB'),\n",
       " ('the', 'DT'),\n",
       " ('cat', 'NN'),\n",
       " ('chases', 'VBZ'),\n",
       " ('the', 'DT'),\n",
       " ('bear', 'NN'),\n",
       " ('.', '.')]"
      ]
     },
     "execution_count": 19,
     "metadata": {},
     "output_type": "execute_result"
    }
   ],
   "source": [
    "tokens = word_tokenize('If something needs the cat and the cat chases the rabbit then the cat chases the bear.')\n",
    "# split with if, and, then\n",
    "tagged_words = pos_tag(tokens)\n",
    "tagged_words"
   ]
  },
  {
   "cell_type": "code",
   "execution_count": 24,
   "metadata": {},
   "outputs": [
    {
     "data": {
      "text/plain": [
       "['things', 'dog', 'cat']"
      ]
     },
     "execution_count": 24,
     "metadata": {},
     "output_type": "execute_result"
    }
   ],
   "source": [
    "nouns = [word[0] for word in tagged_words if word[1].startswith('NN')]\n",
    "list(set(nouns))"
   ]
  },
  {
   "cell_type": "code",
   "execution_count": 26,
   "metadata": {},
   "outputs": [
    {
     "data": {
      "text/plain": [
       "['blue']"
      ]
     },
     "execution_count": 26,
     "metadata": {},
     "output_type": "execute_result"
    }
   ],
   "source": [
    "adj = [word[0] for word in tagged_words if word[1].startswith('JJ')]\n",
    "list(set(adj))"
   ]
  },
  {
   "cell_type": "code",
   "execution_count": 30,
   "metadata": {},
   "outputs": [
    {
     "data": {
      "text/plain": [
       "['sees', 'visits']"
      ]
     },
     "execution_count": 30,
     "metadata": {},
     "output_type": "execute_result"
    }
   ],
   "source": [
    "verb = [word[0] for word in tagged_words if word[1].startswith('VB') and word[0] not in ['is', 'are']]\n",
    "list(set(verb))"
   ]
  },
  {
   "cell_type": "code",
   "execution_count": 32,
   "metadata": {},
   "outputs": [
    {
     "data": {
      "text/plain": [
       "'asd'"
      ]
     },
     "execution_count": 32,
     "metadata": {},
     "output_type": "execute_result"
    }
   ],
   "source": [
    "a = \"asd\"\n",
    "a.replace(a, \"\")\n",
    "a"
   ]
  },
  {
   "cell_type": "code",
   "execution_count": 34,
   "metadata": {},
   "outputs": [
    {
     "data": {
      "text/plain": [
       "[('nice', 'JJ'), ('(', '('), ('bob', 'NN'), (')', ')')]"
      ]
     },
     "execution_count": 34,
     "metadata": {},
     "output_type": "execute_result"
    }
   ],
   "source": [
    "tokens = word_tokenize('nice(bob)')# split with if, and, then\n",
    "tagged_words = pos_tag(tokens)\n",
    "tagged_words"
   ]
  },
  {
   "cell_type": "code",
   "execution_count": 58,
   "metadata": {},
   "outputs": [
    {
     "data": {
      "text/plain": [
       "{'conditions': {'need', 'rabbit', 'round', 'squirrel'},\n",
       " 'conclusion': {'cat', 'chase', 'need', 'rabbit', 'rough', 'something'}}"
      ]
     },
     "execution_count": 58,
     "metadata": {},
     "output_type": "execute_result"
    }
   ],
   "source": [
    "parse_answer_rules(text)"
   ]
  },
  {
   "cell_type": "code",
   "execution_count": 42,
   "metadata": {},
   "outputs": [
    {
     "data": {
      "text/plain": [
       "False"
      ]
     },
     "execution_count": 42,
     "metadata": {},
     "output_type": "execute_result"
    }
   ],
   "source": [
    "['a', 'b'] == ['a', 'c']"
   ]
  },
  {
   "cell_type": "code",
   "execution_count": 43,
   "metadata": {},
   "outputs": [
    {
     "data": {
      "text/plain": [
       "True"
      ]
     },
     "execution_count": 43,
     "metadata": {},
     "output_type": "execute_result"
    }
   ],
   "source": [
    "['a', 'b'] == ['a', 'b']"
   ]
  },
  {
   "cell_type": "code",
   "execution_count": 44,
   "metadata": {},
   "outputs": [
    {
     "data": {
      "text/plain": [
       "False"
      ]
     },
     "execution_count": 44,
     "metadata": {},
     "output_type": "execute_result"
    }
   ],
   "source": [
    "['a', 'b'] == ['b', 'a']"
   ]
  },
  {
   "cell_type": "code",
   "execution_count": 45,
   "metadata": {},
   "outputs": [
    {
     "data": {
      "text/plain": [
       "True"
      ]
     },
     "execution_count": 45,
     "metadata": {},
     "output_type": "execute_result"
    }
   ],
   "source": [
    "{'a', 'b'} == {'a', 'b'}"
   ]
  },
  {
   "cell_type": "code",
   "execution_count": 46,
   "metadata": {},
   "outputs": [
    {
     "data": {
      "text/plain": [
       "True"
      ]
     },
     "execution_count": 46,
     "metadata": {},
     "output_type": "execute_result"
    }
   ],
   "source": [
    "{'a', 'b'} == {'b', 'a'}"
   ]
  },
  {
   "cell_type": "code",
   "execution_count": 48,
   "metadata": {},
   "outputs": [
    {
     "name": "stdout",
     "output_type": "stream",
     "text": [
      "<class 'set'>\n"
     ]
    }
   ],
   "source": [
    "print(type({'b', 'a'}))"
   ]
  },
  {
   "cell_type": "code",
   "execution_count": 56,
   "metadata": {},
   "outputs": [
    {
     "data": {
      "text/plain": [
       "True"
      ]
     },
     "execution_count": 56,
     "metadata": {},
     "output_type": "execute_result"
    }
   ],
   "source": [
    "{'b':{}, 'a':{'a', 'b'}} == {'a':{'b', 'a'},'b':{}} "
   ]
  },
  {
   "cell_type": "code",
   "execution_count": 59,
   "metadata": {},
   "outputs": [
    {
     "data": {
      "text/plain": [
       "True"
      ]
     },
     "execution_count": 59,
     "metadata": {},
     "output_type": "execute_result"
    }
   ],
   "source": [
    "parse_answer_rules(text) == parse_answer_rules(text)"
   ]
  },
  {
   "cell_type": "code",
   "execution_count": 63,
   "metadata": {},
   "outputs": [
    {
     "data": {
      "text/plain": [
       "{'conditions': {'bob', 'jack', 'nice'}, 'conclusion': {'blue', 'bob'}}"
      ]
     },
     "execution_count": 63,
     "metadata": {},
     "output_type": "execute_result"
    }
   ],
   "source": [
    "parse_answer_rules('if bob like jack and bob is nice then bob is blue')\n"
   ]
  },
  {
   "cell_type": "code",
   "execution_count": 65,
   "metadata": {},
   "outputs": [
    {
     "data": {
      "text/plain": [
       "{'conditions': {'bob', 'jack', 'nice'}, 'conclusion': {'blue', 'bob'}}"
      ]
     },
     "execution_count": 65,
     "metadata": {},
     "output_type": "execute_result"
    }
   ],
   "source": [
    "parse_answer_rules('IF like(bob, jack) AND nice(bob) THEN Blue(bob) ')"
   ]
  },
  {
   "cell_type": "code",
   "execution_count": 73,
   "metadata": {},
   "outputs": [
    {
     "data": {
      "text/plain": [
       "[(1, 2), 2]"
      ]
     },
     "execution_count": 73,
     "metadata": {},
     "output_type": "execute_result"
    }
   ],
   "source": [
    "a = [(1,2), (2,3), 2]\n",
    "a.remove((2,3))\n",
    "a"
   ]
  },
  {
   "cell_type": "code",
   "execution_count": 74,
   "metadata": {},
   "outputs": [
    {
     "data": {
      "text/plain": [
       "dict"
      ]
     },
     "execution_count": 74,
     "metadata": {},
     "output_type": "execute_result"
    }
   ],
   "source": [
    "type({})"
   ]
  },
  {
   "cell_type": "code",
   "execution_count": 80,
   "metadata": {},
   "outputs": [
    {
     "data": {
      "text/plain": [
       "[1, 2, 3]"
      ]
     },
     "execution_count": 80,
     "metadata": {},
     "output_type": "execute_result"
    }
   ],
   "source": [
    "l = [1,2,3]\n",
    "list({i:str(i) for i in l}.keys())"
   ]
  },
  {
   "cell_type": "code",
   "execution_count": 111,
   "metadata": {},
   "outputs": [
    {
     "data": {
      "text/plain": [
       "{'nice bob are cute': 'nice bob are cute'}"
      ]
     },
     "execution_count": 111,
     "metadata": {},
     "output_type": "execute_result"
    }
   ],
   "source": [
    "rules_parse_rule('nice bob are cute',)"
   ]
  },
  {
   "cell_type": "code",
   "execution_count": 112,
   "metadata": {},
   "outputs": [
    {
     "data": {
      "text/plain": [
       "{'all nice bob are cute': 'all nice bob are cute'}"
      ]
     },
     "execution_count": 112,
     "metadata": {},
     "output_type": "execute_result"
    }
   ],
   "source": [
    "rules_parse_rule('all nice bob are cute',)"
   ]
  },
  {
   "cell_type": "code",
   "execution_count": 106,
   "metadata": {},
   "outputs": [
    {
     "name": "stdout",
     "output_type": "stream",
     "text": [
      "{'conditions': {'nice', 'bob'}, 'conclusion': {'cute', 'bob'}}\n",
      "{'conditions': {'nice', 'bob'}, 'conclusion': {'cute', 'bob'}}\n"
     ]
    }
   ],
   "source": [
    "print(rules_parse_answer('if nice(bob) then cute(bob)'))"
   ]
  },
  {
   "cell_type": "code",
   "execution_count": 103,
   "metadata": {},
   "outputs": [
    {
     "name": "stdout",
     "output_type": "stream",
     "text": [
      "{'conditions': {'nice', 'bob'}, 'conclusion': {'cute', 'bob'}}\n"
     ]
    },
    {
     "data": {
      "text/plain": [
       "{'conditions': {'bob', 'nice'}, 'conclusion': {'bob', 'cute'}}"
      ]
     },
     "execution_count": 103,
     "metadata": {},
     "output_type": "execute_result"
    }
   ],
   "source": [
    "find_answer_rules('if nice(bob)', 'cute(bob)')"
   ]
  },
  {
   "cell_type": "code",
   "execution_count": 121,
   "metadata": {},
   "outputs": [
    {
     "name": "stdout",
     "output_type": "stream",
     "text": [
      "{'conditions': {'rise', 'jack', 'love'}, 'conclusion': {'jack', 'blue'}}\n",
      "{'conditions': {'green', 'bob'}, 'conclusion': {'nice', 'bob'}}\n",
      "{'conditions': {'nice', 'bob'}, 'conclusion': {'cute', 'bob'}}\n",
      "{'conditions': {'cute', 'bob'}, 'conclusion': {'good', 'bob'}}\n",
      "{'conditions': {'nice', 'bob'}, 'conclusion': {'dooog', 'bob'}}\n",
      "{'conditions': {'rise', 'jack', 'love'}, 'conclusion': {'jack', 'blue'}}\n",
      "{'conditions': {'bob', 'blue'}, 'conclusion': {'green', 'bob'}}\n",
      "{'conditions': {'nice', 'bob'}, 'conclusion': {'dooog', 'bob'}}\n"
     ]
    },
    {
     "data": {
      "text/plain": [
       "{'num_all': 4,\n",
       " 'num_rules_without_are': 3,\n",
       " 'num_correct': 2,\n",
       " 'num_rules_no_answer': 1,\n",
       " 'num_bad_answers': 3,\n",
       " 'str_rules_no_answer': '0. if bob is blue, then bob is green\\n',\n",
       " 'str_bad_answers': '0. if green(bob) then nice(bob)\\n1. if nice(bob) then cute(bob)\\n2. if cute(bob) then good(bob)\\n',\n",
       " 'num_rules_are': 1,\n",
       " 'str_are_rules': '0. all nice bob are cute\\n'}"
      ]
     },
     "execution_count": 121,
     "metadata": {},
     "output_type": "execute_result"
    }
   ],
   "source": [
    "evaluation_translation_rule([\n",
    "    'if jack loves rose then jack is blue',\n",
    "    'if bob is blue, then bob is green',\n",
    "    'all nice bob are cute',\n",
    "    'if bob is nice, then bob is dooog'\n",
    "],\n",
    "    [\n",
    "        'IF love(jack, rose) THEN blue(jack)',  # 'if jack loves rose then jack is blue'\n",
    "        'if green(bob) then nice(bob)',\n",
    "        'if nice(bob) then cute(bob)',          # 'all nice bob are cute',\n",
    "        # 'asd',\n",
    "        'if cute(bob) then good(bob)',\n",
    "        'if nice(bob) then dooog(bob)',\n",
    "        \n",
    "    ])"
   ]
  },
  {
   "cell_type": "code",
   "execution_count": 87,
   "metadata": {},
   "outputs": [
    {
     "ename": "TypeError",
     "evalue": "unhashable type: 'list'",
     "output_type": "error",
     "traceback": [
      "\u001b[0;31m---------------------------------------------------------------------------\u001b[0m",
      "\u001b[0;31mTypeError\u001b[0m                                 Traceback (most recent call last)",
      "Cell \u001b[0;32mIn[87], line 1\u001b[0m\n\u001b[0;32m----> 1\u001b[0m {\n\u001b[1;32m      2\u001b[0m     \u001b[38;5;28mlist\u001b[39m({\u001b[38;5;241m1\u001b[39m:\u001b[38;5;241m1\u001b[39m}) : \u001b[38;5;241m5\u001b[39m\n\u001b[1;32m      3\u001b[0m }\n",
      "\u001b[0;31mTypeError\u001b[0m: unhashable type: 'list'"
     ]
    }
   ],
   "source": [
    "{\n",
    "    list({1:1}) : 5\n",
    "}"
   ]
  },
  {
   "cell_type": "code",
   "execution_count": 89,
   "metadata": {},
   "outputs": [
    {
     "data": {
      "text/plain": [
       "[1]"
      ]
     },
     "execution_count": 89,
     "metadata": {},
     "output_type": "execute_result"
    }
   ],
   "source": [
    "a = [1,1]\n",
    "a.remove(1)\n",
    "a"
   ]
  },
  {
   "cell_type": "code",
   "execution_count": 90,
   "metadata": {},
   "outputs": [
    {
     "data": {
      "text/plain": [
       "0"
      ]
     },
     "execution_count": 90,
     "metadata": {},
     "output_type": "execute_result"
    }
   ],
   "source": [
    "a = [1,2]\n",
    "a.index(1)\n"
   ]
  },
  {
   "cell_type": "code",
   "execution_count": 92,
   "metadata": {},
   "outputs": [
    {
     "data": {
      "text/plain": [
       "0"
      ]
     },
     "execution_count": 92,
     "metadata": {},
     "output_type": "execute_result"
    }
   ],
   "source": [
    "'aaa'.find('a')"
   ]
  }
 ],
 "metadata": {
  "kernelspec": {
   "display_name": "env_py",
   "language": "python",
   "name": "python3"
  },
  "language_info": {
   "codemirror_mode": {
    "name": "ipython",
    "version": 3
   },
   "file_extension": ".py",
   "mimetype": "text/x-python",
   "name": "python",
   "nbconvert_exporter": "python",
   "pygments_lexer": "ipython3",
   "version": "3.8.8"
  }
 },
 "nbformat": 4,
 "nbformat_minor": 2
}
