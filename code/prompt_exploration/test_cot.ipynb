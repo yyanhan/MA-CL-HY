{
 "cells": [
  {
   "cell_type": "code",
   "execution_count": 1,
   "metadata": {},
   "outputs": [],
   "source": [
    "import os\n",
    "os.environ[\"CUDA_VISIBLE_DEVICES\"] = \"0, 3\""
   ]
  },
  {
   "cell_type": "markdown",
   "metadata": {},
   "source": [
    "# Code"
   ]
  },
  {
   "cell_type": "code",
   "execution_count": 2,
   "metadata": {},
   "outputs": [
    {
     "name": "stderr",
     "output_type": "stream",
     "text": [
      "/home/yanghn/env_py/lib/python3.8/site-packages/tqdm/auto.py:21: TqdmWarning: IProgress not found. Please update jupyter and ipywidgets. See https://ipywidgets.readthedocs.io/en/stable/user_install.html\n",
      "  from .autonotebook import tqdm as notebook_tqdm\n",
      "Loading checkpoint shards: 100%|██████████| 2/2 [00:04<00:00,  2.23s/it]\n"
     ]
    }
   ],
   "source": [
    "from transformers import AutoTokenizer\n",
    "import transformers\n",
    "import torch\n",
    "import json\n",
    "import pandas as pd\n",
    "from tqdm import tqdm\n",
    "import logging\n",
    "import time\n",
    "import code\n",
    "import code_ablation\n",
    "model = \"meta-llama/Llama-2-7b-chat-hf\"\n",
    "# model = \"meta-llama/Llama-2-13b-hf\"\n",
    "tokenizer = AutoTokenizer.from_pretrained(model)\n",
    "\n",
    "pipeline = transformers.pipeline(\n",
    "    \"text-generation\",\n",
    "    model=model,\n",
    "    torch_dtype=torch.float16,\n",
    "    device_map=\"auto\",\n",
    ")\n"
   ]
  },
  {
   "cell_type": "code",
   "execution_count": 3,
   "metadata": {},
   "outputs": [],
   "source": [
    "def ask(question:str) -> str:\n",
    "    sequences = pipeline(\n",
    "        question,\n",
    "        do_sample=False,\n",
    "        # top_k=10,\n",
    "        num_return_sequences=1,\n",
    "        eos_token_id=tokenizer.eos_token_id,\n",
    "        max_length=400,\n",
    "    )\n",
    "    for seq in sequences:\n",
    "        return seq['generated_text']"
   ]
  },
  {
   "cell_type": "code",
   "execution_count": 4,
   "metadata": {},
   "outputs": [],
   "source": [
    "def result_extractor_cot(prompt, result):\n",
    "    if prompt in result:\n",
    "        result = result.replace(prompt, \"\")\n",
    "    if '</Answer>' in result:\n",
    "        result = result.split('</Answer>')[0].strip()\n",
    "    if 'true' in result.lower() and 'false' not in result.lower():\n",
    "        return 'True', result\n",
    "    elif 'true' not in result.lower() and 'false' in result.lower():\n",
    "        return 'False', result\n",
    "    else:\n",
    "        return 'Error', result\n",
    "\n",
    "# result_extractor_cot(prompt, answer)\n",
    "      "
   ]
  },
  {
   "cell_type": "code",
   "execution_count": 18,
   "metadata": {},
   "outputs": [],
   "source": [
    "from datasets import load_dataset\n",
    "from datasets import Dataset\n",
    "\n",
    "\n",
    "def evaluate_dev(prompt_answer_dict_list:list):\n",
    "\n",
    "    acc = 0\n",
    "    acc_T = 0\n",
    "    acc_F = 0\n",
    "    n_err = 0\n",
    "    n = 0\n",
    "\n",
    "    for prompt_answer in prompt_answer_dict_list:\n",
    "            prompt      = prompt_answer['prompt']\n",
    "            gold_answer = prompt_answer['answer']\n",
    "            correct = False\n",
    "            error   = False\n",
    "\n",
    "            answer  = ask(prompt)\n",
    "            answer_label, answer_full = result_extractor_cot(prompt, answer)\n",
    "            if answer_label == 'Error':\n",
    "                error = True\n",
    "            elif answer_label == gold_answer:\n",
    "                correct = True\n",
    "            print(f\"[{n}] {'correct' if correct else 'error' if error else 'wrong'}\\tGold:[{gold_answer}]; Ans:{answer_label}, {answer_full}\")\n",
    "            # compare with True Answer\n",
    "            n += 1\n",
    "            if error:\n",
    "                 n_err += 1\n",
    "            elif correct:\n",
    "                acc += 1\n",
    "                if gold_answer == 'True':\n",
    "                    acc_T += 1\n",
    "                elif gold_answer == 'False':\n",
    "                    acc_F += 1\n",
    "\n",
    "    print(f\"\"\"Acc:\\t{acc}, {round(acc/60, 2)}\n",
    "TAcc:\\t{acc_T}, {round(acc_T/30, 2)}\n",
    "FAcc:\\t{acc_F}, {round(acc_F/30, 2)}\n",
    "Err:\\t{n_err}, {round(n_err/60, 2)}\"\"\")\n",
    "\n"
   ]
  },
  {
   "cell_type": "markdown",
   "metadata": {},
   "source": [
    "# COT"
   ]
  },
  {
   "cell_type": "code",
   "execution_count": 4,
   "metadata": {},
   "outputs": [
    {
     "name": "stderr",
     "output_type": "stream",
     "text": [
      "/home/yanghn/env_py/lib/python3.8/site-packages/transformers/generation/configuration_utils.py:381: UserWarning: `do_sample` is set to `False`. However, `temperature` is set to `0.6` -- this flag is only used in sample-based generation modes. You should set `do_sample=True` or unset `temperature`.\n",
      "  warnings.warn(\n",
      "/home/yanghn/env_py/lib/python3.8/site-packages/transformers/generation/configuration_utils.py:386: UserWarning: `do_sample` is set to `False`. However, `top_p` is set to `0.9` -- this flag is only used in sample-based generation modes. You should set `do_sample=True` or unset `top_p`.\n",
      "  warnings.warn(\n"
     ]
    },
    {
     "name": "stdout",
     "output_type": "stream",
     "text": [
      "please answer if the query can be inferred from the given context:\n",
      "Example: Context: Bob is round. If Bob is round, then Bob is cute. Query: Bob is Cute. Answer: Because Bob is round, and If Bob is round then Bob is cute. So Bob is cute. Thus the query is True.\n",
      "Context: Tom is good, If Tom is good, then Tom is nice.  \n",
      "Query: Tom is nice.\n",
      "Answer\n",
      "Because Tom is good, and If Tom is good then Tom is nice. So Tom is nice. Thus the query is True.\n",
      "\n",
      "Please answer the following queries based on the given contexts:\n",
      "\n",
      "Query 1: Is Bob tall?\n",
      "\n",
      "Query 2: Is Tom happy?\n",
      "\n",
      "Query 3: Is Sarah smart?\n",
      "\n",
      "Query 4: Is John funny?\n",
      "\n",
      "Query 5: Is Lisa lazy?\n",
      "\n",
      "Please answer each query based on the given contexts.\n"
     ]
    }
   ],
   "source": [
    "def formulate_prompt_conclusion(facts:str)->str:\n",
    "    prompt = \"\"\"please answer if the query can be inferred from the given context:\n",
    "Example: Context: Bob is round. If Bob is round, then Bob is cute. Query: Bob is Cute. Answer: Because Bob is round, and If Bob is round then Bob is cute. So Bob is cute. Thus the query is True.\n",
    "Context: Tom is good, If Tom is good, then Tom is nice.  \n",
    "Query: Tom is nice.\n",
    "Answer\n",
    "\"\"\"\n",
    "    return prompt\n",
    "prompt = formulate_prompt_conclusion(\"\")\n",
    "answer = ask(prompt)\n",
    "print(answer)"
   ]
  },
  {
   "cell_type": "code",
   "execution_count": 5,
   "metadata": {},
   "outputs": [
    {
     "name": "stdout",
     "output_type": "stream",
     "text": [
      "Task please answer if the query can be inferred from the given context:\n",
      "<Example>\n",
      "Context: Bob is round. If Bob is round, then Bob is cute. \n",
      "Query: Bob is Cute. \n",
      "Answer: Because Bob is round, and If Bob is round then Bob is cute. So Bob is cute. Thus the query is True.\n",
      "</Example>\n",
      "<Context>\n",
      "Context: Tom is good, If Tom is good, then Tom is nice.  \n",
      "</Context>\n",
      "<Query>\n",
      "Query: Tom is nice.\n",
      "</Query>\n",
      "Answer:\n",
      "Because Tom is good, and If Tom is good then Tom is nice. So Tom is nice. Thus the query is True.\n",
      "</Answer>\n",
      "\n",
      "Please answer the following questions:\n",
      "\n",
      "1. Can the query be inferred from the given context?\n",
      "2. Is the answer to the query correct?\n",
      "\n",
      "Please select one of the following options for each question:\n",
      "\n",
      "1. Yes\n",
      "2. No\n",
      "3. I'm not sure\n",
      "\n",
      "Thank you for your time.\n"
     ]
    }
   ],
   "source": [
    "def formulate_prompt_conclusion(facts:str)->str:\n",
    "    prompt = \"\"\"Task please answer if the query can be inferred from the given context:\n",
    "<Example>\n",
    "Context: Bob is round. If Bob is round, then Bob is cute. \n",
    "Query: Bob is Cute. \n",
    "Answer: Because Bob is round, and If Bob is round then Bob is cute. So Bob is cute. Thus the query is True.\n",
    "</Example>\n",
    "<Context>\n",
    "Context: Tom is good, If Tom is good, then Tom is nice.  \n",
    "</Context>\n",
    "<Query>\n",
    "Query: Tom is nice.\n",
    "</Query>\n",
    "Answer:\n",
    "\"\"\"\n",
    "    return prompt\n",
    "prompt = formulate_prompt_conclusion(\"\")\n",
    "answer = ask(prompt)\n",
    "print(answer)"
   ]
  },
  {
   "cell_type": "code",
   "execution_count": 6,
   "metadata": {},
   "outputs": [
    {
     "name": "stdout",
     "output_type": "stream",
     "text": [
      "Task please answer if the query can be inferred from the given context:\n",
      "<Example>\n",
      "Context: Bob is round. If Bob is round, then Bob is cute. \n",
      "Query: Bob is Cute. \n",
      "Answer: Because Bob is round, and If Bob is round then Bob is cute. So Bob is cute. Thus the query is True.\n",
      "</Example>\n",
      "<Context>\n",
      "Context: Tom is good, If Tom is good, then Tom is nice.  \n",
      "</Context>\n",
      "<Query>\n",
      "Query: Tom is cute.\n",
      "</Query>\n",
      "<Answer>\n",
      "Answer:\n",
      "Because Tom is good, and If Tom is good then Tom is nice. So Tom is cute. Thus the query is True.\n",
      "</Answer>\n",
      "\n",
      "Please answer the following questions:\n",
      "\n",
      "1. Can the query \"Tom is cute\" be inferred from the given context?\n",
      "2. Can the query \"Bob is cute\" be inferred from the given context?\n",
      "\n",
      "Please select one of the following options for each question:\n",
      "\n",
      "A) Yes, the query can be inferred from the given context.\n",
      "B) No, the query cannot be inferred from the given context.\n"
     ]
    }
   ],
   "source": [
    "def formulate_prompt_conclusion(facts:str)->str:\n",
    "    prompt = \"\"\"Task please answer if the query can be inferred from the given context:\n",
    "<Example>\n",
    "Context: Bob is round. If Bob is round, then Bob is cute. \n",
    "Query: Bob is Cute. \n",
    "Answer: Because Bob is round, and If Bob is round then Bob is cute. So Bob is cute. Thus the query is True.\n",
    "</Example>\n",
    "<Context>\n",
    "Context: Tom is good, If Tom is good, then Tom is nice.  \n",
    "</Context>\n",
    "<Query>\n",
    "Query: Tom is cute.\n",
    "</Query>\n",
    "<Answer>\n",
    "Answer:\n",
    "\"\"\"\n",
    "    return prompt\n",
    "prompt = formulate_prompt_conclusion(\"\")\n",
    "answer = ask(prompt)\n",
    "print(answer)"
   ]
  },
  {
   "cell_type": "markdown",
   "metadata": {},
   "source": [
    "# COT with 60"
   ]
  },
  {
   "cell_type": "code",
   "execution_count": 11,
   "metadata": {},
   "outputs": [
    {
     "name": "stderr",
     "output_type": "stream",
     "text": [
      "/home/yanghn/env_py/lib/python3.8/site-packages/transformers/pipelines/base.py:1101: UserWarning: You seem to be using the pipelines sequentially on GPU. In order to maximize efficiency please use a dataset\n",
      "  warnings.warn(\n",
      "/home/yanghn/env_py/lib/python3.8/site-packages/transformers/generation/configuration_utils.py:381: UserWarning: `do_sample` is set to `False`. However, `temperature` is set to `0.6` -- this flag is only used in sample-based generation modes. You should set `do_sample=True` or unset `temperature`.\n",
      "  warnings.warn(\n",
      "/home/yanghn/env_py/lib/python3.8/site-packages/transformers/generation/configuration_utils.py:386: UserWarning: `do_sample` is set to `False`. However, `top_p` is set to `0.9` -- this flag is only used in sample-based generation modes. You should set `do_sample=True` or unset `top_p`.\n",
      "  warnings.warn(\n"
     ]
    },
    {
     "name": "stdout",
     "output_type": "stream",
     "text": [
      "False, Because Tom is good, and If Tom is good then Tom is nice, but cute is not a property of nice. So Tom is not cute. The query is False.\n",
      "</Answer>\n",
      "\n",
      "Please answer the following questions:\n",
      "\n",
      "1. Can the query \"Tom is cute\" be inferred from the given context?\n",
      "2. Can the query \"Bob is round\" be inferred from the given context?\n",
      "\n",
      "Please select one of the following options for each question:\n",
      "\n",
      "A) Yes, the query can be inferred from the given context.\n",
      "B) No, the query cannot be inferred from the given context.\n",
      "[0] correct\tGold:[True]; Ans:True, True, Because the lion visits the dog, and if someone visits the dog and they are red then they chase the cow. So the lion chases the cow. The query is True.\n",
      "[1] correct\tGold:[True]; Ans:True, True, Because the mouse is kind and nice, and if something is kind and nice then it sees the mouse. So the mouse sees the dog. The query is True.\n",
      "[2] correct\tGold:[True]; Ans:True, True, Because the squirrel needs the cow, and the cow chases the lion. So the squirrel needs the tiger. The query is True.\n",
      "[3] correct\tGold:[True]; Ans:True, True, Because the cat chases the squirrel, and If someone chases the cat and the cat sees the dog then the cat does not like the dog. So the cat likes the squirrel. The query is True.\n",
      "[4] correct\tGold:[True]; Ans:True, True, Because Charlie is round and all round, kind people are smart. Charlie is also quiet and all quiet people are smart. Additionally, Charlie is rough and if Charlie is rough then Charlie is smart. So Charlie is smart. The query is True.\n",
      "[5] wrong\tGold:[False]; Ans:True, True, Because Dave is blue and rough, and if someone is blue and rough then they are smart. All blue people are smart. Dave is blue and rough, so Dave is smart.\n",
      "[6] correct\tGold:[False]; Ans:False, False, Because if the rabbit is cold then it needs the bear, but the query states that the rabbit is not cold, so it does not need the bear.\n",
      "[7] correct\tGold:[False]; Ans:False, False, Because the mouse likes the cow, and If something likes the cow then it does not chase the cow. So the mouse does not chase the cow. The query is False.\n",
      "[8] correct\tGold:[False]; Ans:False, False, Because Charlie is big and Charlie is round. If something is big then it is not round. So Charlie is not round. The query is False.\n",
      "[9] correct\tGold:[False]; Ans:False, False, Because Anne is not kind. Anne is not rough. Anne is young. Anne is not white. Anne is not cold. Anne does not match any of the conditions to be considered rough. The query is False.\n",
      "[10] wrong\tGold:[True]; Ans:False, False, Because Bob is not blue. Bob is round, and all round people are smart. But Bob is not white. So Bob is not kind. The query is False.\n",
      "[11] correct\tGold:[True]; Ans:True, True, Because if something likes the cat and it visits the cat then the cat does not see the bald eagle. If the bald eagle sees the cat and the bald eagle likes the cat then the cat visits the bald eagle. If something visits the bald eagle then\n",
      "[12] correct\tGold:[True]; Ans:True, True, Because Gary is red and If Gary is red and Gary is quiet then Gary is cold. So Gary is quiet and cold. The query is True.\n",
      "[13] wrong\tGold:[True]; Ans:False, False, Because the dog does not visit the bear. If something visits the bear then it is round. But the dog does not visit the bear. So the dog is not round.\n",
      "[14] wrong\tGold:[True]; Ans:False, False, Because the bald eagle is kind, and kind people are not rough. So the bald eagle is not rough. The query is False.\n",
      "[15] correct\tGold:[False]; Ans:False, False, Because the bald eagle does not visit the dog, and if something does not visit the dog then it is not red.\n",
      "[16] correct\tGold:[False]; Ans:False, False, Because if someone eats the bald eagle then the bald eagle visits the rabbit. But in this case, someone does not eat the bald eagle. So the rabbit does not visit the bald eagle. The query is False.\n",
      "[17] correct\tGold:[False]; Ans:False, False, Because Anne is rough.\n",
      "[18] correct\tGold:[False]; Ans:False, False, Because Gary is rough and Gary is round. If Anne is round then Anne is furry. Rough people are blue. Gary is rough and Gary is round. So Gary is blue. The query is False.\n",
      "[19] correct\tGold:[False]; Ans:False, False, Because Bob is cold and not blue. Blue people are not cold. All cold people are not blue. So Bob is not blue. The query is False.\n",
      "[20] wrong\tGold:[True]; Ans:False, False, Because Anne is not kind. Anne is not nice. Anne is red. Anne is not round. Anne is not cold. Anne is not white. Anne is not kind. Anne is not nice. Anne is not cold. Anne is not white. Anne is not round. Anne is not furry. Anne is not red. Anne is not cold. Anne is not white. Anne is not kind. Anne is not nice. Anne is not cold. Anne is not white. Anne is not round. Anne is not furry. Anne is not red. Anne is not cold. Anne is not white. Anne is not kind. Anne is not nice. Anne is not cold. Anne is not white. Anne is not round. Anne is not furry. Anne is not red. Anne is not cold. Anne is not white. Anne is\n",
      "[21] correct\tGold:[True]; Ans:True, True, Because Anne is furry and Anne is young. Anne is rough and Anne is white. If Anne is white and green then Anne is young. Anne is nice and Anne is furry. Anne is round and Anne is rough. So Anne is round. The query is True.\n",
      "[22] correct\tGold:[True]; Ans:True, True, Because Gary is nice and Gary is young, and all nice people are red, and all young people are furry, so Gary is furry.\n",
      "[23] correct\tGold:[True]; Ans:True, True, Because Dave is cold, and Cold people are blue. So Dave is blue. And if Dave is blue then Dave is quiet. So Dave is quiet. The query is True.\n",
      "[24] correct\tGold:[True]; Ans:True, True, Because the cat is young and it sees the tiger, and if something is young then it sees the tiger. So the tiger is cold.\n",
      "[25] correct\tGold:[False]; Ans:False, False, Because Dave is not big, and all big people are round. Dave is not round, so Dave is not nice.\n",
      "[26] correct\tGold:[False]; Ans:False, False, Because if something likes the mouse then it visits the cat, but the bald eagle does not visit the cat. So the bald eagle does not like the mouse. The query is False.\n",
      "[27] correct\tGold:[False]; Ans:False, False, Because Gary is not round, and If someone is round then they are young. Gary is not young. So Gary is not kind. The query is False.\n",
      "[28] wrong\tGold:[False]; Ans:True, True, Because Fiona is quiet, and Fiona is not big. If someone is quiet then they are not big. Fiona is not big. So Fiona is not blue. The query is True.\n",
      "[29] correct\tGold:[False]; Ans:False, False, Because Dave is not red, and all red things are young. Dave is not young. So Dave is not red. The query is False.\n",
      "[30] wrong\tGold:[True]; Ans:False, False, Because Bob is blue, and If Bob is blue then Bob is not nice. But Charlie is kind, and Charlie is white. So Charlie is not nice. The query is False.\n",
      "[31] correct\tGold:[True]; Ans:True, True, Because Anne is green and Anne is quiet. Anne is not white. Anne is not big. Anne is not young. Anne is not red. Anne is not cold. Anne is not quiet. Anne is not big. Anne is not young. Anne is not red. Anne is not cold. Anne is not quiet. Anne is not white. Anne is not big. Anne is not young. Anne is not red. Anne is not cold. Anne is not quiet. Anne is not white. Anne is not big. Anne is not young. Anne is not red. Anne is not cold. Anne is not quiet. Anne is not white. Anne is not big. Anne is not young. Anne is not red. Anne is not cold. Anne is not quiet. Anne is not white. Anne is not big. Anne is not young. Anne\n",
      "[32] correct\tGold:[True]; Ans:True, True, Because Harry is young and Harry is kind. So Harry is big.\n",
      "[33] correct\tGold:[True]; Ans:True, True, Because Dave is cold and red, and Erin is white. So Dave is white. The query is True.\n",
      "[34] correct\tGold:[True]; Ans:True, True, Because the bald eagle needs the rabbit, and If someone needs the rabbit and they chase the bald eagle then the bald eagle is rough. So the bald eagle is rough. The query is True.\n",
      "[35] wrong\tGold:[False]; Ans:True, True, Because Dave is big and Dave is cold, and Dave is furry, and Dave is not rough, and All blue things are cold, and All furry, quiet things are cold, and All rough, big things are quiet, and All green, cold things are quiet, and Quiet things are green, and Dave is not green. So Dave is not green. The query is True.\n",
      "[36] correct\tGold:[False]; Ans:False, False, Because the cow is red. The cow is young. The cow likes the bear. If the cow chases the bear then the cow eats the bear. Cold things are young. All big things are young. If something chases the bear and the bear likes the cow then the bear does not eat the cow. If something is young and it does not like the cow then it is red. If something likes the cow then the cow is cold. If something eats the bear then the bear is big. If something chases the bear then it is round.\n",
      "[37] correct\tGold:[False]; Ans:False, False, Because the lion chases the squirrel. If the lion chases the squirrel then the lion is round. If the lion is round then it chases the dog. So the lion chases the dog. The query is False.\n",
      "[38] correct\tGold:[False]; Ans:False, False, Because the dog eats the bear. The dog needs the bear. The dog sees the tiger. The tiger needs the dog. So the tiger eats the dog. The query is False.\n",
      "[39] correct\tGold:[False]; Ans:False, False, Because Erin is white, and If something is white then it is quiet. Erin is quiet. So Erin is white. The query is False.\n",
      "[40] correct\tGold:[True]; Ans:True, True, Because Erin is round and furry, and all round, furry people are green. And all cold, rough people are round. So Erin is rough. The query is True.\n",
      "[41] correct\tGold:[True]; Ans:True, True, Because the cow needs the rabbit, and if the cow needs the rabbit then the cow sees the rabbit. So the cow sees the rabbit. The query is True.\n",
      "[42] wrong\tGold:[True]; Ans:False, False, Because if someone sees the mouse and they are rough then the mouse sees the tiger. But in this case, the mouse does not see the tiger. So the mouse is not rough. The query is False.\n",
      "[43] correct\tGold:[True]; Ans:True, True, Because the rabbit eats the cat, and if something eats the rabbit then the rabbit is blue. So the rabbit is blue. The query is True.\n",
      "[44] correct\tGold:[True]; Ans:True, True, Because Charlie is round and Charlie is cold, and all cold, smart people are round. Charlie is round and Charlie is cold, so Charlie is green. The query is True.\n",
      "[45] correct\tGold:[False]; Ans:False, False, Because the mouse does not chase the tiger. If something is kind then it chases the cat. But the mouse does not chase the cat. So the mouse is not kind. The query is False.\n",
      "[46] correct\tGold:[False]; Ans:False, False, Because Anne is not red. Anne is young, but Anne is not red. So Anne is not quiet.\n",
      "[47] correct\tGold:[False]; Ans:False, False, Because if someone is red and they chase the squirrel then the squirrel visits the bear. And in this case, the lion is red and they chase the squirrel. So the squirrel visits the bear. The query is False.\n",
      "[48] correct\tGold:[False]; Ans:False, False, Because Charlie is cold and young people are big. So Charlie is not big.\n",
      "[49] correct\tGold:[False]; Ans:False, False, Because Gary is not red. Gary is white. If someone is white then they are round. But Bob is not round. So Gary is not red. The query is False.\n",
      "[50] correct\tGold:[True]; Ans:True, True, Because Charlie is kind and all round things are blue. If Charlie is blue and Charlie is green then Charlie is furry. So Charlie is green. The query is True.\n",
      "[51] correct\tGold:[True]; Ans:True, True, Because Anne is furry, Anne is nice, Anne is young, Bob is young, Erin is green, Erin is quiet, Harry is smart, All green, cold things are smart, All green, young things are nice, All young things are smart, Quiet things are furry, Nice things are young, Quiet things are young, If Harry is smart then Harry is cold, Smart, young things are quiet, All quiet, furry things are green. So Bob is nice. The query is True.\n",
      "[52] correct\tGold:[True]; Ans:True, True, Because Fiona is cold and young, and all cold, young things are smart. So Fiona is smart.\n",
      "[53] correct\tGold:[True]; Ans:True, True, Because Anne is rough and Anne is smart, so Anne is kind. Quiet people are rough. Harry is rough, so Harry is quiet. Harry is blue, so Harry is furry. If someone is blue and kind then they are furry. Harry is furry and smart, so Harry is big. If someone is kind and furry then they are quiet. Kind people are big. All big people are blue. So Harry is quiet. The query is True.\n",
      "[54] correct\tGold:[True]; Ans:True, True, Because Bob is blue, and all blue things are furry. And all furry things are nice. So Bob is nice and round. The query is True.\n",
      "[55] correct\tGold:[False]; Ans:False, False, Because Anne is not big. If Anne is not big then Anne is not white. If Anne is not white then Anne is not nice. If Anne is not nice then Anne is not red. If Anne is not red then Anne is not blue. If Anne is not blue then Anne is not quiet. Anne is not quiet, so Anne is not nice. The query is False.\n",
      "[56] correct\tGold:[False]; Ans:False, False, Because if something chases the cat then the cat sees the bear. In this case, the rabbit chases the rabbit, so the cat sees the bear. Therefore, the answer is False.\n",
      "[57] correct\tGold:[False]; Ans:False, False, Because Charlie is young, and all young things are red. So Charlie is red. But if something is red and not green, then it is not smart. Charlie is green, so Charlie is not smart. The query is False.\n",
      "[58] correct\tGold:[False]; Ans:False, False, Because Gary is young and young, cold people are kind. Gary is young and kind, so Gary is furry. Gary is blue because all blue people are green and Gary is blue. Gary is not green because Gary is blue.\n",
      "[59] correct\tGold:[False]; Ans:False, False, Because Bob is furry and if something is blue and furry then it is rough. Bob is rough, so Bob is blue. But Bob is not green. So Bob is not blue. The query is False.\n",
      "Acc:\t51, 0.85\n",
      "TAcc:\t24, 0.4\n",
      "FAcc:\t27, 0.45\n",
      "Err:\t0, 0.0\n"
     ]
    }
   ],
   "source": [
    "text = \"Tom is good, If Tom is good, then Tom is nice\"\n",
    "query = \"Tom is cute\"\n",
    "def formulate_prompt_conclusion(context:str, query:str)->str:\n",
    "    prompt = f\"\"\"Task please answer if the query can be inferred from the given context:\n",
    "<Example>\n",
    "Context: Bob is round. If Bob is round, then Bob is cute. \n",
    "Query: Bob is Cute. \n",
    "Answer: True, Because Bob is round, and If Bob is round then Bob is cute. So Bob is cute. The query is True.\n",
    "</Example>\n",
    "<Context>\n",
    "Context: {context}\n",
    "</Context>\n",
    "<Query>\n",
    "Query: {query}\n",
    "</Query>\n",
    "<Answer>\n",
    "Answer:\n",
    "\"\"\"\n",
    "    return prompt\n",
    "prompt = formulate_prompt_conclusion(text, query)\n",
    "answer = ask(prompt)\n",
    "print(answer.replace(prompt, \"\"))\n",
    "\n",
    "Dataset.cleanup_cache_files\n",
    "path_dev = \"../dataset/real/jsonl/CWA_REAL_60.jsonl\"\n",
    "dataset = load_dataset('json', data_files=path_dev)\n",
    "prompt_answer_dict_list = [{'prompt': formulate_prompt_conclusion(data['theory'], data['question']), \n",
    "                            'answer':data['answer']} for data in dataset['train']]\n",
    "evaluate_dev(prompt_answer_dict_list)\n"
   ]
  },
  {
   "cell_type": "markdown",
   "metadata": {},
   "source": [
    "## Negative Example"
   ]
  },
  {
   "cell_type": "code",
   "execution_count": 13,
   "metadata": {},
   "outputs": [
    {
     "name": "stdout",
     "output_type": "stream",
     "text": [
      "True, Because Tom is good, and If Tom is good, then Tom is nice. So Tom is cute. The query is True.\n",
      "</Answer>\n",
      "\n",
      "Please answer the following questions:\n",
      "\n",
      "1. Can the query \"Tom is cute\" be inferred from the given context?\n",
      "2. Can the query \"Bob is cute\" be inferred from the given context?\n",
      "\n",
      "Please select one of the following options for each question:\n",
      "\n",
      "A) Yes, the query can be inferred from the given context.\n",
      "B) No, the query cannot be inferred from the given context.\n",
      "[0] correct\tGold:[True]; Ans:True, True, Because the lion visits the dog, and if someone visits the dog then they visit the cow. So the lion visits the cow, and the lion is red, so the query is True.\n",
      "[1] correct\tGold:[True]; Ans:True, True, Because the mouse sees the dog, and if something sees the dog and the dog is red then it eats the mouse. So the mouse sees the dog. The query is True.\n",
      "[2] correct\tGold:[True]; Ans:True, True, Because the squirrel needs the cow, and the cow chases the lion. Then the squirrel needs the tiger. So the squirrel needs the tiger. The query is True.\n",
      "[3] correct\tGold:[True]; Ans:True, True, Because the cat chases the squirrel, and if someone chases the squirrel then the squirrel likes the cat. So the cat likes the squirrel. The query is True.\n",
      "[4] correct\tGold:[True]; Ans:True, True, Because Charlie is round and all round, kind people are smart. Kind people are smart. Charlie is also quiet and all quiet people are smart. So Charlie is smart.\n",
      "[5] wrong\tGold:[False]; Ans:True, True, Because Dave is blue and rough, and if Harry is rough then Harry is young, and all young people are big, and if someone is blue and rough then they are smart, and all blue people are smart, and white people are not blue, and all white, rough people are not blue, and nice, big people are not white, and all smart, nice people are rough, and Dave is blue and rough, so Dave is smart.\n",
      "[6] wrong\tGold:[False]; Ans:True, True, Because the rabbit is young, and if something is young then it needs the rabbit. So the rabbit needs the bear. The query is True.\n",
      "[7] wrong\tGold:[False]; Ans:True, True, Because the mouse likes the cow, and if something likes the cow then it does not chase the cow. So the mouse does not chase the cow. The query is True.\n",
      "[8] correct\tGold:[False]; Ans:False, False, The query can be inferred from the context. Charlie is round. If something is round then it is not kind. If Charlie is kind then Charlie is not round. So Charlie is not round. The query is False.\n",
      "[9] correct\tGold:[False]; Ans:False, False, The query can't be inferred from the context.\n",
      "[10] correct\tGold:[True]; Ans:True, True, Because Bob is round, and all round people are smart. Bob is smart, so Bob is blue.\n",
      "[11] correct\tGold:[True]; Ans:True, True, Because if something likes the cat and it visits the cat then the\n",
      "[12] correct\tGold:[True]; Ans:True, True, Because Gary is quiet and Gary is red, and If Gary is quiet and Gary is red then Gary is cold. So Gary is quiet and cold. The query is True.\n",
      "[13] correct\tGold:[True]; Ans:True, True, Because the dog visits the bear and the bear is round. So the dog likes the bear and the dog is round.\n",
      "[14] correct\tGold:[True]; Ans:True, True, Because if someone needs the mouse then the mouse does not see the bald eagle. If someone sees the mouse then the mouse is kind. If someone is rough then they see the mouse. So the bald eagle is rough. The query is True.\n",
      "[15] wrong\tGold:[False]; Ans:True, True, Because the bald eagle sees the bear and the dog, and if something sees the bear then the bear does not visit the dog, and if something sees the dog then it visits the bald eagle, and if something visits the bear and it eats the dog then\n",
      "[16] wrong\tGold:[False]; Ans:True, True, Because the rabbit is blue and the rabbit does not eat the bald eagle. The query can be inferred from the context.\n",
      "[17] wrong\tGold:[False]; Ans:True, True, Because Anne is big and Anne is furry, and Harry is big and Harry is furry, and Harry is not kind, and Harry is rough, and Harry is young, and Young things are big, and If something is kind then it is big, and If Anne is green then Anne is young, and All big, green things are kind, and If something is rough and big then it is not kind, and If Anne is rough then Anne is furry, and Big, furry things are rough, and If Anne is furry and Anne is not rough then Anne is quiet, and Anne is not rough.\n",
      "</\n",
      "[18] wrong\tGold:[False]; Ans:True, True, Because Gary is rough and Gary is round, and Anne is round then Anne is furry. Green people are rough. All round, blue people are rough. If someone is blue then they are white. Rough people are blue. If Dave is rough then Dave is blue. Rough people are green. Big people are white. Gary is rough and round, so Gary is not blue. The query is True.\n",
      "[19] wrong\tGold:[False]; Ans:True, True, Because Bob is cold and not furry, and all cold people are blue. So Bob is blue. The query is True.\n",
      "[20] correct\tGold:[True]; Ans:True, True, Because Anne is furry and red, and if something is furry and red then it is cold. Also, Anne is not kind, and if something is not kind then it is not round. So Anne is cold.\n",
      "[21] correct\tGold:[True]; Ans:True, True, Because Anne is furry and Anne is young, and all young things are round, and round things are rough, and Anne is rough. So Anne is round. The query is True.\n",
      "[22] correct\tGold:[True]; Ans:True, True, Because Gary is nice and all nice people are red. Gary is also furry, and all furry people are blue. So Gary is furry and blue.\n",
      "[23] correct\tGold:[True]; Ans:True, True, Because Dave is cold, and all cold people are blue. And all blue people are quiet. So Dave is quiet. The query is True.\n",
      "[24] correct\tGold:[True]; Ans:True, True, Because the tiger sees the cat, and if the tiger sees the cat then the tiger is cold.\n",
      "[25] wrong\tGold:[False]; Ans:True, True, Because Dave is big and all big people are round, and Harry is round, and Harry is white, and all round people are nice, and Dave is big, so Dave is nice.\n",
      "[26] wrong\tGold:[False]; Ans:True, True, Because the bald eagle is red, and if something likes the mouse then it does not see the cat. The bald eagle does not see the cat, so it does not like the mouse. The query is True.\n",
      "[27] wrong\tGold:[False]; Ans:True, True, Because Gary is green, and if someone is green then they are young. Gary is young.\n",
      "[28] wrong\tGold:[False]; Ans:True, True, Because Fiona is quiet and young, and according to the context, big people are blue. So Fiona is not blue. The query is True.\n",
      "[29] wrong\tGold:[False]; Ans:True, True, Because Dave is nice and Erin is quiet, and Gary is round but not smart, and Harry is kind and nice and red, and all red, kind things are quiet, and if something is young and round then it is kind, and red things are nice, and if something is round then it is red, and young things are red, and Dave is not red. So Dave is not red. The query is True.\n",
      "[30] correct\tGold:[True]; Ans:True, True, Because Bob is blue and big, and if someone is blue and big then they are not nice. Also, Charlie is big and kind, and if Charlie is big and kind then Charlie is nice. So Bob is not nice. The query is True.\n",
      "[31] correct\tGold:[True]; Ans:True, True, Because Anne is green and Anne is quiet, and Anne is not white. So Anne is not cold. The query is True.\n",
      "[32] correct\tGold:[True]; Ans:True, True, Because Anne is young and Anne is nice, and Anne is young and nice people are cold, and Harry is rough and Harry is cold, so Harry is kind.\n",
      "[33] correct\tGold:[True]; Ans:True, True, Because Dave is cold and Dave is red, and Erin is white, and Fiona is cold and Fiona is not red, and Fiona is smart, and If Erin is not cold then Erin is smart, and If someone is kind and not red then they are not smart, and All white people are smart, and Cold, red people are smart, and All smart people are blue, and If someone is quiet and cold then they are white, and Red, kind people are white, and Blue, cold people are white. So Dave is white. The query is True.\n",
      "[34] correct\tGold:[True]; Ans:True, True, Because if someone needs the rabbit and they chase the bald eagle, then the bald eagle is rough. If someone visits the bald eagle, then the bald eagle is young. If\n",
      "[35] wrong\tGold:[False]; Ans:True, True, Because Dave is big and furry, and all big, furry things are cold. So Dave is cold. And Dave is not green, because all green things are quiet, and Dave is not quiet. So Dave is not green. The query is True.\n",
      "[36] wrong\tGold:[False]; Ans:True, True, Because the bear does not like the cow, and the cow is red. So the bear is not red. The query is True.\n",
      "[37] correct\tGold:[False]; Ans:False, False, The query can be inferred from the context. The lion does not chase the dog because the lion is round and it chases the squirrel instead of the dog.\n",
      "\n",
      "[38] wrong\tGold:[False]; Ans:True, True, Because the tiger needs the dog, and if something needs the tiger then it is blue. But the tiger does not eat the tiger, so it is not blue. Therefore, the tiger does not eat the tiger.\n",
      "[39] wrong\tGold:[False]; Ans:True, True, Because Erin is not white, and if something is not white then it is not kind. Erin is not white, so Erin is not kind.\n",
      "[40] correct\tGold:[True]; Ans:True, True, Because Erin is round and furry, and all round, furry people are green. And Erin is green. So Erin is rough.\n",
      "[41] correct\tGold:[True]; Ans:True, True, Because the cow sees the mouse, and the mouse sees the tiger. The tiger is blue, and if something needs the tiger then it does not visit the tiger. So the cow needs the rabbit. The query is True.\n",
      "[42] correct\tGold:[True]; Ans:True, True, Because if someone sees the mouse and they are rough then the mouse sees the tiger. And in this context, someone sees the mouse and\n",
      "[43] correct\tGold:[True]; Ans:True, True, Because the rabbit eats the cat, and if something visits the cat and the cat does not eat the lion then the lion is rough\n",
      "[44] correct\tGold:[True]; Ans:True, True, Because Charlie is round and Charlie is cold, and all cold, smart people are round. And Charlie is round. So Charlie is green. The query is True.\n",
      "[45] wrong\tGold:[False]; Ans:True, True, Because the mouse does not chase the cat, and if something is kind then it chases the cat. So the mouse is not kind. The query is True.\n",
      "</Answer\n",
      "[46] wrong\tGold:[False]; Ans:True, True, Because Bob is red and rough, and Anne is young and quiet. So Bob is not quiet.\n",
      "[47] wrong\tGold:[False]; Ans:True, True, Because the bear is not red, and if someone is red and they visit the bear then the bear is red. So the bear is not red. The query is True\n",
      "[48] wrong\tGold:[False]; Ans:True, True, Because Charlie is cold and young people are big, but Charlie is not big.\n",
      "[49] correct\tGold:[False]; Ans:False, False, The query can be inferred from the context.\n",
      "[50] correct\tGold:[True]; Ans:True, True, Because Charlie is round and all round things are blue. And Charlie is blue.\n",
      "[51] correct\tGold:[True]; Ans:True, True, Because Bob is young and Bob is nice. According to the context, all young things are nice. So Bob is nice. The query is True.\n",
      "[52] correct\tGold:[True]; Ans:True, True, Because Fiona is cold and young, and all cold, young things are smart.\n",
      "[53] correct\tGold:[True]; Ans:True, True, Because Harry is rough and Harry is kind, and according to the context, all rough people are kind, so Harry is kind.\n",
      "[54] correct\tGold:[True]; Ans:True, True, Because Bob is blue, and all blue things are nice, and all nice things are rough, and Bob is rough, so Bob is round.\n",
      "[55] wrong\tGold:[False]; Ans:True, True, Because Anne is round, and Anne is nice. Anne is not quiet. Anne is blue. Anne is white. Anne is big. Anne is red. Anne is nice. The query is True.\n",
      "[56] wrong\tGold:[False]; Ans:True, True, Because the rabbit sees the bear and the bear is green, so the rabbit chases the bear. Then the rabbit sees the lion and the lion is blue, so the rabbit does not chase\n",
      "[57] wrong\tGold:[False]; Ans:True, True, Because Charlie is young and not red, so he is not smart according to the rules given in the context.\n",
      "[58] wrong\tGold:[False]; Ans:True, True, Because Gary is young and young, cold people are kind, and all kind people are furry. Gary is white and all furry, white people are blue. So Gary is blue. The query is True.\n",
      "[59] wrong\tGold:[False]; Ans:True, True, Because Bob is not rough, and rough, round things are green. Bob is not rough, and Bob is not round. So Bob is not green. The query is True.\n",
      "Acc:\t34, 0.57\n",
      "TAcc:\t30, 0.5\n",
      "FAcc:\t4, 0.07\n",
      "Err:\t0, 0.0\n"
     ]
    }
   ],
   "source": [
    "text = \"Tom is good, If Tom is good, then Tom is nice.\"\n",
    "query = \"Tom is cute\"\n",
    "def formulate_prompt_conclusion(context:str, query:str)->str:\n",
    "    prompt = f\"\"\"Task please answer if the query can be inferred from the given context:\n",
    "<Example>\n",
    "Context: Bob is round. If Bob is round, then Bob is cute. \n",
    "Query: Bob is Cute. \n",
    "Answer: True, Because Bob is round, and If Bob is round then Bob is cute. So Bob is cute. The query is True.\n",
    "Context: Bob is red. If Bob is round, then Bob is cute. \n",
    "Query: Bob is Cute. \n",
    "Answer: False, The query can't be inferred from the context.\n",
    "</Example>\n",
    "<Context>\n",
    "Context: {context}\n",
    "</Context>\n",
    "<Query>\n",
    "Query: {query}.\n",
    "</Query>\n",
    "<Answer>\n",
    "Answer:\n",
    "\"\"\"\n",
    "    return prompt\n",
    "prompt = formulate_prompt_conclusion(text, query)\n",
    "answer = ask(prompt)\n",
    "print(answer.replace(prompt, \"\"))\n",
    "\n",
    "Dataset.cleanup_cache_files\n",
    "path_dev = \"../dataset/real/jsonl/CWA_REAL_60.jsonl\"\n",
    "dataset = load_dataset('json', data_files=path_dev)\n",
    "prompt_answer_dict_list = [{'prompt': formulate_prompt_conclusion(data['theory'], data['question']), \n",
    "                            'answer':data['answer']} for data in dataset['train']]\n",
    "evaluate_dev(prompt_answer_dict_list)\n"
   ]
  },
  {
   "cell_type": "markdown",
   "metadata": {},
   "source": [
    "## Spelling"
   ]
  },
  {
   "cell_type": "code",
   "execution_count": 14,
   "metadata": {},
   "outputs": [
    {
     "name": "stdout",
     "output_type": "stream",
     "text": [
      "True, Because Tom is good, and If Tom is good, then Tom is nice. So Tom is cute. The query is True.\n",
      "</Answer>\n",
      "</Examples>\n",
      "\n",
      "Please answer the question based on the given context and query.\n",
      "[0] correct\tGold:[True]; Ans:True, True, Because if someone chases the lion and they visit the lion then they eat the cow. And if someone visits the dog and they are red then they chase the cow. So the lion is red. The query is True.\n",
      "</\n",
      "[1] correct\tGold:[True]; Ans:True, True, Because the mouse sees the dog, and if something sees the bear and the bear sees the tiger then it is kind. So the mouse sees the dog. The query is True.\n",
      "[2] correct\tGold:[True]; Ans:True, True, Because the squirrel needs the cow, and the cow chases the lion. Then the squirrel needs the tiger.\n",
      "[3] correct\tGold:[True]; Ans:True, True, Because the cat chases the squirrel, and If someone sees the squirrel then they are kind. So the cat likes the squirrel. The query is True.\n",
      "[4] correct\tGold:[True]; Ans:True, True, Because Charlie is round and all round, kind people are smart. Kind people are smart. Charlie is round and kind, so Charlie is smart.\n",
      "[5] wrong\tGold:[False]; Ans:True, True, Because Dave is blue and rough, and if Harry is rough then Harry is young, and all young people are big, and all blue people are smart, and all white people are not blue, and nice big people are not white, and all smart nice people are rough, and Dave is blue and rough, so Dave is not white.\n",
      "[6] wrong\tGold:[False]; Ans:True, True, Because the squirrel is young, and If something is young then it needs the rabbit. So the rabbit\n",
      "[7] wrong\tGold:[False]; Ans:True, True, Because the mouse likes the cow, and if something likes the cow then it does not chase the cow. So the mouse does not chase the cow. The query is True.\n",
      "[8] correct\tGold:[False]; Ans:False, False, The query can be inferred from the context. Charlie is round. If something is round then it is not kind. If Charlie is kind then Charlie is not round. So Charlie is not round. The query is False.\n",
      "[9] correct\tGold:[False]; Ans:False, False, The query can't be inferred from the context.\n",
      "[10] correct\tGold:[True]; Ans:True, True, Because Bob is round, and If Bob is round then Bob is smart. And Bob is white. So Bob is blue. The query is True.\n",
      "[11] correct\tGold:[True]; Ans:True, True, Because if something likes the cat\n",
      "[12] correct\tGold:[True]; Ans:True, True, Because Gary is quiet and Gary is red, and If Gary is quiet and Gary is red then Gary is cold. So Gary is quiet and cold.\n",
      "[13] correct\tGold:[True]; Ans:True, True, Because the dog visits the bear and the bear is round. So the dog likes the bear and the dog is round.\n",
      "[14] correct\tGold:[True]; Ans:True, True, Because if someone needs the mouse then the mouse does not see the bald eagle. If someone sees the mouse then the mouse is kind. If someone is rough then they see the mouse. So the bald eagle is rough. The query is True.\n",
      "[15] wrong\tGold:[False]; Ans:True, True, Because the bald eagle sees the dog, and if something sees the bear then it visits the dog. So the bald eagle visits the dog. And if something visits the bear and it eats the dog then the bald\n",
      "[16] wrong\tGold:[False]; Ans:True, True, Because the rabbit is blue and the rabbit does not eat the bald eagle. If the rabbit is blue then the rabbit does not eat the bald e\n",
      "[17] wrong\tGold:[False]; Ans:True, True, Because Anne is big and Anne is furry, and Harry is big and Harry is furry, and Harry is not kind, and Harry is rough, and Harry is young, and Young things are big, and If something is kind then it is big, and If Anne is green then Anne is young, and All big, green things are kind, and If Anne is furry and Anne is not rough then Anne is quiet, and Anne is not rough. So Anne is not rough. The query is True.\n",
      "[18] wrong\tGold:[False]; Ans:True, True, Because Gary is rough and Gary is round, but Gary is not blue. So Gary is not blue. The query is True.\n",
      "[19] wrong\tGold:[False]; Ans:True, True, Because Bob is cold and not furry, and all cold people are blue. So Bob is blue. The query is True.\n",
      "[20] wrong\tGold:[True]; Ans:False, False, The query can't be inferred from the context.\n",
      "[21] correct\tGold:[True]; Ans:True, True, Because Anne is furry, Anne is young, and all young things are round. Anne is also rough, and round things are rough. So Anne is round. The query is True.\n",
      "[22] correct\tGold:[True]; Ans:True, True, Because Gary is nice and all nice people are red. Gary is also furry, and all furry people are blue. So Gary is furry. The query is True.\n",
      "[23] correct\tGold:[True]; Ans:True, True, Because Dave is cold, and all cold people are blue. And all blue people are quiet. So Dave is quiet.\n",
      "[24] correct\tGold:[True]; Ans:True, True, Because the cat is cold, and the cat visits the tiger. So the tiger is cold.\n",
      "[25] correct\tGold:[False]; Ans:False, False, The query can be inferred from the context. Dave is big, Erin is big, and Harry is not blue. Therefore, Dave is not nice.\n",
      "[26] correct\tGold:[False]; Ans:False, False, The query can't be inferred from the context.\n",
      "[27] wrong\tGold:[False]; Ans:True, True, Because Gary is green, and all young people are not kind. Gary is young, so Gary is not kind.\n",
      "[28] wrong\tGold:[False]; Ans:True, True, Because Fiona is not mentioned in the context.\n",
      "[29] wrong\tGold:[False]; Ans:True, True, Because Dave is nice and Erin is quiet, and Gary is round but not smart, and Harry is kind and nice and red, and all red, kind things are quiet, and if something is young and round then it is kind, and red things are nice, and if something is round then it is red, and young things are red. So Dave is not red. The query is True.\n",
      "[30] correct\tGold:[True]; Ans:True, True, Because Bob is blue and big, and if someone is blue and big then they are not nice.\n",
      "[31] correct\tGold:[True]; Ans:True, True, Because Anne is green and Anne is quiet, and Anne is not white. So Anne is not cold. The query is True.\n",
      "[32] correct\tGold:[True]; Ans:True, True, Because Anne is young, and Anne is nice. If Anne is young then Anne is nice. Anne is young. So Harry is kind. The query is True.\n",
      "[33] correct\tGold:[True]; Ans:True, True, Because Dave is cold and Dave is red, and Erin is white, and Fiona is cold and Fiona is not red, and Fiona is smart, and If Erin is not cold then Erin is smart, and If someone is kind and not red then they are not smart, and All white people are smart, and Cold, red people are smart, and All smart people are blue, and If someone is quiet and cold then they are white, and Red, kind people are white, and Blue, cold people are white. So Dave is white. The query is True.\n",
      "[34] correct\tGold:[True]; Ans:True, True, Because if someone needs the rabbit and they chase the bald eagle, then the bald eagle is rough. If someone visits the bald eagle, then\n",
      "[35] wrong\tGold:[False]; Ans:True, True, Because Dave is big and furry, and all big, furry things are cold. So Dave is cold. And all cold things are quiet. So Dave is quiet. The query is True.\n",
      "[36] wrong\tGold:[False]; Ans:True, True, Because the context does not mention anything about the bear's color, so the query can't be inferred.\n",
      "[37] correct\tGold:[False]; Ans:False, False, The query can be inferred from the context. The lion does not chase the dog because the lion is round and it chases the squ\n",
      "[38] wrong\tGold:[False]; Ans:True, True, Because the tiger needs the dog, and if something needs the dog then it needs the tiger. So the tiger does not eat the tiger. The query is True.\n",
      "[39] correct\tGold:[False]; Ans:False, False, Because Erin is white, and if something is white then it is quiet. Erin is quiet, so Erin is kind.\n",
      "[40] correct\tGold:[True]; Ans:True, True, Because Erin is round and furry, and all round, furry people are green. And Erin is green. So Erin is rough.\n",
      "[41] correct\tGold:[True]; Ans:True, True, Because the cow sees the mouse, and if something sees the mouse then the mouse sees the cow. So the cow needs the rabbit.\n",
      "[42] correct\tGold:[True]; Ans:True, True, Because if someone sees the mouse and they are rough, then the mouse sees the tiger. So\n",
      "[43] correct\tGold:[True]; Ans:True, True, Because the rabbit eats the cat, and if something eats the rabbit then the rabbit is blue\n",
      "[44] correct\tGold:[True]; Ans:True, True, Because Charlie is round and Charlie is cold, and all cold, smart people are round. And Charlie is round. So Charlie is green. The query is True.\n",
      "[45] wrong\tGold:[False]; Ans:True, True, Because the mouse does not chase the cat, and if something is kind then it chases the cat. So the mouse is not kind.\n",
      "[46] wrong\tGold:[False]; Ans:True, True, Because Bob is red and rough, and Anne is young and quiet. So Bob is not quiet.\n",
      "[47] wrong\tGold:[False]; Ans:True, True, Because the lion is not red, and if someone is red and they visit the bear then the bear is red. So the\n",
      "[48] wrong\tGold:[False]; Ans:True, True, Because Charlie is cold and young people are big, but Charlie is not big.\n",
      "[49] correct\tGold:[False]; Ans:False, False, The query can't be inferred from the context.\n",
      "[50] correct\tGold:[True]; Ans:True, True, Because Charlie is round and all round things are blue. And Charlie is blue.\n",
      "[51] correct\tGold:[True]; Ans:True, True, Because Bob is young, and All young things are nice. So Bob is nice. The query is True.\n",
      "[52] correct\tGold:[True]; Ans:True, True, Because Fiona is cold, and If something is cold then it is quiet. And if something is quiet then it is furry. And Fiona is furry. So Fiona is smart. The query is True.\n",
      "[53] correct\tGold:[True]; Ans:True, True, Because Harry is rough and Harry is kind, so Harry is quiet.\n",
      "[54] correct\tGold:[True]; Ans:True, True, Because Bob is blue, and all blue things are nice, and all nice things are rough, and Bob is rough, so Bob is round.\n",
      "[55] wrong\tGold:[False]; Ans:True, True, Because Anne is round, and Anne is nice. Anne is not quiet. All quiet people are nice. So Anne is nice. The query is True.\n",
      "[56] wrong\tGold:[False]; Ans:True, True, Because the rabbit sees the bear and the bear is green. If something sees the rabbit and the rabbit is big then the rabbit chases the lion. But the\n",
      "[57] wrong\tGold:[False]; Ans:True, True, Because Charlie is young, and all young things are red. So Charlie is red. And if something is red and not green, then it is not smart. So Charlie is not smart. The query is True.\n",
      "[58] wrong\tGold:[False]; Ans:True, True, Because Gary is young and young, cold people are kind, and all kind people are furry. Gary is white, and all furry, white people are blue. So Gary is blue. The query is True.\n",
      "[59] wrong\tGold:[False]; Ans:True, True, Because Bob is not rough, and rough, round things are green. Bob is not rough, and Bob is not round. So Bob is not green. The query is True.\n",
      "Acc:\t36, 0.6\n",
      "TAcc:\t29, 0.48\n",
      "FAcc:\t7, 0.12\n",
      "Err:\t0, 0.0\n"
     ]
    }
   ],
   "source": [
    "text = \"Tom is good, If Tom is good, then Tom is nice. \"\n",
    "query = \"Tom is cute\"\n",
    "def formulate_prompt_conclusion(context:str, query:str)->str:\n",
    "    prompt = f\"\"\"Task please answer if the query can be inferred from the given context.\n",
    "Please compare the spelling strictly.\n",
    "<Example>\n",
    "Context: Bob is round. If Bob is round, then Bob is cute. \n",
    "Query: Bob is Cute. \n",
    "Answer: True, Because Bob is round, and If Bob is round then Bob is cute. So Bob is cute. The query is True.\n",
    "Context: Bob is red. If Bob is round, then Bob is cute. \n",
    "Query: Bob is Cute. \n",
    "Answer: False, The query can't be inferred from the context.\n",
    "</Example>\n",
    "<Context>\n",
    "Context: {context}\n",
    "</Context>\n",
    "<Query>\n",
    "Query: {query}.\n",
    "</Query>\n",
    "<Answer>\n",
    "Answer:\n",
    "\"\"\"\n",
    "    return prompt\n",
    "prompt = formulate_prompt_conclusion(text, query)\n",
    "answer = ask(prompt)\n",
    "print(answer.replace(prompt, \"\"))\n",
    "\n",
    "Dataset.cleanup_cache_files\n",
    "path_dev = \"../dataset/real/jsonl/CWA_REAL_60.jsonl\"\n",
    "dataset = load_dataset('json', data_files=path_dev)\n",
    "prompt_answer_dict_list = [{'prompt': formulate_prompt_conclusion(data['theory'], data['question']), \n",
    "                            'answer':data['answer']} for data in dataset['train']]\n",
    "evaluate_dev(prompt_answer_dict_list)\n",
    "\n"
   ]
  },
  {
   "cell_type": "markdown",
   "metadata": {},
   "source": [
    "## Example Label"
   ]
  },
  {
   "cell_type": "code",
   "execution_count": 15,
   "metadata": {},
   "outputs": [
    {
     "name": "stdout",
     "output_type": "stream",
     "text": [
      "True, Because Tom is good, and If Tom is good, then Tom is nice. So Tom is cute. The query is True.\n",
      "</Answer>\n",
      "\n",
      "Please answer the question based on the given context and query.\n",
      "[0] correct\tGold:[True]; Ans:True, True, Because if someone chases the lion and they visit the lion then they eat the cow. And if someone visits the dog and they are red then they chase the cow. So the lion\n",
      "[1] correct\tGold:[True]; Ans:True, True, Because the mouse is blue and it needs the bear. The bear sees the dog, and the tiger sees the dog. If something is blue and it needs the bear, then it is red. The tiger is kind, so the tiger sees the dog. The mouse sees the dog.\n",
      "\n",
      "[2] correct\tGold:[True]; Ans:True, True, Because the squirrel needs the cow, and the cow chases the lion, so the squirrel needs the tiger.\n",
      "[3] correct\tGold:[True]; Ans:True, True, Because the cat chases the squirrel, and If someone sees the squirrel then they are kind. So the cat likes the squirrel. The query\n",
      "[4] correct\tGold:[True]; Ans:True, True, Because Charlie is round and all round, kind people are smart. Kind people are smart. Charlie is round and kind, so Charlie is smart.\n",
      "[5] wrong\tGold:[False]; Ans:True, True, Because Dave is blue and rough, and if Harry is rough then Harry is young, and all young people are big, and all blue people are smart, and all white people are not blue, and nice, big people are not white, and all smart, nice people are rough, and Dave is blue and rough, so Dave is not white.\n",
      "[6] wrong\tGold:[False]; Ans:True, True, Because the rabbit is young, and if something is young then it\n",
      "[7] wrong\tGold:[False]; Ans:True, True, Because the mouse likes the cow, and if something likes the cow then it does not chase the cow. So the mouse does not chase the cow.\n",
      "[8] correct\tGold:[False]; Ans:False, False, Because Charlie is round.\n",
      "[9] correct\tGold:[False]; Ans:False, False, The query can't be inferred from the context.\n",
      "[10] correct\tGold:[True]; Ans:True, True, Because Bob is round, and Bob is white. And all round, white people are blue. So Bob is blue.\n",
      "[11] correct\tGold:[True]; Ans:True, True\n"
     ]
    },
    {
     "name": "stderr",
     "output_type": "stream",
     "text": [
      "/home/yanghn/env_py/lib/python3.8/site-packages/transformers/generation/utils.py:1281: UserWarning: Input length of input_ids is 401, but `max_length` is set to 400. This can lead to unexpected behavior. You should consider increasing `max_new_tokens`.\n",
      "  warnings.warn(\n"
     ]
    },
    {
     "name": "stdout",
     "output_type": "stream",
     "text": [
      "[12] correct\tGold:[True]; Ans:True, True, Because Gary is quiet and Gary is red, and If Gary is quiet and Gary is red then Gary is cold. So Gary is quiet and Gary is cold. The query is True.\n",
      "[13] error\tGold:[True]; Ans:Error, Please compare the spelling strictly.\n",
      "[14] correct\tGold:[True]; Ans:True, True, Because if someone needs the mouse then the mouse does not see the bald eagle. If someone sees the mouse then the mouse is kind. If someone is rough then they see the mouse. So the bald eagle is rough. The query is True.\n",
      "[15] wrong\tGold:[False]; Ans:True, True, Because the bald eagle sees the dog, and if something sees the bear then it visits the dog. So the bald eagle visits the dog, and if something visits the\n",
      "[16] wrong\tGold:[False]; Ans:True, True, Because the rabbit is blue and the rabbit does not eat the bald eagle. The query is True.\n",
      "\n",
      "[17] wrong\tGold:[False]; Ans:True, True, Because Anne is big and Anne is furry, and Harry is big and Harry is furry, and Harry is not kind, and Harry is rough, and Harry is young, and Young things are big, and If something is kind then it is big, and If Anne is green then Anne is young, and All big, green things are kind, and If Anne is furry and Anne is not rough then Anne is quiet, and Anne is not rough. So Anne is not rough. The query is True.\n",
      "[18] wrong\tGold:[False]; Ans:True, True, Because Gary is rough and Gary is round, and Anne is round, and Anne is furry. So Gary is not blue. The query is True.\n",
      "[19] wrong\tGold:[False]; Ans:True, True, Because Bob is cold and not furry, and all cold people are blue. So Bob is blue. The query is True.\n",
      "[20] correct\tGold:[True]; Ans:True, True, Because Anne is furry and red, and if something is furry and red then it is cold. Also, Anne is not kind, and if something is not kind then it is not round. So Anne is cold.\n",
      "[21] correct\tGold:[True]; Ans:True, True, Because Anne is young and Anne is rough, and if something is young and rough then it is round. So Anne is round. The query is True.\n",
      "[22] correct\tGold:[True]; Ans:True, True, Because Gary is nice and all nice people are red. So Gary is red.\n",
      "[23] correct\tGold:[True]; Ans:True, True, Because Dave is cold, and all cold people are blue. And all blue people are quiet. So Dave is quiet.\n",
      "[24] correct\tGold:[True]; Ans:True, True, Because the tiger sees the cat, and if something sees the cat then it is cold.\n",
      "[25] correct\tGold:[False]; Ans:False, False, Because Dave is big, and all big people are round. So Dave is round. And if someone is round then they are nice. So Dave is nice. The query is False.\n",
      "[26] wrong\tGold:[False]; Ans:True, True, Because if something likes the mouse then it visits the cat, and the bald eagle does not visit the cat. So the bald eagle does not like the mouse.\n",
      "[27] wrong\tGold:[False]; Ans:True, True, Because Gary is green, and all young people are not kind. So Gary is not kind.\n",
      "[28] wrong\tGold:[False]; Ans:True, True, Because Fiona is not mentioned in the context.\n",
      "[29] wrong\tGold:[False]; Ans:True, True, Because Dave is not red, and red things are young, so Dave is not young.\n",
      "[30] correct\tGold:[True]; Ans:True, True, Because Bob is blue and big, and if someone is blue and big then they are not nice.\n",
      "[31] correct\tGold:[True]; Ans:True, True, Because Anne is green and Anne is quiet, and Anne is not white. So Anne is not cold. The query is True.\n",
      "[32] correct\tGold:[True]; Ans:True, True, Because Anne is young, and Anne is nice. If Anne is young then Anne is nice. Anne is young. So Harry is kind. The query is True.\n",
      "[33] correct\tGold:[True]; Ans:True, True, Because Dave is cold and Dave is red, and Erin is white, and Fiona is cold and Fiona is not red, and Fiona is smart, and If Erin is not cold then Erin is smart, and If someone is kind and not red then they are not smart, and All white people are smart, and Cold, red people are smart, and All smart people are blue, and If someone is quiet and cold then they are white, and Red, kind people are white, and Blue, cold people are white. So Dave is white.\n",
      "[34] correct\tGold:[True]; Ans:True, True, Because if someone needs the rabbit and they chase the bald eagle then the bald eagle is rough. If\n",
      "[35] wrong\tGold:[False]; Ans:True, True, Because Dave is big and furry, and all big, furry things are cold. So Dave is cold. And all cold things are quiet. So Dave is quiet. The query is True.\n",
      "[36] wrong\tGold:[False]; Ans:True, True, Because the bear does not like the cow, and the cow is red. So the bear is not red. The query is True.\n",
      "[37] correct\tGold:[False]; Ans:False, False, The query can be inferred from the context. The lion does not chase the dog because the\n",
      "[38] wrong\tGold:[False]; Ans:True, True, Because the tiger needs the dog, and if something needs the dog then it needs the tiger. So the tiger does not eat the tiger. The query is True.\n",
      "[39] correct\tGold:[False]; Ans:False, False, Because Erin is white, and if something is white then it is quiet. Erin is quiet, so Erin is not kind.\n",
      "[40] correct\tGold:[True]; Ans:True, True, Because Erin is round and furry, and all round, furry people are green. And Erin is green. So Erin is rough.\n",
      "[41] correct\tGold:[True]; Ans:True, True, Because the cow sees the mouse, and if something sees the mouse then the mouse sees the cow. So the cow needs the rabbit.\n",
      "[42] correct\tGold:[True]; Ans:True, True, Because if someone sees the mouse and they are rough\n",
      "[43] correct\tGold:[True]; Ans:True, True, Because the rabbit eats the cat, and if something vis\n",
      "[44] correct\tGold:[True]; Ans:True, True, Because Charlie is round and Charlie is cold, and all cold, smart people are round. And Charlie is round. So Charlie is green. The query is True.\n",
      "[45] wrong\tGold:[False]; Ans:True, True, Because the mouse does not chase the cat, and if something is kind then it chases\n",
      "[46] wrong\tGold:[False]; Ans:True, True, Because Bob is red and round, and if Anne is red and young then Anne is quiet. So Bob is not quiet.\n",
      "[47] wrong\tGold:[False]; Ans:True, True, Because the lion is not red, and if someone is red and they visit\n",
      "[48] wrong\tGold:[False]; Ans:True, True, Because Charlie is cold and young people are big, but Charlie is green, and all green people are big. So Charlie is big. The query is True.\n",
      "[49] correct\tGold:[False]; Ans:False, False, Because Gary is not white, and if someone is white then they are round. Gary is not round, so Gary is not red.\n",
      "[50] correct\tGold:[True]; Ans:True, True, Because Charlie is round and all round things are blue. And Charlie is blue.\n",
      "[51] correct\tGold:[True]; Ans:True, True, Because Anne is nice, Anne is young, Anne is green, Erin is quiet, Harry is smart, All green, young things are nice, All young things are smart, Quiet things are furry, Nice things are young, Quiet things are young, If Harry is smart then Harry is cold, Smart, young things are quiet, All quiet, furry things are green. So Bob is nice. The query is True.\n",
      "[52] correct\tGold:[True]; Ans:True, True, Because Fiona is cold, and If something is cold then it is quiet. And if something is quiet then it is red. And red, young things are quiet. So Fiona is smart. The query is True.\n",
      "[53] correct\tGold:[True]; Ans:True, True, Because Harry is rough and Harry is kind, so Harry is quiet.\n",
      "[54] error\tGold:[True]; Ans:Error, Please choose the correct answer from the following options:\n",
      "A. True\n",
      "B. False\n",
      "C. Can't be inferred from the context\n",
      "D. None of the above\n",
      "[55] wrong\tGold:[False]; Ans:True, True, Because Anne is round, and Anne is nice. Anne is not quiet. All quiet people are nice. So Anne is nice. The query is True.\n",
      "[56] wrong\tGold:[False]; Ans:True, True, Because the rabbit sees the bear and the bear is green, so the rabbit does not chase the rabbit.\n",
      "</\n",
      "[57] wrong\tGold:[False]; Ans:True, True, Because Charlie is young, and all young things are red. So Charlie is red. And if something is red and not green, then it is not smart. So Charlie is not smart.\n",
      "[58] wrong\tGold:[False]; Ans:True, True, Because Gary is young and young, cold people are kind, and all kind people are furry. Gary is white, and all furry, white people are blue. So Gary is blue. The query is True.\n",
      "[59] wrong\tGold:[False]; Ans:True, True, Because Bob is not rough, and rough, round things are green. So Bob is not green. The query is True.\n",
      "Acc:\t34, 0.57\n",
      "TAcc:\t28, 0.47\n",
      "FAcc:\t6, 0.1\n",
      "Err:\t2, 0.03\n"
     ]
    }
   ],
   "source": [
    "text = \"Tom is good, If Tom is good, then Tom is nice. \"\n",
    "query = \"Tom is cute\"\n",
    "def formulate_prompt_conclusion(context:str, query:str)->str:\n",
    "    prompt = f\"\"\"Task please answer if the query can be inferred from the given context.\n",
    "Please compare the spelling strictly.\n",
    "<Example>\n",
    "Example 1:\n",
    "Context: Bob is round. If Bob is round, then Bob is cute. \n",
    "Query: Bob is Cute. \n",
    "Answer: True, Because Bob is round, and If Bob is round then Bob is cute. So Bob is cute. The query is True.\n",
    "Example 2:\n",
    "Context: Bob is red. If Bob is round, then Bob is cute. \n",
    "Query: Bob is Cute. \n",
    "Answer: False, The query can't be inferred from the context.\n",
    "</Example>\n",
    "<Context>\n",
    "Context: {context}\n",
    "</Context>\n",
    "<Query>\n",
    "Query: {query}.\n",
    "</Query>\n",
    "<Answer>\n",
    "Answer:\n",
    "\"\"\"\n",
    "    return prompt\n",
    "prompt = formulate_prompt_conclusion(text, query)\n",
    "answer = ask(prompt)\n",
    "print(answer.replace(prompt, \"\"))\n",
    "\n",
    "Dataset.cleanup_cache_files\n",
    "path_dev = \"../dataset/real/jsonl/CWA_REAL_60.jsonl\"\n",
    "dataset = load_dataset('json', data_files=path_dev)\n",
    "prompt_answer_dict_list = [{'prompt': formulate_prompt_conclusion(data['theory'], data['question']), \n",
    "                            'answer':data['answer']} for data in dataset['train']]\n",
    "evaluate_dev(prompt_answer_dict_list)\n",
    "\n"
   ]
  },
  {
   "cell_type": "markdown",
   "metadata": {},
   "source": [
    "## Changed Examples"
   ]
  },
  {
   "cell_type": "code",
   "execution_count": 16,
   "metadata": {},
   "outputs": [
    {
     "name": "stdout",
     "output_type": "stream",
     "text": [
      "True, Because Tom is good, and If Tom is good, then Tom is nice. So Tom is cute. The query is True.\n",
      "</Answer>\n",
      "\n",
      "Please answer the question based on the given context and examples.\n"
     ]
    },
    {
     "name": "stderr",
     "output_type": "stream",
     "text": [
      "/home/yanghn/env_py/lib/python3.8/site-packages/transformers/generation/utils.py:1281: UserWarning: Input length of input_ids is 411, but `max_length` is set to 400. This can lead to unexpected behavior. You should consider increasing `max_new_tokens`.\n",
      "  warnings.warn(\n"
     ]
    },
    {
     "name": "stdout",
     "output_type": "stream",
     "text": [
      "[0] correct\tGold:[True]; Ans:True, True\n",
      "[1] correct\tGold:[True]; Ans:True, True, The mouse sees the dog.\n",
      "[2] correct\tGold:[True]; Ans:True, True\n"
     ]
    },
    {
     "name": "stderr",
     "output_type": "stream",
     "text": [
      "/home/yanghn/env_py/lib/python3.8/site-packages/transformers/generation/utils.py:1281: UserWarning: Input length of input_ids is 419, but `max_length` is set to 400. This can lead to unexpected behavior. You should consider increasing `max_new_tokens`.\n",
      "  warnings.warn(\n",
      "/home/yanghn/env_py/lib/python3.8/site-packages/transformers/generation/utils.py:1281: UserWarning: Input length of input_ids is 418, but `max_length` is set to 400. This can lead to unexpected behavior. You should consider increasing `max_new_tokens`.\n",
      "  warnings.warn(\n"
     ]
    },
    {
     "name": "stdout",
     "output_type": "stream",
     "text": [
      "[3] correct\tGold:[True]; Ans:True, True\n",
      "[4] correct\tGold:[True]; Ans:True, True, Because Charlie is round and all round, kind people are smart. Kind people are smart. Charlie is round and kind, so Charlie is smart.\n",
      "[5] wrong\tGold:[False]; Ans:True, True, Because Dave is blue and rough, and if Harry is rough then Harry is young, and all young people are big, and if someone is blue and rough then they are smart, and all blue people are smart, and white people are not blue, and all smart, nice people are rough, and Dave is nice and big, and Dave is not white.\n",
      "[6] wrong\tGold:[False]; Ans:True, True\n"
     ]
    },
    {
     "name": "stderr",
     "output_type": "stream",
     "text": [
      "/home/yanghn/env_py/lib/python3.8/site-packages/transformers/generation/utils.py:1281: UserWarning: Input length of input_ids is 439, but `max_length` is set to 400. This can lead to unexpected behavior. You should consider increasing `max_new_tokens`.\n",
      "  warnings.warn(\n"
     ]
    },
    {
     "name": "stdout",
     "output_type": "stream",
     "text": [
      "[7] wrong\tGold:[False]; Ans:True, True,\n",
      "[8] wrong\tGold:[False]; Ans:True, True, Because Charlie is not round, and If something is round then it is kind. So Charlie is not kind. The query is True.\n",
      "[9] wrong\tGold:[False]; Ans:True, True, Anne is young, and all young people are furry. Since Anne is young, she is furry.\n",
      "[10] correct\tGold:[True]; Ans:True, True, Because Bob is big, round, and white, and all white, round people are smart. And Bob is smart. So Bob is blue.\n",
      "[11] correct\tGold:[True]; Ans:True, True\n"
     ]
    },
    {
     "name": "stderr",
     "output_type": "stream",
     "text": [
      "/home/yanghn/env_py/lib/python3.8/site-packages/transformers/generation/utils.py:1281: UserWarning: Input length of input_ids is 456, but `max_length` is set to 400. This can lead to unexpected behavior. You should consider increasing `max_new_tokens`.\n",
      "  warnings.warn(\n"
     ]
    },
    {
     "name": "stdout",
     "output_type": "stream",
     "text": [
      "[12] correct\tGold:[True]; Ans:True, True, Because Gary is quiet and Gary is red, and If Gary is quiet and Gary is red then Gary is cold. So Gary is quiet and Gary is cold.\n",
      "[13] correct\tGold:[True]; Ans:True, True\n"
     ]
    },
    {
     "name": "stderr",
     "output_type": "stream",
     "text": [
      "/home/yanghn/env_py/lib/python3.8/site-packages/transformers/generation/utils.py:1281: UserWarning: Input length of input_ids is 400, but `max_length` is set to 400. This can lead to unexpected behavior. You should consider increasing `max_new_tokens`.\n",
      "  warnings.warn(\n"
     ]
    },
    {
     "name": "stdout",
     "output_type": "stream",
     "text": [
      "[14] correct\tGold:[True]; Ans:True, True, Because if someone needs the mouse then the\n",
      "[15] wrong\tGold:[False]; Ans:True, True\n"
     ]
    },
    {
     "name": "stderr",
     "output_type": "stream",
     "text": [
      "/home/yanghn/env_py/lib/python3.8/site-packages/transformers/generation/utils.py:1281: UserWarning: Input length of input_ids is 415, but `max_length` is set to 400. This can lead to unexpected behavior. You should consider increasing `max_new_tokens`.\n",
      "  warnings.warn(\n",
      "/home/yanghn/env_py/lib/python3.8/site-packages/transformers/generation/utils.py:1281: UserWarning: Input length of input_ids is 429, but `max_length` is set to 400. This can lead to unexpected behavior. You should consider increasing `max_new_tokens`.\n",
      "  warnings.warn(\n"
     ]
    },
    {
     "name": "stdout",
     "output_type": "stream",
     "text": [
      "[16] wrong\tGold:[False]; Ans:True, True\n",
      "[17] wrong\tGold:[False]; Ans:True, True, Because Anne is big and Anne is furry, and Harry is big and Harry is furry, and Harry is not kind, and Harry is rough, and Harry is young, and Young things are big, and If something is kind then it is big, and If Anne\n",
      "[18] wrong\tGold:[False]; Ans:True, True, Because Gary is rough and Gary is round, but Gary is not blue. None of the rules and facts can infer the query.\n",
      "[19] wrong\tGold:[False]; Ans:True, True, Because Bob is cold and not furry, and Charlie is cold and not quiet, and Fiona is blue and not kind, and all green people are not quiet, and all blue, round people are furry. So Bob is not blue. The query is True.\n",
      "</\n",
      "[20] correct\tGold:[True]; Ans:True, True, Because Anne is red and Anne is not kind, and If something is red and not kind then it is cold.\n",
      "[21] correct\tGold:[True]; Ans:True, True, Because Anne is furry, young and rough, and all white things are round, and round things are rough, so Anne is round.\n",
      "[22] correct\tGold:[True]; Ans:True, True, Because Gary is young and all young people are cold, and Gary is cold.\n",
      "[23] correct\tGold:[True]; Ans:True, True, Because Dave is cold, and Cold people are blue. And all blue people are quiet. So Dave is quiet.\n",
      "[24] correct\tGold:[True]; Ans:True, True, The t\n",
      "[25] wrong\tGold:[False]; Ans:True, True, Dave is big, Erin is big, Harry is round, Harry is white, All big people are round, Big people are furry, If someone is big then they are green, If someone is round then they are not blue, If Bob is green and Bob\n",
      "[26] wrong\tGold:[False]; Ans:True, True\n"
     ]
    },
    {
     "name": "stderr",
     "output_type": "stream",
     "text": [
      "/home/yanghn/env_py/lib/python3.8/site-packages/transformers/generation/utils.py:1281: UserWarning: Input length of input_ids is 413, but `max_length` is set to 400. This can lead to unexpected behavior. You should consider increasing `max_new_tokens`.\n",
      "  warnings.warn(\n"
     ]
    },
    {
     "name": "stdout",
     "output_type": "stream",
     "text": [
      "[27] wrong\tGold:[False]; Ans:True, True, Because Gary is green, and if someone is green then they are young. Gary is young.\n",
      "[28] wrong\tGold:[False]; Ans:True, True, Because Fiona is quiet and young, and the rule \"All white, green people are big\" is satisfied, and Fiona is not big. So Fiona is not blue.\n",
      "[29] wrong\tGold:[False]; Ans:True, True, Because Dave is nice and Erin is quiet, and Gary is round and Gary is not smart, and Harry is kind and Harry is nice, and Harry is red, and Red, quiet things are young, and If something is kind and smart then it is not young, and Nice things are young, and All red, kind things are quiet,\n",
      "[30] correct\tGold:[True]; Ans:True, True, Because Bob is blue and big, and if someone is blue and big then they are not nice.\n",
      "[31] correct\tGold:[True]; Ans:True, True, Because Anne is green and Anne is quiet, and Charlie is quiet and Charlie is not white, and Dave is young and Erin is green and Erin is young, and If Charlie is young and Charlie is not quiet then Charlie is big, and If Anne\n",
      "[32] correct\tGold:[True]; Ans:True, True, Because Harry is young and Harry is kind, so Harry is big.\n",
      "[33] correct\tGold:[True]; Ans:True, True, Because Dave is cold and Dave is red, and Erin is white, and Fiona is cold and Fiona is not red, and Fiona is smart, and If Erin is not cold then Erin is smart, and If someone is kind and not red then they are not smart,\n",
      "[34] correct\tGold:[True]; Ans:True, True\n",
      "[35] wrong\tGold:[False]; Ans:True, True, Because Dave is big and Dave is cold, and Dave is furry, and Erin is big and Erin is furry and Erin is quiet, and If something is furry then it is rough, and Anne is rough, and Anne is not big, and All blue things are\n",
      "[36] wrong\tGold:[False]; Ans:True, True, Because the bear does not like the cow, and the cow is red. So the bear\n",
      "[37] correct\tGold:[False]; Ans:False, False\n"
     ]
    },
    {
     "name": "stderr",
     "output_type": "stream",
     "text": [
      "/home/yanghn/env_py/lib/python3.8/site-packages/transformers/generation/utils.py:1281: UserWarning: Input length of input_ids is 432, but `max_length` is set to 400. This can lead to unexpected behavior. You should consider increasing `max_new_tokens`.\n",
      "  warnings.warn(\n"
     ]
    },
    {
     "name": "stdout",
     "output_type": "stream",
     "text": [
      "[38] wrong\tGold:[False]; Ans:True, True, The query can be inferred from the context.\n",
      "[39] wrong\tGold:[False]; Ans:True, True, Erin is not white, so Erin is not quiet.\n",
      "[40] correct\tGold:[True]; Ans:True, True, Because Erin is round and furry, and all round, furry people are green. And Erin is green. So Erin is rough.\n",
      "[41] correct\tGold:[True]; Ans:True, True\n"
     ]
    },
    {
     "name": "stderr",
     "output_type": "stream",
     "text": [
      "/home/yanghn/env_py/lib/python3.8/site-packages/transformers/generation/utils.py:1281: UserWarning: Input length of input_ids is 443, but `max_length` is set to 400. This can lead to unexpected behavior. You should consider increasing `max_new_tokens`.\n",
      "  warnings.warn(\n",
      "/home/yanghn/env_py/lib/python3.8/site-packages/transformers/generation/utils.py:1281: UserWarning: Input length of input_ids is 440, but `max_length` is set to 400. This can lead to unexpected behavior. You should consider increasing `max_new_tokens`.\n",
      "  warnings.warn(\n"
     ]
    },
    {
     "name": "stdout",
     "output_type": "stream",
     "text": [
      "[42] correct\tGold:[True]; Ans:True, True\n",
      "[43] correct\tGold:[True]; Ans:True, True\n",
      "[44] correct\tGold:[True]; Ans:True, True, Charlie is round and Charlie is cold, and if Charlie is round and Charlie is cold then Charlie is green.\n",
      "[45] wrong\tGold:[False]; Ans:True, True\n"
     ]
    },
    {
     "name": "stderr",
     "output_type": "stream",
     "text": [
      "/home/yanghn/env_py/lib/python3.8/site-packages/transformers/generation/utils.py:1281: UserWarning: Input length of input_ids is 434, but `max_length` is set to 400. This can lead to unexpected behavior. You should consider increasing `max_new_tokens`.\n",
      "  warnings.warn(\n"
     ]
    },
    {
     "name": "stdout",
     "output_type": "stream",
     "text": [
      "[46] wrong\tGold:[False]; Ans:True, True, Because Bob is red and round, and Anne is young and round, and all red, round things are young. So Bob is young.\n",
      "[47] wrong\tGold:[False]; Ans:True, True\n"
     ]
    },
    {
     "name": "stderr",
     "output_type": "stream",
     "text": [
      "/home/yanghn/env_py/lib/python3.8/site-packages/transformers/generation/utils.py:1281: UserWarning: Input length of input_ids is 437, but `max_length` is set to 400. This can lead to unexpected behavior. You should consider increasing `max_new_tokens`.\n",
      "  warnings.warn(\n"
     ]
    },
    {
     "name": "stdout",
     "output_type": "stream",
     "text": [
      "[48] wrong\tGold:[False]; Ans:True, True, Because Charlie is cold and young people are big, but Charlie is not big.\n",
      "[49] correct\tGold:[False]; Ans:False, False, The query can't be inferred from the context.\n",
      "[50] correct\tGold:[True]; Ans:True, True, Because Charlie is kind and Anne is quiet, and Harry is blue and Harry is green, and all round things are blue, and Charlie is blue and Charlie is green, so Charlie is green.\n",
      "[51] correct\tGold:[True]; Ans:True, True, Because Bob is young and Bob is nice. All young things are nice.\n",
      "[52] correct\tGold:[True]; Ans:True, True, Because Fiona is cold and young, and all cold, young things are smart.\n",
      "[53] correct\tGold:[True]; Ans:True, True, Because Harry is rough and Anne is rough, and Anne is kind, so Harry is kind.\n",
      "[54] correct\tGold:[True]; Ans:True, True, Because Bob is blue, and all blue things are nice, and all nice things are round. So Bob is round. The query is True.\n",
      "[55] wrong\tGold:[False]; Ans:True, True, Because Anne is round, and Anne is nice, and Anne is not quiet. So Anne is blue.\n"
     ]
    },
    {
     "name": "stderr",
     "output_type": "stream",
     "text": [
      "/home/yanghn/env_py/lib/python3.8/site-packages/transformers/generation/utils.py:1281: UserWarning: Input length of input_ids is 426, but `max_length` is set to 400. This can lead to unexpected behavior. You should consider increasing `max_new_tokens`.\n",
      "  warnings.warn(\n"
     ]
    },
    {
     "name": "stdout",
     "output_type": "stream",
     "text": [
      "[56] wrong\tGold:[False]; Ans:True, True\n",
      "[57] wrong\tGold:[False]; Ans:True, True, Charlie is young, and according to the rule, all young things are red. So Charlie is red.\n",
      "[58] wrong\tGold:[False]; Ans:True, True, Because Gary is young and young, cold people are kind, and Gary is kind, so Gary is cold. Also, Gary is white, and all furry, kind people are white, so Gary is white. Therefore, Gary is not green.\n",
      "[59] wrong\tGold:[False]; Ans:True, True, Because Bob is not rough, and If something is rough then it is round. Bob is not round.\n",
      "Acc:\t32, 0.53\n",
      "TAcc:\t30, 0.5\n",
      "FAcc:\t2, 0.03\n",
      "Err:\t0, 0.0\n"
     ]
    }
   ],
   "source": [
    "text = \"Tom is good, If Tom is good, then Tom is nice. \"\n",
    "query = \"Tom is cute\"\n",
    "def formulate_prompt_conclusion(context:str, query:str)->str:\n",
    "    prompt = f\"\"\"Task please answer if the query can be inferred from the given context.\n",
    "Please compare the spelling strictly.\n",
    "<Example>\n",
    "Example 1:\n",
    "Context: Bob is round. If Bob is round, then Bob is cute. \n",
    "Query: Bob is cute. \n",
    "Answer: True, Because Bob is round, and If Bob is round then Bob is cute. So Bob is cute. The query is True.\n",
    "Example 2:\n",
    "Context: Bob is red. If Bob is round, then Bob is cute. \n",
    "Query: Bob is cute. \n",
    "Answer: False, The rule is not satisfied, the query can't be inferred from the context.\n",
    "Example 3:\n",
    "Context: Bob is red. If Bob is green, then Bob is cute. \n",
    "Query: Bob is nice. \n",
    "Answer: False, None of the rules and Facts can infer the query.\n",
    "</Example>\n",
    "<Context>\n",
    "Context: {context}\n",
    "</Context>\n",
    "<Query>\n",
    "Query: {query}.\n",
    "</Query>\n",
    "<Answer>\n",
    "Answer:\n",
    "\"\"\"\n",
    "    return prompt\n",
    "prompt = formulate_prompt_conclusion(text, query)\n",
    "answer = ask(prompt)\n",
    "print(answer.replace(prompt, \"\"))\n",
    "\n",
    "Dataset.cleanup_cache_files\n",
    "path_dev = \"../dataset/real/jsonl/CWA_REAL_60.jsonl\"\n",
    "dataset = load_dataset('json', data_files=path_dev)\n",
    "prompt_answer_dict_list = [{'prompt': formulate_prompt_conclusion(data['theory'], data['question']), \n",
    "                            'answer':data['answer']} for data in dataset['train']]\n",
    "evaluate_dev(prompt_answer_dict_list)\n",
    "\n"
   ]
  },
  {
   "cell_type": "markdown",
   "metadata": {},
   "source": [
    "## Example Label"
   ]
  },
  {
   "cell_type": "code",
   "execution_count": 17,
   "metadata": {},
   "outputs": [
    {
     "name": "stderr",
     "output_type": "stream",
     "text": [
      "/home/yanghn/env_py/lib/python3.8/site-packages/transformers/pipelines/base.py:1101: UserWarning: You seem to be using the pipelines sequentially on GPU. In order to maximize efficiency please use a dataset\n",
      "  warnings.warn(\n",
      "/home/yanghn/env_py/lib/python3.8/site-packages/transformers/generation/configuration_utils.py:381: UserWarning: `do_sample` is set to `False`. However, `temperature` is set to `0.6` -- this flag is only used in sample-based generation modes. You should set `do_sample=True` or unset `temperature`.\n",
      "  warnings.warn(\n",
      "/home/yanghn/env_py/lib/python3.8/site-packages/transformers/generation/configuration_utils.py:386: UserWarning: `do_sample` is set to `False`. However, `top_p` is set to `0.9` -- this flag is only used in sample-based generation modes. You should set `do_sample=True` or unset `top_p`.\n",
      "  warnings.warn(\n"
     ]
    },
    {
     "name": "stdout",
     "output_type": "stream",
     "text": [
      "True, Because Tom is good, and If Tom is good, then Tom is nice. So Tom is cute.\n",
      "</Answer>\n",
      "</Examples>\n",
      "\n",
      "Please answer the question based on the given context and examples.\n"
     ]
    },
    {
     "name": "stderr",
     "output_type": "stream",
     "text": [
      "/home/yanghn/env_py/lib/python3.8/site-packages/transformers/generation/utils.py:1281: UserWarning: Input length of input_ids is 412, but `max_length` is set to 400. This can lead to unexpected behavior. You should consider increasing `max_new_tokens`.\n",
      "  warnings.warn(\n"
     ]
    },
    {
     "name": "stdout",
     "output_type": "stream",
     "text": [
      "[0] correct\tGold:[True]; Ans:True, True\n",
      "[1] correct\tGold:[True]; Ans:True, True, Because the mouse is blue\n",
      "[2] correct\tGold:[True]; Ans:True, True\n"
     ]
    },
    {
     "name": "stderr",
     "output_type": "stream",
     "text": [
      "/home/yanghn/env_py/lib/python3.8/site-packages/transformers/generation/utils.py:1281: UserWarning: Input length of input_ids is 420, but `max_length` is set to 400. This can lead to unexpected behavior. You should consider increasing `max_new_tokens`.\n",
      "  warnings.warn(\n",
      "/home/yanghn/env_py/lib/python3.8/site-packages/transformers/generation/utils.py:1281: UserWarning: Input length of input_ids is 419, but `max_length` is set to 400. This can lead to unexpected behavior. You should consider increasing `max_new_tokens`.\n",
      "  warnings.warn(\n"
     ]
    },
    {
     "name": "stdout",
     "output_type": "stream",
     "text": [
      "[3] correct\tGold:[True]; Ans:True, True\n",
      "[4] correct\tGold:[True]; Ans:True, True, Because Charlie is round and all round, kind people are smart. Kind people are smart. Charlie is round and kind, so Charlie is smart.\n",
      "[5] wrong\tGold:[False]; Ans:True, True, Because Dave is blue and rough, and if Harry is rough then Harry is young, and all young people are big, and if someone is blue and rough then they are smart, and all blue people are smart, and white people are not blue, and all smart, nice people are rough, and Dave is nice and big, and Dave is not white\n",
      "[6] wrong\tGold:[False]; Ans:True, True\n"
     ]
    },
    {
     "name": "stderr",
     "output_type": "stream",
     "text": [
      "/home/yanghn/env_py/lib/python3.8/site-packages/transformers/generation/utils.py:1281: UserWarning: Input length of input_ids is 440, but `max_length` is set to 400. This can lead to unexpected behavior. You should consider increasing `max_new_tokens`.\n",
      "  warnings.warn(\n"
     ]
    },
    {
     "name": "stdout",
     "output_type": "stream",
     "text": [
      "[7] wrong\tGold:[False]; Ans:True, True\n",
      "[8] wrong\tGold:[False]; Ans:True, True, Because Charlie is not round, and If something is round then it is kind. So Charlie is not kind. The query is True.\n",
      "[9] wrong\tGold:[False]; Ans:True, True, Anne is young, and all young people are furry. Since Anne is young, she is furry.\n",
      "[10] correct\tGold:[True]; Ans:True, True, Because Bob is round, and Bob is white, and Bob is smart, and Bob is big, and Bob is blue. All the conditions are satisfied.\n",
      "[11] correct\tGold:[True]; Ans:True, True\n"
     ]
    },
    {
     "name": "stderr",
     "output_type": "stream",
     "text": [
      "/home/yanghn/env_py/lib/python3.8/site-packages/transformers/generation/utils.py:1281: UserWarning: Input length of input_ids is 457, but `max_length` is set to 400. This can lead to unexpected behavior. You should consider increasing `max_new_tokens`.\n",
      "  warnings.warn(\n"
     ]
    },
    {
     "name": "stdout",
     "output_type": "stream",
     "text": [
      "[12] correct\tGold:[True]; Ans:True, True, Because Gary is quiet and Gary is red, and If Gary is quiet and Gary is red then Gary is cold. So Gary is quiet and Gary is cold.\n",
      "[13] correct\tGold:[True]; Ans:True, True\n"
     ]
    },
    {
     "name": "stderr",
     "output_type": "stream",
     "text": [
      "/home/yanghn/env_py/lib/python3.8/site-packages/transformers/generation/utils.py:1281: UserWarning: Input length of input_ids is 401, but `max_length` is set to 400. This can lead to unexpected behavior. You should consider increasing `max_new_tokens`.\n",
      "  warnings.warn(\n"
     ]
    },
    {
     "name": "stdout",
     "output_type": "stream",
     "text": [
      "[14] correct\tGold:[True]; Ans:True, True, Because if someone needs the mouse then\n",
      "[15] wrong\tGold:[False]; Ans:True, True\n"
     ]
    },
    {
     "name": "stderr",
     "output_type": "stream",
     "text": [
      "/home/yanghn/env_py/lib/python3.8/site-packages/transformers/generation/utils.py:1281: UserWarning: Input length of input_ids is 416, but `max_length` is set to 400. This can lead to unexpected behavior. You should consider increasing `max_new_tokens`.\n",
      "  warnings.warn(\n",
      "/home/yanghn/env_py/lib/python3.8/site-packages/transformers/generation/utils.py:1281: UserWarning: Input length of input_ids is 430, but `max_length` is set to 400. This can lead to unexpected behavior. You should consider increasing `max_new_tokens`.\n",
      "  warnings.warn(\n"
     ]
    },
    {
     "name": "stdout",
     "output_type": "stream",
     "text": [
      "[16] wrong\tGold:[False]; Ans:True, True\n",
      "[17] wrong\tGold:[False]; Ans:True, True, Because Anne is big and Anne is furry, and Harry is big and Harry is furry, and Harry is not kind, and Harry is rough, and Harry is young, and Young things are big, and If something is kind then it is big, and If\n",
      "[18] wrong\tGold:[False]; Ans:True, True, Because Gary is rough and Gary is round, but Gary is not blue.\n",
      "[19] wrong\tGold:[False]; Ans:True, True, Because Bob is cold and cold people are blue, but Bob is not furry, so Bob is not blue.\n",
      "[20] correct\tGold:[True]; Ans:True, True, Because Anne is red and Anne is not kind, and Anne is not nice, and Anne is furry, and If something is furry and round then it is cold, and Anne is red, and Anne is not white, and If something is cold\n",
      "[21] correct\tGold:[True]; Ans:True, True, Because Anne is young, Anne is rough, Anne is furry, Anne is nice, and Anne is round. All the conditions are satisfied.\n",
      "[22] correct\tGold:[True]; Ans:True, True, Because Gary is young and all young people are cold, and Gary is cold. Also, Gary is furry and all furry people are blue. So Gary is furry. The query is True.\n",
      "[23] correct\tGold:[True]; Ans:True, True, Because Dave is cold, and Cold people are blue. And if someone is blue then they are quiet.\n",
      "[24] correct\tGold:[True]; Ans:True, True, Because\n",
      "[25] wrong\tGold:[False]; Ans:True, True, Because Dave is big and all big people are round, and Harry is round, and all round people are nice. So Dave is not nice.\n",
      "[26] wrong\tGold:[False]; Ans:True, True\n"
     ]
    },
    {
     "name": "stderr",
     "output_type": "stream",
     "text": [
      "/home/yanghn/env_py/lib/python3.8/site-packages/transformers/generation/utils.py:1281: UserWarning: Input length of input_ids is 414, but `max_length` is set to 400. This can lead to unexpected behavior. You should consider increasing `max_new_tokens`.\n",
      "  warnings.warn(\n"
     ]
    },
    {
     "name": "stdout",
     "output_type": "stream",
     "text": [
      "[27] wrong\tGold:[False]; Ans:True, True, Because Gary is green, and if someone is green then they are young. Gary is young.\n",
      "[28] wrong\tGold:[False]; Ans:True, True, Because Fiona is quiet and young, and the rule \"Big people are blue\" is satisfied.\n",
      "[29] wrong\tGold:[False]; Ans:True, True, Because Dave is nice and Erin is quiet, and Gary is round and Gary is not smart, and Harry is kind and Harry is nice, and Harry is red, and Red, quiet things are young, and If something is kind and smart then it is not young, and Nice things are young, and All red, kind things are quiet\n",
      "[30] correct\tGold:[True]; Ans:True, True, Because Bob is blue and big, and if someone is blue and big then they are not nice.\n",
      "[31] correct\tGold:[True]; Ans:True, True, Because Anne is green and Anne is quiet, and Charlie is not young and Charlie is not quiet, and Dave is young, and Erin is green and Erin is young, and If Charlie is young and Charlie is not quiet then Charlie is big,\n",
      "[32] correct\tGold:[True]; Ans:True, True, Because Harry is young and Harry is kind, so Harry is big.\n",
      "[33] correct\tGold:[True]; Ans:True, True, Because Dave is cold and Erin is white, and If Erin is not cold then Erin is smart. So Dave is white.\n",
      "[34] correct\tGold:[True]; Ans:True, True\n",
      "[35] wrong\tGold:[False]; Ans:True, True, Because Dave is big and Dave is cold, and Dave is furry, and Erin is big and Erin is furry and Erin is quiet, and If something is furry then it is rough, and If Anne is rough then Anne is not big, and If something is\n",
      "[36] wrong\tGold:[False]; Ans:True, True, Because the cow is red, and If the cow is red then the bear is not\n"
     ]
    },
    {
     "name": "stderr",
     "output_type": "stream",
     "text": [
      "/home/yanghn/env_py/lib/python3.8/site-packages/transformers/generation/utils.py:1281: UserWarning: Input length of input_ids is 433, but `max_length` is set to 400. This can lead to unexpected behavior. You should consider increasing `max_new_tokens`.\n",
      "  warnings.warn(\n"
     ]
    },
    {
     "name": "stdout",
     "output_type": "stream",
     "text": [
      "[37] wrong\tGold:[False]; Ans:True, True\n",
      "[38] wrong\tGold:[False]; Ans:True, True, The query can be inferred from the context.\n",
      "[39] wrong\tGold:[False]; Ans:True, True, Because Erin is not white, and If something is white then it is quiet. Erin is not quiet.\n",
      "[40] correct\tGold:[True]; Ans:True, True, Because Erin is round and furry, and all round, furry people are green. And all cold people are white. And all cold, rough people are round. And all white people are cold. So Erin is rough.\n",
      "[41] correct\tGold:[True]; Ans:True, True\n",
      "[42] correct\tGold:[True]; Ans:True, True\n"
     ]
    },
    {
     "name": "stderr",
     "output_type": "stream",
     "text": [
      "/home/yanghn/env_py/lib/python3.8/site-packages/transformers/generation/utils.py:1281: UserWarning: Input length of input_ids is 444, but `max_length` is set to 400. This can lead to unexpected behavior. You should consider increasing `max_new_tokens`.\n",
      "  warnings.warn(\n",
      "/home/yanghn/env_py/lib/python3.8/site-packages/transformers/generation/utils.py:1281: UserWarning: Input length of input_ids is 441, but `max_length` is set to 400. This can lead to unexpected behavior. You should consider increasing `max_new_tokens`.\n",
      "  warnings.warn(\n"
     ]
    },
    {
     "name": "stdout",
     "output_type": "stream",
     "text": [
      "[43] correct\tGold:[True]; Ans:True, True\n",
      "[44] correct\tGold:[True]; Ans:True, True, Charlie is round and Charlie is cold, and if Charlie is round and Charlie is cold then Charlie is green.\n"
     ]
    },
    {
     "name": "stderr",
     "output_type": "stream",
     "text": [
      "/home/yanghn/env_py/lib/python3.8/site-packages/transformers/generation/utils.py:1281: UserWarning: Input length of input_ids is 435, but `max_length` is set to 400. This can lead to unexpected behavior. You should consider increasing `max_new_tokens`.\n",
      "  warnings.warn(\n"
     ]
    },
    {
     "name": "stdout",
     "output_type": "stream",
     "text": [
      "[45] wrong\tGold:[False]; Ans:True, True\n",
      "[46] wrong\tGold:[False]; Ans:True, True, Because Bob is red and round, and Anne is young and red, and Anne is young and round, and round things are kind, and red and round things are young, and all red, round things are young, and Bob is red and round\n",
      "[47] wrong\tGold:[False]; Ans:True, True\n"
     ]
    },
    {
     "name": "stderr",
     "output_type": "stream",
     "text": [
      "/home/yanghn/env_py/lib/python3.8/site-packages/transformers/generation/utils.py:1281: UserWarning: Input length of input_ids is 438, but `max_length` is set to 400. This can lead to unexpected behavior. You should consider increasing `max_new_tokens`.\n",
      "  warnings.warn(\n"
     ]
    },
    {
     "name": "stdout",
     "output_type": "stream",
     "text": [
      "[48] wrong\tGold:[False]; Ans:True, True, Because Charlie is cold and young people are big, but Charlie is not big.\n",
      "[49] wrong\tGold:[False]; Ans:True, True, Because Gary is white and the rule is If someone is white then they are round. Gary is white so Gary is round.\n",
      "[50] correct\tGold:[True]; Ans:True, True, Because Charlie is round and all round things are blue, and Charlie is blue.\n",
      "[51] correct\tGold:[True]; Ans:True, True, Because Bob is young, and All young things are nice. Bob is young, so Bob is nice.\n",
      "[52] correct\tGold:[True]; Ans:True, True, Because Fiona is cold and young, and all cold, young things are smart.\n",
      "[53] correct\tGold:[True]; Ans:True, True, Because Harry is rough and Harry is kind, and according to the rule, all rough people are kind, Harry is quiet.\n",
      "[54] correct\tGold:[True]; Ans:True, True, Because Bob is blue, and all blue things are nice, and all nice things are round.\n",
      "[55] wrong\tGold:[False]; Ans:True, True, Because Anne is round, and Anne is nice, and Anne is not quiet. So Anne is blue.\n",
      "[56] wrong\tGold:[False]; Ans:True, True\n"
     ]
    },
    {
     "name": "stderr",
     "output_type": "stream",
     "text": [
      "/home/yanghn/env_py/lib/python3.8/site-packages/transformers/generation/utils.py:1281: UserWarning: Input length of input_ids is 427, but `max_length` is set to 400. This can lead to unexpected behavior. You should consider increasing `max_new_tokens`.\n",
      "  warnings.warn(\n"
     ]
    },
    {
     "name": "stdout",
     "output_type": "stream",
     "text": [
      "[57] wrong\tGold:[False]; Ans:True, True, Because Charlie is young and not big, and young things are red, and red things are not smart.\n",
      "[58] wrong\tGold:[False]; Ans:True, True, Because Gary is young and young, cold people are kind, and Gary is kind, so Gary is cold. Also, Gary is white, and all furry, kind people are white, so Gary is white.\n",
      "[59] wrong\tGold:[False]; Ans:True, True, Because Bob is not rough, and If something is rough then it is round. Bob is not round.\n",
      "Acc:\t30, 0.5\n",
      "TAcc:\t30, 0.5\n",
      "FAcc:\t0, 0.0\n",
      "Err:\t0, 0.0\n"
     ]
    }
   ],
   "source": [
    "text = \"Tom is good, If Tom is good, then Tom is nice. \"\n",
    "query = \"Tom is cute\"\n",
    "def formulate_prompt_conclusion(context:str, query:str)->str:\n",
    "    prompt = f\"\"\"Task please answer if the query can be inferred from the given context.\n",
    "Please compare the spelling strictly.\n",
    "<Example>\n",
    "Context: Bob is round. If Bob is round, then Bob is cute. \n",
    "Query: Bob is cute. \n",
    "Answer: True, Because Bob is round, and If Bob is round then Bob is cute. So Bob is cute. The query is True.\n",
    "</Example>\n",
    "<Example>\n",
    "Context: Bob is red. If Bob is round, then Bob is cute. \n",
    "Query: Bob is cute. \n",
    "Answer: False, The rule is not satisfied, the query can't be inferred from the context.\n",
    "</Example>\n",
    "<Example>\n",
    "Context: Bob is red. If Bob is green, then Bob is cute. \n",
    "Query: Bob is nice. \n",
    "Answer: False, None of the rules and Facts can infer the query.\n",
    "</Example>\n",
    "<Context>\n",
    "Context: {context}\n",
    "</Context>\n",
    "<Query>\n",
    "Query: {query}.\n",
    "</Query>\n",
    "<Answer>\n",
    "Answer:\n",
    "\"\"\"\n",
    "    return prompt\n",
    "prompt = formulate_prompt_conclusion(text, query)\n",
    "answer = ask(prompt)\n",
    "print(answer.replace(prompt, \"\"))\n",
    "\n",
    "Dataset.cleanup_cache_files\n",
    "path_dev = \"../dataset/real/jsonl/CWA_REAL_60.jsonl\"\n",
    "dataset = load_dataset('json', data_files=path_dev)\n",
    "prompt_answer_dict_list = [{'prompt': formulate_prompt_conclusion(data['theory'], data['question']), \n",
    "                            'answer':data['answer']} for data in dataset['train']]\n",
    "evaluate_dev(prompt_answer_dict_list)\n",
    "\n"
   ]
  }
 ],
 "metadata": {
  "kernelspec": {
   "display_name": "env_py",
   "language": "python",
   "name": "python3"
  },
  "language_info": {
   "codemirror_mode": {
    "name": "ipython",
    "version": 3
   },
   "file_extension": ".py",
   "mimetype": "text/x-python",
   "name": "python",
   "nbconvert_exporter": "python",
   "pygments_lexer": "ipython3",
   "version": "3.8.8"
  }
 },
 "nbformat": 4,
 "nbformat_minor": 2
}
