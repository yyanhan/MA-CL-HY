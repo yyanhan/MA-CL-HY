{
 "cells": [
  {
   "cell_type": "code",
   "execution_count": 2,
   "metadata": {},
   "outputs": [],
   "source": [
    "import pandas as pd"
   ]
  },
  {
   "cell_type": "code",
   "execution_count": 3,
   "metadata": {},
   "outputs": [],
   "source": [
    "dataset_name_list = [\n",
    "'CWA-0',\n",
    "'CWA-1',\n",
    "'CWA-2',\n",
    "'CWA-3',\n",
    "'CWA-4',\n",
    "'CWA-5',\n",
    "]\n",
    "dataset_path_list = [\n",
    " './Standard_llama2-7b_42_proofwriter_6000_CWA_REAL_depth-0_1000.jsonl_01_29_22_13_09_res.csv',\n",
    " './Standard_llama2-7b_42_proofwriter_6000_CWA_REAL_depth-1_1000.jsonl_01_29_22_33_11_res.csv',\n",
    " './Standard_llama2-7b_42_proofwriter_6000_CWA_REAL_depth-2_1000.jsonl_01_29_22_53_46_res.csv',\n",
    " './Standard_llama2-7b_42_proofwriter_6000_CWA_REAL_depth-3_1000.jsonl_01_29_23_16_48_res.csv',\n",
    " './Standard_llama2-7b_42_proofwriter_6000_CWA_REAL_depth-4_1000.jsonl_01_29_23_38_20_res.csv',\n",
    " './Standard_llama2-7b_42_proofwriter_6000_CWA_REAL_depth-5_1000.jsonl_01_31_15_48_05_res.csv']"
   ]
  },
  {
   "cell_type": "code",
   "execution_count": 4,
   "metadata": {},
   "outputs": [
    {
     "data": {
      "text/plain": [
       "Index(['Unnamed: 0', 'nr', 'q_nr', 'theory_nr', 'theory', 'question', 'answer',\n",
       "       'meta_folder', 'meta_file', 'meta_depth', 'meta_id', 'D_maxD',\n",
       "       'D_NFact', 'D_NRule', 'Q_Dep', 'Q_Len', 'Q_strategy', 'Q_proofs',\n",
       "       'output_prompt', 'output_answer', '1', '2', '3', '4', '5', '6', '7',\n",
       "       '8', '9', '10', '11', '12', '13', '14', '15', '16', '17', '18', '19',\n",
       "       '20', '21', '22', '23', '24', '25'],\n",
       "      dtype='object')"
      ]
     },
     "execution_count": 4,
     "metadata": {},
     "output_type": "execute_result"
    }
   ],
   "source": [
    "output_df   = pd.read_csv(dataset_path_list[0])\n",
    "output_df.columns"
   ]
  },
  {
   "cell_type": "code",
   "execution_count": 5,
   "metadata": {},
   "outputs": [],
   "source": [
    "def parse_label(text):\n",
    "    text = text.lower()\n",
    "    if 'true' in text and 'false' not in text:\n",
    "        return True\n",
    "    elif 'true' not in text and 'false' in text:\n",
    "        return False\n",
    "    else:\n",
    "        return 'error'\n",
    "    "
   ]
  },
  {
   "cell_type": "code",
   "execution_count": 6,
   "metadata": {},
   "outputs": [],
   "source": [
    "def analyse(dataset_name_list, dataset_path_list, answer_column:str):\n",
    "    print(f\"name\\tall\\t\\\n",
    "co:a\\tco:T%\\tco:PT\\tco:PF\\tco:RT\\tco:RF\\tError\")  \n",
    "    for dataset_name, dataset_path in zip(dataset_name_list, dataset_path_list):\n",
    "        output_df   = pd.read_csv(dataset_path)\n",
    "        num_all     = len(output_df)\n",
    "        output_df['answer_code'] = output_df[answer_column].map(parse_label)\n",
    "        output_df['correct'] = output_df['answer_code'] == output_df['answer']\n",
    "\n",
    "\n",
    "        # num_answer_correct      = output_df['correct'].value_counts()[1]\n",
    "        num_answer_correct      = len(output_df[output_df['correct']==True])\n",
    "        num_code_acc                     = num_answer_correct / num_all\n",
    "        num_code_acc                     = round(num_code_acc, 2) * 100\n",
    "\n",
    "        # How many True\n",
    "        num_code_T   = len(output_df[output_df['answer_code']==True]) /num_all\n",
    "        num_code_E   = len(output_df[output_df['answer_code']=='error']) /num_all\n",
    "\n",
    "\n",
    "        # How many\n",
    "        num_code_RealT_PredT = len(output_df[(output_df['answer']==True) & (output_df['answer_code']==True)])\n",
    "        num_code_RealT_PredF = len(output_df[(output_df['answer']==True) & (output_df['answer_code']==False)])\n",
    "        num_code_RealF_PredF = len(output_df[(output_df['answer']==False) & (output_df['answer_code']==False)])\n",
    "        num_code_RealF_PredT = len(output_df[(output_df['answer']==False) & (output_df['answer_code']==True)])\n",
    "        # precise: in all found True, how many are real True\n",
    "        # recall: in all real True, how many are cound\n",
    "        # Code\n",
    "        precise_T_code  = num_code_RealT_PredT / (len(output_df[output_df['answer_code']==True])+0.0000001)\n",
    "        precise_F_code  = num_code_RealF_PredF  / (len(output_df[output_df['answer_code']==False])+0.0000001)\n",
    "        recall_T_code   = num_code_RealT_PredT / (len(output_df[output_df['answer']==True]))\n",
    "        recall_F_code   = num_code_RealF_PredF / (len(output_df[output_df['answer']==False]))\n",
    "       \n",
    "\n",
    "        # num_code_acc    = str(num_code_acc  *100)[:6]\n",
    "        num_code_T      = str(num_code_T    *100)[:6]\n",
    "        num_code_E      = str(num_code_E    *100)[:6]\n",
    "        precise_T_code  = str(precise_T_code*100)[:6]\n",
    "        precise_F_code  = str(precise_F_code  *100)[:6]\n",
    "        recall_T_code   = str(recall_T_code  *100)[:6]\n",
    "        recall_F_code   = str(recall_F_code  *100)[:6]\n",
    "        \n",
    "        # print(f\"{dataset_name}\\t{num_all}\\t{num_answer_correct}\\t{round(acc, 2)}%\\t{num_answer_error}\\t{error}%\\t{acc_T}%\\t{acc_F}%\")\n",
    "        print(f\"{dataset_name}\\t{num_all}\\t\\\n",
    "{num_code_acc}\\t{num_code_T}\\t{precise_T_code}\\t{precise_F_code}\\t{recall_T_code}\\t{recall_F_code}\\t{num_code_E}\")\n",
    "        \n"
   ]
  },
  {
   "cell_type": "markdown",
   "metadata": {},
   "source": [
    "# Standard 7B"
   ]
  },
  {
   "cell_type": "code",
   "execution_count": 7,
   "metadata": {},
   "outputs": [
    {
     "name": "stdout",
     "output_type": "stream",
     "text": [
      "name\tall\tco:a\tco:T%\tco:PT\tco:PF\tco:RT\tco:RF\tError\n",
      "CWA-0\t1000\t56.00000000000001\t77.0\t58.311\t70.303\t89.8\t23.200\t6.5\n",
      "CWA-1\t1000\t50.0\t79.0\t53.164\t76.999\t84.0\t15.4\t11.0\n",
      "CWA-2\t1000\t51.0\t77.5\t54.709\t71.551\t84.8\t16.6\t10.9\n",
      "CWA-3\t1000\t50.0\t80.2\t53.990\t69.148\t86.6\t13.0\t10.4\n",
      "CWA-4\t1000\t54.0\t75.8\t56.068\t73.584\t85.0\t23.400\t8.3\n",
      "CWA-5\t1000\t49.0\t69.1\t54.992\t65.714\t76.0\t23.0\t13.4\n"
     ]
    }
   ],
   "source": [
    "analyse(dataset_name_list=dataset_name_list, dataset_path_list=dataset_path_list, answer_column='4')"
   ]
  },
  {
   "cell_type": "markdown",
   "metadata": {},
   "source": [
    "# Standard 13B"
   ]
  },
  {
   "cell_type": "code",
   "execution_count": 9,
   "metadata": {},
   "outputs": [],
   "source": [
    "dataset_name_list = [\n",
    "'CWA-0',\n",
    "'CWA-1',\n",
    "'CWA-2',\n",
    "'CWA-3',\n",
    "'CWA-4',\n",
    "'CWA-5',\n",
    "]\n",
    "dataset_path_list = [\n",
    " './Standard_llama-13b-hf_42_proofwriter_6000_CWA_REAL_depth-0_1000.jsonl_02_03_12_35_17_res.csv',\n",
    " './Standard_llama-13b-hf_42_proofwriter_6000_CWA_REAL_depth-1_1000.jsonl_02_03_13_18_25_res.csv',\n",
    " './Standard_llama-13b-hf_42_proofwriter_6000_CWA_REAL_depth-2_1000.jsonl_02_04_03_49_29_res.csv',\n",
    " './Standard_llama-13b-hf_42_proofwriter_6000_CWA_REAL_depth-3_1000.jsonl_02_04_03_58_11_res.csv',\n",
    " './Standard_llama-13b-hf_42_proofwriter_6000_CWA_REAL_depth-4_1000.jsonl_02_04_04_21_56_res.csv',\n",
    " './Standard_llama-13b-hf_42_proofwriter_6000_CWA_REAL_depth-5_1000.jsonl_02_04_04_36_23_res.csv']"
   ]
  },
  {
   "cell_type": "code",
   "execution_count": 10,
   "metadata": {},
   "outputs": [
    {
     "name": "stdout",
     "output_type": "stream",
     "text": [
      "name\tall\tco:a\tco:T%\tco:PT\tco:PF\tco:RT\tco:RF\tError\n",
      "CWA-0\t1000\t34.0\t65.5\t52.366\t99.999\t68.600\t0.2\t34.4\n",
      "CWA-1\t1000\t30.0\t60.6\t49.504\t0.0\t60.0\t0.0\t39.4\n",
      "CWA-2\t1000\t33.0\t63.4\t52.523\t0.0\t66.600\t0.0\t36.6\n",
      "CWA-3\t1000\t32.0\t65.3\t49.617\t0.0\t64.8\t0.0\t34.699\n",
      "CWA-4\t1000\t38.0\t75.5\t49.801\t0.0\t75.2\t0.0\t24.5\n",
      "CWA-5\t1000\t37.0\t74.0\t50.270\t0.0\t74.4\t0.0\t26.0\n"
     ]
    }
   ],
   "source": [
    "analyse(dataset_name_list=dataset_name_list, dataset_path_list=dataset_path_list, answer_column='4')"
   ]
  }
 ],
 "metadata": {
  "kernelspec": {
   "display_name": "env",
   "language": "python",
   "name": "env"
  },
  "language_info": {
   "codemirror_mode": {
    "name": "ipython",
    "version": 3
   },
   "file_extension": ".py",
   "mimetype": "text/x-python",
   "name": "python",
   "nbconvert_exporter": "python",
   "pygments_lexer": "ipython3",
   "version": "3.10.11"
  }
 },
 "nbformat": 4,
 "nbformat_minor": 2
}
