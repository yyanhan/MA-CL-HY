{
 "cells": [
  {
   "cell_type": "code",
   "execution_count": 2,
   "metadata": {},
   "outputs": [],
   "source": [
    "import pandas as pd"
   ]
  },
  {
   "cell_type": "code",
   "execution_count": 3,
   "metadata": {},
   "outputs": [],
   "source": [
    "dataset_name_list = [\n",
    "'CWA-0',\n",
    "'CWA-1',\n",
    "'CWA-2',\n",
    "'CWA-3',\n",
    "'CWA-4',\n",
    "'CWA-5',\n",
    "]\n",
    "dataset_path_list = [\n",
    " './Standard_Fewshot_llama2-7b_42_proofwriter_6000_CWA_REAL_depth-0_1000.jsonl_01_29_19_13_22_res.csv',\n",
    " './Standard_Fewshot_llama2-7b_42_proofwriter_6000_CWA_REAL_depth-1_1000.jsonl_01_29_19_37_19_res.csv',\n",
    " './Standard_Fewshot_llama2-7b_42_proofwriter_6000_CWA_REAL_depth-2_1000.jsonl_01_29_20_01_22_res.csv',\n",
    " './Standard_Fewshot_llama2-7b_42_proofwriter_6000_CWA_REAL_depth-3_1000.jsonl_01_29_20_24_55_res.csv',\n",
    " './Standard_Fewshot_llama2-7b_42_proofwriter_6000_CWA_REAL_depth-4_1000.jsonl_01_29_20_36_26_res.csv',\n",
    " './Standard_Fewshot_llama2-7b_42_proofwriter_6000_CWA_REAL_depth-5_1000.jsonl_01_29_20_48_57_res.csv']"
   ]
  },
  {
   "cell_type": "code",
   "execution_count": 4,
   "metadata": {},
   "outputs": [
    {
     "data": {
      "text/plain": [
       "Index(['Unnamed: 0', 'nr', 'q_nr', 'theory_nr', 'theory', 'question', 'answer',\n",
       "       'meta_folder', 'meta_file', 'meta_depth', 'meta_id', 'D_maxD',\n",
       "       'D_NFact', 'D_NRule', 'Q_Dep', 'Q_Len', 'Q_strategy', 'Q_proofs',\n",
       "       'output_prompt', 'output_answer', '1', '2', '3', '4', '5', '6', '7',\n",
       "       '8', '9', '10', '11', '12', '13', '14', '15', '16', '17', '18', '19',\n",
       "       '20', '21', '22', '23', '24', '25', '26', '27', '28', '29', '30', '31',\n",
       "       '32'],\n",
       "      dtype='object')"
      ]
     },
     "execution_count": 4,
     "metadata": {},
     "output_type": "execute_result"
    }
   ],
   "source": [
    "output_df   = pd.read_csv(dataset_path_list[0])\n",
    "output_df.columns"
   ]
  },
  {
   "cell_type": "code",
   "execution_count": 5,
   "metadata": {},
   "outputs": [],
   "source": [
    "def parse_label(text):\n",
    "    text = text.lower()\n",
    "    if 'true' in text and 'false' not in text:\n",
    "        return True\n",
    "    elif 'true' not in text and 'false' in text:\n",
    "        return False\n",
    "    else:\n",
    "        return 'error'\n",
    "    "
   ]
  },
  {
   "cell_type": "code",
   "execution_count": 6,
   "metadata": {},
   "outputs": [],
   "source": [
    "def analyse(dataset_name_list, dataset_path_list, answer_column:str):\n",
    "    print(f\"name\\tall\\t\\\n",
    "co:a\\tco:T%\\tco:PT\\tco:PF\\tco:RT\\tco:RF\\tError\")  \n",
    "    for dataset_name, dataset_path in zip(dataset_name_list, dataset_path_list):\n",
    "        output_df   = pd.read_csv(dataset_path)\n",
    "        num_all     = len(output_df)\n",
    "        output_df['answer_code'] = output_df[answer_column].map(parse_label)\n",
    "        output_df['correct'] = output_df['answer_code'] == output_df['answer']\n",
    "\n",
    "\n",
    "        # num_answer_correct      = output_df['correct'].value_counts()[1]\n",
    "        num_answer_correct      = len(output_df[output_df['correct']==True])\n",
    "        num_code_acc                     = num_answer_correct / num_all\n",
    "        num_code_acc                     = round(num_code_acc, 2) * 100\n",
    "\n",
    "        # How many True\n",
    "        num_code_T   = len(output_df[output_df['answer_code']==True]) /num_all\n",
    "        num_code_E   = len(output_df[output_df['answer_code']=='error']) /num_all\n",
    "\n",
    "\n",
    "        # How many\n",
    "        num_code_RealT_PredT = len(output_df[(output_df['answer']==True) & (output_df['answer_code']==True)])\n",
    "        num_code_RealT_PredF = len(output_df[(output_df['answer']==True) & (output_df['answer_code']==False)])\n",
    "        num_code_RealF_PredF = len(output_df[(output_df['answer']==False) & (output_df['answer_code']==False)])\n",
    "        num_code_RealF_PredT = len(output_df[(output_df['answer']==False) & (output_df['answer_code']==True)])\n",
    "        # precise: in all found True, how many are real True\n",
    "        # recall: in all real True, how many are cound\n",
    "        # Code\n",
    "        precise_T_code  = num_code_RealT_PredT / (len(output_df[output_df['answer_code']==True])+0.0000001)\n",
    "        precise_F_code  = num_code_RealF_PredF  / (len(output_df[output_df['answer_code']==False])+0.0000001)\n",
    "        recall_T_code   = num_code_RealT_PredT / (len(output_df[output_df['answer']==True]))\n",
    "        recall_F_code   = num_code_RealF_PredF / (len(output_df[output_df['answer']==False]))\n",
    "       \n",
    "\n",
    "        # num_code_acc    = str(num_code_acc  *100)[:6]\n",
    "        num_code_T      = str(num_code_T    *100)[:6]\n",
    "        num_code_E      = str(num_code_E    *100)[:6]\n",
    "        precise_T_code  = str(precise_T_code*100)[:6]\n",
    "        precise_F_code  = str(precise_F_code  *100)[:6]\n",
    "        recall_T_code   = str(recall_T_code  *100)[:6]\n",
    "        recall_F_code   = str(recall_F_code  *100)[:6]\n",
    "        \n",
    "        # print(f\"{dataset_name}\\t{num_all}\\t{num_answer_correct}\\t{round(acc, 2)}%\\t{num_answer_error}\\t{error}%\\t{acc_T}%\\t{acc_F}%\")\n",
    "        print(f\"{dataset_name}\\t{num_all}\\t\\\n",
    "{num_code_acc}\\t{num_code_T}\\t{precise_T_code}\\t{precise_F_code}\\t{recall_T_code}\\t{recall_F_code}\\t{num_code_E}\")\n",
    "        \n"
   ]
  },
  {
   "cell_type": "markdown",
   "metadata": {},
   "source": [
    "# 7B"
   ]
  },
  {
   "cell_type": "code",
   "execution_count": 7,
   "metadata": {},
   "outputs": [
    {
     "name": "stdout",
     "output_type": "stream",
     "text": [
      "name\tall\tco:a\tco:T%\tco:PT\tco:PF\tco:RT\tco:RF\tError\n",
      "CWA-0\t1000\t50.0\t0.1\t99.999\t50.050\t0.2\t100.0\t0.0\n",
      "CWA-1\t1000\t50.0\t0.0\t0.0\t49.999\t0.0\t100.0\t0.0\n",
      "CWA-2\t1000\t50.0\t0.0\t0.0\t49.999\t0.0\t100.0\t0.0\n",
      "CWA-3\t1000\t50.0\t0.0\t0.0\t49.999\t0.0\t100.0\t0.0\n",
      "CWA-4\t1000\t50.0\t0.0\t0.0\t49.999\t0.0\t100.0\t0.0\n",
      "CWA-5\t1000\t50.0\t0.1\t99.999\t50.050\t0.2\t100.0\t0.0\n"
     ]
    }
   ],
   "source": [
    "analyse(dataset_name_list=dataset_name_list, dataset_path_list=dataset_path_list, answer_column='7')"
   ]
  },
  {
   "cell_type": "markdown",
   "metadata": {},
   "source": [
    "# 13 B"
   ]
  },
  {
   "cell_type": "code",
   "execution_count": 8,
   "metadata": {},
   "outputs": [
    {
     "name": "stdout",
     "output_type": "stream",
     "text": [
      "name\tall\tco:a\tco:T%\tco:PT\tco:PF\tco:RT\tco:RF\tError\n",
      "CWA-0\t1000\t78.0\t71.6\t69.692\t99.647\t99.8\t56.599\t0.0\n",
      "CWA-1\t1000\t70.0\t75.6\t63.359\t91.393\t95.8\t44.6\t0.0\n",
      "CWA-2\t1000\t66.0\t79.600\t60.175\t89.705\t95.8\t36.6\t0.0\n",
      "CWA-3\t1000\t67.0\t79.4\t60.579\t90.776\t96.2\t37.4\t0.0\n",
      "CWA-4\t1000\t65.0\t83.399\t58.872\t94.578\t98.2\t31.4\t0.0\n",
      "CWA-5\t1000\t62.0\t86.1\t56.794\t92.086\t97.8\t25.6\t0.0\n"
     ]
    }
   ],
   "source": [
    "dataset_name_list = [\n",
    "'CWA-0',\n",
    "'CWA-1',\n",
    "'CWA-2',\n",
    "'CWA-3',\n",
    "'CWA-4',\n",
    "'CWA-5',\n",
    "]\n",
    "dataset_path_list = [\n",
    " './Standard_Fewshot_llama-13b-hf_42_proofwriter_6000_CWA_REAL_depth-0_1000.jsonl_02_04_05_32_43_res.csv',\n",
    " './Standard_Fewshot_llama-13b-hf_42_proofwriter_6000_CWA_REAL_depth-1_1000.jsonl_02_04_05_35_00_res.csv',\n",
    " './Standard_Fewshot_llama-13b-hf_42_proofwriter_6000_CWA_REAL_depth-2_1000.jsonl_02_04_05_42_02_res.csv',\n",
    " './Standard_Fewshot_llama-13b-hf_42_proofwriter_6000_CWA_REAL_depth-3_1000.jsonl_02_04_06_09_03_res.csv',\n",
    " './Standard_Fewshot_llama-13b-hf_42_proofwriter_6000_CWA_REAL_depth-4_1000.jsonl_02_04_06_17_19_res.csv',\n",
    " './Standard_Fewshot_llama-13b-hf_42_proofwriter_6000_CWA_REAL_depth-5_1000.jsonl_02_04_06_41_29_res.csv']\n",
    "\n",
    "analyse(dataset_name_list=dataset_name_list, dataset_path_list=dataset_path_list, answer_column='7')"
   ]
  }
 ],
 "metadata": {
  "kernelspec": {
   "display_name": "env",
   "language": "python",
   "name": "env"
  },
  "language_info": {
   "codemirror_mode": {
    "name": "ipython",
    "version": 3
   },
   "file_extension": ".py",
   "mimetype": "text/x-python",
   "name": "python",
   "nbconvert_exporter": "python",
   "pygments_lexer": "ipython3",
   "version": "3.10.11"
  }
 },
 "nbformat": 4,
 "nbformat_minor": 2
}
