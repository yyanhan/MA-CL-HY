{
 "cells": [
  {
   "cell_type": "code",
   "execution_count": 178,
   "metadata": {},
   "outputs": [],
   "source": [
    "import pandas as pd"
   ]
  },
  {
   "cell_type": "code",
   "execution_count": 179,
   "metadata": {},
   "outputs": [],
   "source": [
    "dataset_name_list = [\n",
    "'CWA-0',\n",
    "'CWA-1',\n",
    "'CWA-2',\n",
    "'CWA-3',\n",
    "'CWA-4',\n",
    "'CWA-5',\n",
    "]"
   ]
  },
  {
   "cell_type": "code",
   "execution_count": 180,
   "metadata": {},
   "outputs": [],
   "source": [
    "dataset_path_list = [\n",
    " './COT_llama-7b-chat-hf_42_proofwriter_6000_CWA_REAL_depth-0_1000.jsonl_01_28_19_46_49_res.csv',\n",
    " './COT_llama-7b-chat-hf_42_proofwriter_6000_CWA_REAL_depth-1_1000.jsonl_01_28_19_52_18_res.csv',\n",
    " './COT_llama-7b-chat-hf_42_proofwriter_6000_CWA_REAL_depth-2_1000.jsonl_01_28_20_34_24_res.csv',\n",
    " './COT_llama-7b-chat-hf_42_proofwriter_6000_CWA_REAL_depth-3_1000.jsonl_01_28_20_37_47_res.csv',\n",
    " './COT_llama-7b-chat-hf_42_proofwriter_6000_CWA_REAL_depth-4_1000.jsonl_01_28_21_21_33_res.csv',\n",
    " './COT_llama-7b-chat-hf_42_proofwriter_6000_CWA_REAL_depth-5_1000.jsonl_01_28_21_26_27_res.csv']"
   ]
  },
  {
   "cell_type": "code",
   "execution_count": 181,
   "metadata": {},
   "outputs": [
    {
     "data": {
      "text/plain": [
       "Index(['Unnamed: 0', 'nr', 'q_nr', 'theory_nr', 'theory', 'question', 'answer',\n",
       "       'meta_folder', 'meta_file', 'meta_depth', 'meta_id', 'D_maxD',\n",
       "       'D_NFact', 'D_NRule', 'Q_Dep', 'Q_Len', 'Q_strategy', 'Q_proofs',\n",
       "       'prompt', 'answer_label', 'answer_reason', 'correct', 'error'],\n",
       "      dtype='object')"
      ]
     },
     "execution_count": 181,
     "metadata": {},
     "output_type": "execute_result"
    }
   ],
   "source": [
    "output_df   = pd.read_csv(dataset_path_list[0])\n",
    "output_df.columns"
   ]
  },
  {
   "cell_type": "code",
   "execution_count": 182,
   "metadata": {},
   "outputs": [],
   "source": [
    "def analyse(dataset_name_list, dataset_path_list):\n",
    "    print(f\"name\\tall\\tco:a\\tco:T%\\tco:PT\\tco:PF\\tco:RT\\tco:RF\\tError\")  \n",
    "    for dataset_name, dataset_path in zip(dataset_name_list, dataset_path_list):\n",
    "        output_df   = pd.read_csv(dataset_path)\n",
    "        num_all     = len(output_df)\n",
    "        # num_answer_correct      = output_df['correct'].value_counts()[1]\n",
    "        num_answer_correct      = len(output_df[output_df['correct'] == 1])\n",
    "\n",
    "        acc                     = num_answer_correct / num_all\n",
    "        acc                     = round(acc, 2) * 100\n",
    "        num_answer_error        = len(output_df[output_df['error'] == 1])\n",
    "        # num_answer_error        = output_df['error'].value_counts()[1]\n",
    "        error                   = num_answer_error\n",
    "        # error                   = num_answer_error / num_all\n",
    "        # error                   = round(error, 2) * 100\n",
    "\n",
    "        # true_label_df           = output_df[output_df['answer']==True]\n",
    "        true_label_df           = output_df.head(500)\n",
    "        num_true_label_all      = len(true_label_df)\n",
    "        # print(true_label_df)\n",
    "        num_correct_true_label  = len(true_label_df[true_label_df['correct'] == 1])\n",
    "        # num_correct_true_label  = true_label_df['correct'].value_counts()[1]\n",
    "        acc_T                   = num_correct_true_label / num_true_label_all\n",
    "        acc_T                   = round(acc_T, 2) * 100\n",
    "\n",
    "        # false_label_df          = output_df[output_df['answer']=='False']\n",
    "        false_label_df          = output_df.tail(500)\n",
    "        num_false_label_all     = len(false_label_df)\n",
    "        num_correct_false_label  = len(false_label_df[false_label_df['correct'] == 1])\n",
    "        # num_correct_false_label = false_label_df['correct'].value_counts()[1]\n",
    "        acc_F                   = num_correct_false_label / num_false_label_all\n",
    "        acc_F                   = round(acc_F, 2) * 100\n",
    "\n",
    "        num_T = len(true_label_df[(true_label_df['correct']==1)]) + len(false_label_df[(false_label_df['correct']==0)])\n",
    "        num_F = 1000 - num_T\n",
    "\n",
    "        \n",
    "        # How many\n",
    "        num_code_RealT_PredT = len(true_label_df[(true_label_df['correct']==1)])\n",
    "        num_code_RealT_PredF = len(true_label_df[(true_label_df['correct']==0)])\n",
    "\n",
    "        num_code_RealF_PredF = len(false_label_df[(false_label_df['correct']==1)])\n",
    "        num_code_RealF_PredT = len(false_label_df[(false_label_df['correct']==0)])\n",
    "        # precise: in all found True, how many are real True\n",
    "        # recall: in all real True, how many are cound\n",
    "        # Code\n",
    "        precise_T_code  = num_code_RealT_PredT / (num_T+0.0000001)\n",
    "        precise_F_code  = num_code_RealF_PredF  /(num_F+0.0000001)\n",
    "        recall_T_code   = num_code_RealT_PredT / 500\n",
    "        recall_F_code   = num_code_RealF_PredF / 500\n",
    "\n",
    "        num_T           = str(num_T /1000   *100)[:6]\n",
    "        precise_T_code  = str(precise_T_code*100)[:5]\n",
    "        precise_F_code  = str(precise_F_code*100)[:5]\n",
    "        recall_T_code   = str(recall_T_code *100)[:6]\n",
    "        recall_F_code   = str(recall_F_code *100)[:6]\n",
    "\n",
    "        print(f\"{dataset_name}\\t{num_all}\\t\\\n",
    "{acc}\\t{num_T}\\t{precise_T_code}\\t{precise_F_code}\\t{recall_T_code}\\t{recall_F_code}\\t{error}\")\n",
    "\n",
    "        # print(f\"{dataset_name}\\t{num_all}\\t{num_answer_correct}\\t{round(acc, 2)}%\\t{num_answer_error}\\t{error}%\\t{acc_T}%\\t{acc_F}%\")"
   ]
  },
  {
   "cell_type": "markdown",
   "metadata": {},
   "source": [
    "# COT - 7B"
   ]
  },
  {
   "cell_type": "code",
   "execution_count": 183,
   "metadata": {},
   "outputs": [
    {
     "name": "stdout",
     "output_type": "stream",
     "text": [
      "name\tall\tco:a\tco:T%\tco:PT\tco:PF\tco:RT\tco:RF\tError\n",
      "CWA-0\t1000\t89.0\t49.5\t89.09\t88.31\t88.2\t89.2\t8\n",
      "CWA-1\t1000\t85.0\t48.3\t86.54\t84.13\t83.6\t87.0\t5\n",
      "CWA-2\t1000\t86.0\t48.8\t86.88\t85.15\t84.8\t87.2\t3\n",
      "CWA-3\t1000\t83.0\t50.8\t82.28\t83.33\t83.6\t82.0\t4\n",
      "CWA-4\t1000\t86.0\t53.0\t83.58\t87.87\t88.6\t82.6\t5\n",
      "CWA-5\t1000\t81.0\t49.8\t81.52\t81.27\t81.2\t81.6\t2\n"
     ]
    }
   ],
   "source": [
    "analyse(dataset_name_list=dataset_name_list, dataset_path_list=dataset_path_list)"
   ]
  },
  {
   "cell_type": "markdown",
   "metadata": {},
   "source": [
    "# COT - 13B"
   ]
  },
  {
   "cell_type": "code",
   "execution_count": 184,
   "metadata": {},
   "outputs": [],
   "source": [
    "dataset_name_list = [\n",
    "'CWA-0',\n",
    "'CWA-1',\n",
    "'CWA-2',\n",
    "'CWA-3',\n",
    "'CWA-4',\n",
    "'CWA-5',\n",
    "]\n",
    "dataset_path_list = [\n",
    " './COT_llama-13b-hf_42_proofwriter_6000_CWA_REAL_depth-0_1000.jsonl_02_01_21_00_17_res.csv',\n",
    " './COT_llama-13b-hf_42_proofwriter_6000_CWA_REAL_depth-1_1000.jsonl_02_01_22_15_37_res.csv',\n",
    " './COT_llama-13b-hf_42_proofwriter_6000_CWA_REAL_depth-2_1000.jsonl_02_02_20_11_21_res.csv',\n",
    " './COT_llama-13b-hf_42_proofwriter_6000_CWA_REAL_depth-3_1000.jsonl_02_02_21_21_39_res.csv',\n",
    " './COT_llama-13b-hf_42_proofwriter_6000_CWA_REAL_depth-4_1000.jsonl_02_02_22_35_47_res.csv',\n",
    " './COT_llama-13b-hf_42_proofwriter_6000_CWA_REAL_depth-5_1000.jsonl_02_02_23_47_48_res.csv']"
   ]
  },
  {
   "cell_type": "code",
   "execution_count": 185,
   "metadata": {},
   "outputs": [
    {
     "name": "stdout",
     "output_type": "stream",
     "text": [
      "name\tall\tco:a\tco:T%\tco:PT\tco:PF\tco:RT\tco:RF\tError\n",
      "CWA-0\t1000\t0.0\t50.0\t0.0\t0.0\t0.0\t0.0\t1000\n",
      "CWA-1\t1000\t0.0\t50.0\t0.0\t0.0\t0.0\t0.0\t1000\n",
      "CWA-2\t1000\t0.0\t50.0\t0.0\t0.0\t0.0\t0.0\t1000\n",
      "CWA-3\t1000\t0.0\t50.0\t0.0\t0.0\t0.0\t0.0\t1000\n",
      "CWA-4\t1000\t0.0\t50.0\t0.0\t0.0\t0.0\t0.0\t1000\n"
     ]
    },
    {
     "name": "stdout",
     "output_type": "stream",
     "text": [
      "CWA-5\t1000\t0.0\t50.0\t0.0\t0.0\t0.0\t0.0\t1000\n"
     ]
    }
   ],
   "source": [
    "analyse(dataset_name_list=dataset_name_list, dataset_path_list=dataset_path_list)"
   ]
  }
 ],
 "metadata": {
  "kernelspec": {
   "display_name": "env",
   "language": "python",
   "name": "env"
  },
  "language_info": {
   "codemirror_mode": {
    "name": "ipython",
    "version": 3
   },
   "file_extension": ".py",
   "mimetype": "text/x-python",
   "name": "python",
   "nbconvert_exporter": "python",
   "pygments_lexer": "ipython3",
   "version": "3.10.11"
  }
 },
 "nbformat": 4,
 "nbformat_minor": 2
}
