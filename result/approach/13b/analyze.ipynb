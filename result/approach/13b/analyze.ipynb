{
 "cells": [
  {
   "cell_type": "code",
   "execution_count": 15,
   "metadata": {},
   "outputs": [],
   "source": [
    "import pandas as pd"
   ]
  },
  {
   "cell_type": "code",
   "execution_count": null,
   "metadata": {},
   "outputs": [],
   "source": []
  },
  {
   "cell_type": "markdown",
   "metadata": {},
   "source": [
    "# NL\n"
   ]
  },
  {
   "cell_type": "code",
   "execution_count": 16,
   "metadata": {},
   "outputs": [],
   "source": [
    "def label_to_answer(str):\n",
    "    if 'yes' in str.lower() and 'no' not in str.lower() :\n",
    "        return True\n",
    "    elif 'yes' not in str.lower() and 'no' in str.lower() :\n",
    "        return False\n",
    "    else:\n",
    "        return 'error'"
   ]
  },
  {
   "cell_type": "code",
   "execution_count": 24,
   "metadata": {},
   "outputs": [],
   "source": [
    "import pandas as pd\n",
    "def analyse(dataset_name_list, dataset_path_list, isMulti):\n",
    "    print(f\"name\\tall\\t\\\n",
    "co:a\\tco:T%\\tco:PT\\tco:PF\\tco:RT\\tco:RF\\t\\\n",
    "LLM:a\\tLLM:T%\\tLLM:PT\\tLLM:PF\\tLLM:RT\\tLLM:RF\")    \n",
    "\n",
    "    for dataset_name, dataset_path in zip(dataset_name_list, dataset_path_list):\n",
    "        output_df   = pd.read_csv(dataset_path)\n",
    "        num_all     = len(output_df)\n",
    "        if isMulti:\n",
    "            output_df['answer_LLM'] = output_df['answer_labels'].map(label_to_answer)\n",
    "        output_df['correct_code'] = output_df['answer_code'] == output_df['answer']    # correct = True\n",
    "        output_df['correct_LLM'] = output_df['answer_LLM'] == output_df['answer']      # correct = True\n",
    "\n",
    "        # overall acc\n",
    "        num_code_acc   = output_df['correct_code'].value_counts()[True]/1000\n",
    "        num_LLM_acc    = output_df['correct_LLM'].value_counts()[True]/1000\n",
    "\n",
    "        # How many True\n",
    "        num_code_T   = len(output_df[output_df['answer_code']==True]) /1000\n",
    "        num_LLM_T    = len(output_df[output_df['answer_LLM'] ==True]) /1000\n",
    "        num_err    = len(output_df[output_df['answer_LLM'] =='error'])\n",
    "\n",
    "        # How many\n",
    "        num_code_RealT_PredT = len(output_df[(output_df['answer']==True) & (output_df['answer_code']==True)])\n",
    "        num_code_RealT_PredF = len(output_df[(output_df['answer']==True) & (output_df['answer_code']==False)])\n",
    "        num_code_RealF_PredF = len(output_df[(output_df['answer']==False) & (output_df['answer_code']==False)])\n",
    "        num_code_RealF_PredT = len(output_df[(output_df['answer']==False) & (output_df['answer_code']==True)])\n",
    "\n",
    "        num_LLM_RealT_PredT = len(output_df[(output_df['answer']==True) & (output_df['answer_LLM']==True)])\n",
    "        num_LLM_RealT_PredF = len(output_df[(output_df['answer']==True) & (output_df['answer_LLM']==False)])\n",
    "        num_LLM_RealF_PredF = len(output_df[(output_df['answer']==False) & (output_df['answer_LLM']==False)])\n",
    "        num_LLM_RealF_PredT = len(output_df[(output_df['answer']==False) & (output_df['answer_LLM']==True)])\n",
    "\n",
    "        # precise: in all found True, how many are real True\n",
    "        # recall: in all real True, how many are cound\n",
    "        # Code\n",
    "        precise_T_code  = num_code_RealT_PredT / (len(output_df[output_df['answer_code']==True])+0.0000001)\n",
    "        precise_F_code  = num_code_RealF_PredF  / (len(output_df[output_df['answer_code']==False])+0.0000001)\n",
    "        recall_T_code   = num_code_RealT_PredT / (len(output_df[output_df['answer']==True]))\n",
    "        recall_F_code   = num_code_RealF_PredF / (len(output_df[output_df['answer']==False]))\n",
    "        # LLM\n",
    "        precise_T_LLM   = num_LLM_RealT_PredT  / (len(output_df[output_df['answer_LLM']==True])+0.0000001)\n",
    "        precise_F_LLM   = num_LLM_RealF_PredF  / (len(output_df[output_df['answer_LLM']==False])+0.0000001)\n",
    "        recall_T_LLM    = num_LLM_RealT_PredT  / (len(output_df[output_df['answer']==True]))\n",
    "        recall_F_LLM    = num_LLM_RealF_PredF  / (len(output_df[output_df['answer']==False]))\n",
    "        \n",
    "        num_LLM_acc     = str(num_LLM_acc  *100)[:6]\n",
    "        num_code_acc    = str(num_code_acc  *100)[:6]\n",
    "        num_code_T      = str(num_code_T    *100)[:6]\n",
    "        num_LLM_T       = str(num_LLM_T     *100)[:6]\n",
    "        precise_T_code  = str(precise_T_code*100)[:6]\n",
    "        precise_F_code  = str(precise_F_code  *100)[:6]\n",
    "        recall_T_code   = str(recall_T_code  *100)[:6]\n",
    "        recall_F_code   = str(recall_F_code  *100)[:6]\n",
    "        num_LLM_acc     = str(num_LLM_acc   *100)[:6]\n",
    "        precise_T_LLM   = str(precise_T_LLM *100)[:6]\n",
    "        precise_F_LLM   = str(precise_F_LLM  *100)[:6]\n",
    "        recall_T_LLM    = str(precise_F_LLM  *100)[:6]\n",
    "        recall_F_LLM    = str(recall_F_LLM  *100)[:6]\n",
    "\n",
    "        print(f\"{dataset_name}\\t{num_all}\\t\\\n",
    "{num_code_acc}\\t{num_code_T}\\t{precise_T_code}\\t{precise_F_code}\\t{recall_T_code}\\t{recall_F_code}\\t\\\n",
    "{num_LLM_acc}\\t{num_LLM_T}\\t{precise_T_LLM}\\t{precise_F_LLM}\\t{recall_T_LLM}\\t{recall_F_LLM}\\t{num_err}\")\n"
   ]
  },
  {
   "cell_type": "markdown",
   "metadata": {},
   "source": [
    "# M - M - STEP 1"
   ]
  },
  {
   "cell_type": "code",
   "execution_count": 25,
   "metadata": {},
   "outputs": [
    {
     "name": "stdout",
     "output_type": "stream",
     "text": [
      "name\tall\tco:a\tco:T%\tco:PT\tco:PF\tco:RT\tco:RF\tLLM:a\tLLM:T%\tLLM:PT\tLLM:PF\tLLM:RT\tLLM:RF\n",
      "CWA-0\t1000\t99.6\t50.4\t99.206\t99.999\t100.0\t99.2\t50.050\t0.0\t0.0\t49.999\t49.999\t100.0\t0\n",
      "CWA-1\t1000\t51.7\t2.3\t86.956\t50.870\t4.0\t99.4\t50.050\t0.0\t0.0\t49.999\t49.999\t100.0\t0\n",
      "CWA-2\t1000\t52.400\t3.2\t87.499\t51.239\t5.6000\t99.2\t50.050\t0.0\t0.0\t49.999\t49.999\t100.0\t0\n",
      "CWA-3\t1000\t51.800\t2.1999\t90.909\t50.920\t4.0\t99.6\t50.050\t0.0\t0.0\t49.999\t49.999\t100.0\t0\n",
      "CWA-4\t1000\t51.4\t2.1999\t81.818\t50.715\t3.5999\t99.2\t50.050\t0.0\t0.0\t49.999\t49.999\t100.0\t0\n",
      "CWA-5\t1000\t51.800\t2.4\t87.499\t50.922\t4.2\t99.4\t50.050\t0.0\t0.0\t49.999\t49.999\t100.0\t0\n"
     ]
    }
   ],
   "source": [
    "dataset_name_list = [\n",
    "'CWA-0',\n",
    "# 'CWA-0_v',\n",
    "'CWA-1',\n",
    "# 'CWA-1_v',\n",
    "'CWA-2',\n",
    "# 'CWA-2_v',\n",
    "'CWA-3',\n",
    "# 'CWA-3_v',\n",
    "'CWA-4',\n",
    "'CWA-5',  \n",
    "]\n",
    "\n",
    "dataset_path_list = [\n",
    " './NL_inf[multi]_conc[multi]_[1]_[llama-13b-hf]_pinf[0]_pconc[0]_42_CWA_REAL_depth-0_1000_02_05_00_11_01_a100-4h_res.csv',\n",
    " './NL_inf[multi]_conc[multi]_[1]_[llama-13b-hf]_pinf[0]_pconc[0]_42_CWA_REAL_depth-1_1000_02_05_00_59_24_a100-4h_res.csv',\n",
    " './NL_inf[multi]_conc[multi]_[1]_[llama-13b-hf]_pinf[0]_pconc[0]_42_CWA_REAL_depth-2_1000_02_05_01_13_28_a100-4h_res.csv',\n",
    " './NL_inf[multi]_conc[multi]_[1]_[llama-13b-hf]_pinf[0]_pconc[0]_42_CWA_REAL_depth-3_1000_02_05_01_19_34_a100-4h_res.csv',\n",
    " './NL_inf[multi]_conc[multi]_[1]_[llama-13b-hf]_pinf[0]_pconc[0]_42_CWA_REAL_depth-4_1000_02_05_01_28_23_a100-4h_res.csv',\n",
    " './NL_inf[multi]_conc[multi]_[1]_[llama-13b-hf]_pinf[0]_pconc[0]_42_CWA_REAL_depth-5_1000_02_05_03_41_34_a100-4h_res.csv']\n",
    "\n",
    "analyse(dataset_name_list=dataset_name_list, dataset_path_list=dataset_path_list, isMulti=True)"
   ]
  },
  {
   "cell_type": "markdown",
   "metadata": {},
   "source": [
    "# M - M - Step 3"
   ]
  },
  {
   "cell_type": "code",
   "execution_count": 26,
   "metadata": {},
   "outputs": [
    {
     "name": "stdout",
     "output_type": "stream",
     "text": [
      "name\tall\tco:a\tco:T%\tco:PT\tco:PF\tco:RT\tco:RF\tLLM:a\tLLM:T%\tLLM:PT\tLLM:PF\tLLM:RT\tLLM:RF\n",
      "CWA-0\t800\t79.7\t50.3\t99.403\t99.999\t100.0\t99.0\t30.030\t0.0\t0.0\t37.499\t37.499\t100.0\t0\n",
      "CWA-1\t1000\t51.800\t2.6\t84.615\t50.924\t4.3999\t99.2\t50.050\t0.0\t0.0\t49.999\t49.999\t100.0\t0\n",
      "CWA-2\t1000\t52.300\t3.3000\t84.848\t51.189\t5.6000\t99.0\t50.050\t0.0\t0.0\t49.999\t49.999\t100.0\t0\n",
      "CWA-3\t1000\t51.9\t2.3\t91.304\t50.972\t4.2\t99.6\t50.050\t0.0\t0.0\t49.999\t49.999\t100.0\t0\n",
      "CWA-4\t1000\t51.6\t2.4\t83.333\t50.819\t4.0\t99.2\t50.050\t0.0\t0.0\t49.999\t49.999\t100.0\t0\n",
      "CWA-5\t1000\t51.9\t2.5\t87.999\t50.974\t4.3999\t99.4\t50.050\t0.0\t0.0\t49.999\t49.999\t100.0\t0\n"
     ]
    }
   ],
   "source": [
    "dataset_name_list = [\n",
    "'CWA-0',\n",
    "# 'CWA-0_v',\n",
    "'CWA-1',\n",
    "# 'CWA-1_v',\n",
    "'CWA-2',\n",
    "# 'CWA-2_v',\n",
    "'CWA-3',\n",
    "# 'CWA-3_v',\n",
    "'CWA-4',\n",
    "'CWA-5',  \n",
    "]\n",
    "\n",
    "dataset_path_list = [\n",
    " './NL_inf[multi]_conc[multi]_[3]_[llama-13b-hf]_pinf[0]_pconc[0]_42_CWA_REAL_depth-0_1000_02_05_08_47_25_a100-5h_res.csv',\n",
    " './NL_inf[multi]_conc[multi]_[3]_[llama-13b-hf]_pinf[0]_pconc[0]_42_CWA_REAL_depth-1_1000_02_05_07_06_08_a100-5h_res.csv',\n",
    " './NL_inf[multi]_conc[multi]_[3]_[llama-13b-hf]_pinf[0]_pconc[0]_42_CWA_REAL_depth-2_1000_02_05_04_49_04_a100-5h_res.csv',\n",
    " './NL_inf[multi]_conc[multi]_[3]_[llama-13b-hf]_pinf[0]_pconc[0]_42_CWA_REAL_depth-3_1000_02_05_04_41_23_a100-5h_res.csv',\n",
    " './NL_inf[multi]_conc[multi]_[3]_[llama-13b-hf]_pinf[0]_pconc[0]_42_CWA_REAL_depth-4_1000_02_05_04_37_04_a100-5h_res.csv',\n",
    " './NL_inf[multi]_conc[multi]_[3]_[llama-13b-hf]_pinf[0]_pconc[0]_42_CWA_REAL_depth-5_1000_02_05_04_19_04_a100-5h_res.csv']\n",
    "analyse(dataset_name_list=dataset_name_list, dataset_path_list=dataset_path_list, isMulti=False)\n"
   ]
  },
  {
   "cell_type": "markdown",
   "metadata": {},
   "source": [
    "# M - M - Step 5"
   ]
  },
  {
   "cell_type": "code",
   "execution_count": 27,
   "metadata": {},
   "outputs": [
    {
     "name": "stdout",
     "output_type": "stream",
     "text": [
      "name\tall\tco:a\tco:T%\tco:PT\tco:PF\tco:RT\tco:RF\tLLM:a\tLLM:T%\tLLM:PT\tLLM:PF\tLLM:RT\tLLM:RF\n",
      "CWA-0\t800\t79.7\t50.3\t99.403\t99.999\t100.0\t99.0\t30.030\t0.0\t0.0\t37.499\t37.499\t100.0\t0\n",
      "CWA-1\t800\t31.900\t2.5\t87.999\t38.322\t4.3999\t99.0\t30.030\t0.0\t0.0\t37.499\t37.499\t100.0\t0\n",
      "CWA-2\t800\t32.7\t2.9000\t96.551\t38.780\t5.6000\t99.666\t30.030\t0.0\t0.0\t37.499\t37.499\t100.0\t0\n",
      "CWA-3\t800\t32.0\t2.1999\t95.454\t38.431\t4.2\t99.666\t30.030\t0.0\t0.0\t37.499\t37.499\t100.0\t0\n",
      "CWA-4\t800\t31.7\t2.3\t86.956\t38.223\t4.0\t99.0\t30.030\t0.0\t0.0\t37.499\t37.499\t100.0\t0\n",
      "CWA-5\t800\t32.1\t2.3\t95.652\t38.481\t4.3999\t99.666\t30.030\t0.0\t0.0\t37.499\t37.499\t100.0\t0\n"
     ]
    }
   ],
   "source": [
    "dataset_name_list = [\n",
    "'CWA-0',\n",
    "# 'CWA-0_v',\n",
    "'CWA-1',\n",
    "# 'CWA-1_v',\n",
    "'CWA-2',\n",
    "# 'CWA-2_v',\n",
    "'CWA-3',\n",
    "# 'CWA-3_v',\n",
    "'CWA-4',\n",
    "'CWA-5',  \n",
    "]\n",
    "\n",
    "dataset_path_list = [\n",
    " './NL_inf[multi]_conc[multi]_[5]_[llama-13b-hf]_pinf[0]_pconc[0]_42_CWA_REAL_depth-0_1000_02_05_08_54_39_a100-5h_res.csv',\n",
    " './NL_inf[multi]_conc[multi]_[5]_[llama-13b-hf]_pinf[0]_pconc[0]_42_CWA_REAL_depth-1_1000_02_05_09_21_11_a100-5h_res.csv',\n",
    " './NL_inf[multi]_conc[multi]_[5]_[llama-13b-hf]_pinf[0]_pconc[0]_42_CWA_REAL_depth-2_1000_02_05_09_33_25_a100-5h_res.csv',\n",
    " './NL_inf[multi]_conc[multi]_[5]_[llama-13b-hf]_pinf[0]_pconc[0]_42_CWA_REAL_depth-3_1000_02_05_11_38_43_a100-5h_res.csv',\n",
    " './NL_inf[multi]_conc[multi]_[5]_[llama-13b-hf]_pinf[0]_pconc[0]_42_CWA_REAL_depth-4_1000_02_05_13_48_00_a100-5h_res.csv',\n",
    " './NL_inf[multi]_conc[multi]_[5]_[llama-13b-hf]_pinf[0]_pconc[0]_42_CWA_REAL_depth-5_1000_02_05_13_55_23_a100-5h_res.csv']\n",
    "analyse(dataset_name_list=dataset_name_list, dataset_path_list=dataset_path_list, isMulti=True)\n"
   ]
  }
 ],
 "metadata": {
  "kernelspec": {
   "display_name": "env",
   "language": "python",
   "name": "env"
  },
  "language_info": {
   "codemirror_mode": {
    "name": "ipython",
    "version": 3
   },
   "file_extension": ".py",
   "mimetype": "text/x-python",
   "name": "python",
   "nbconvert_exporter": "python",
   "pygments_lexer": "ipython3",
   "version": "3.10.11"
  }
 },
 "nbformat": 4,
 "nbformat_minor": 2
}
