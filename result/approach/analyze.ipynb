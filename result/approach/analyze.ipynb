{
 "cells": [
  {
   "cell_type": "code",
   "execution_count": 21,
   "metadata": {},
   "outputs": [],
   "source": [
    "import pandas as pd"
   ]
  },
  {
   "cell_type": "code",
   "execution_count": 22,
   "metadata": {},
   "outputs": [],
   "source": [
    "import pandas as pd\n",
    "def analyse(dataset_name_list, dataset_path_list):\n",
    "    print(f\"name\\tall\\tcode:T\\tcode:F\\tLLM:T\\tLLM:F\\tcode:Acc\\tLLM:Acc\")\n",
    "    for dataset_name, dataset_path in zip(dataset_name_list, dataset_path_list):\n",
    "        output_df   = pd.read_csv(dataset_path)\n",
    "        num_all     = len(output_df)\n",
    "        num_answer_code_True    = output_df['answer_code'].value_counts()[True]\n",
    "        num_answer_code_False   = output_df['answer_code'].value_counts()[False]\n",
    "        acc_code                = num_answer_code_True / num_all\n",
    "        acc_code                = round(acc_code * 100, 4)\n",
    "        num_answer_LLM_True     = output_df['answer_LLM'].value_counts()[True]\n",
    "        num_answer_LLM_False    = output_df['answer_LLM'].value_counts()[False]\n",
    "        acc_LLM                 = num_answer_LLM_True / num_all\n",
    "        acc_LLM                 = round(acc_LLM * 100, 4)\n",
    "        \n",
    "        \n",
    "        print(f\"{dataset_name}\\t{num_all}\\t{num_answer_code_True}\\t{num_answer_code_False}\\t{num_answer_LLM_True}\\t{num_answer_LLM_False}\\t{acc_code}\\t{acc_LLM}\")"
   ]
  },
  {
   "cell_type": "code",
   "execution_count": 23,
   "metadata": {},
   "outputs": [],
   "source": [
    "import pandas as pd\n",
    "def analyse(dataset_name_list, dataset_path_list, isMulti):\n",
    "    print(f\"name\\tall\\t\\\n",
    "co:a\\tco:T%\\tco:PT\\tco:PF\\tco:RT\\tco:RF\\t\\\n",
    "LLM:a\\tLLM:T%\\tLLM:PT\\tLLM:PF\\tLLM:RT\\tLLM:RF\")    \n",
    "\n",
    "    for dataset_name, dataset_path in zip(dataset_name_list, dataset_path_list):\n",
    "        output_df   = pd.read_csv(dataset_path)\n",
    "        num_all     = len(output_df)\n",
    "        # if isMulti:\n",
    "        #     output_df['answer_LLM'] = output_df['answer_labels'].map(label_to_answer)\n",
    "        output_df['correct_code'] = output_df['answer_code'] == output_df['answer']    # correct = True\n",
    "        output_df['correct_LLM'] = output_df['answer_LLM'] == output_df['answer']      # correct = True\n",
    "\n",
    "        # overall acc\n",
    "        num_code_acc   = output_df['correct_code'].value_counts()[True]/1000\n",
    "        num_LLM_acc    = output_df['correct_LLM'].value_counts()[True]/1000\n",
    "\n",
    "        # How many True\n",
    "        num_code_T   = len(output_df[output_df['answer_code']==True]) /1000\n",
    "        num_LLM_T    = len(output_df[output_df['answer_LLM'] ==True]) /1000\n",
    "\n",
    "        # How many\n",
    "        num_code_RealT_PredT = len(output_df[(output_df['answer']==True) & (output_df['answer_code']==True)])\n",
    "        num_code_RealT_PredF = len(output_df[(output_df['answer']==True) & (output_df['answer_code']==False)])\n",
    "        num_code_RealF_PredF = len(output_df[(output_df['answer']==False) & (output_df['answer_code']==False)])\n",
    "        num_code_RealF_PredT = len(output_df[(output_df['answer']==False) & (output_df['answer_code']==True)])\n",
    "\n",
    "        num_LLM_RealT_PredT = len(output_df[(output_df['answer']==True) & (output_df['answer_LLM']==True)])\n",
    "        num_LLM_RealT_PredF = len(output_df[(output_df['answer']==True) & (output_df['answer_LLM']==False)])\n",
    "        num_LLM_RealF_PredF = len(output_df[(output_df['answer']==False) & (output_df['answer_LLM']==False)])\n",
    "        num_LLM_RealF_PredT = len(output_df[(output_df['answer']==False) & (output_df['answer_LLM']==True)])\n",
    "\n",
    "        # precise: in all found True, how many are real True\n",
    "        # recall: in all real True, how many are cound\n",
    "        # Code\n",
    "        precise_T_code  = num_code_RealT_PredT / (len(output_df[output_df['answer_code']==True])+0.0000001)\n",
    "        precise_F_code  = num_code_RealF_PredF  / (len(output_df[output_df['answer_code']==False])+0.0000001)\n",
    "        recall_T_code   = num_code_RealT_PredT / (len(output_df[output_df['answer']==True]))\n",
    "        recall_F_code   = num_code_RealF_PredF / (len(output_df[output_df['answer']==False]))\n",
    "        # LLM\n",
    "        precise_T_LLM   = num_LLM_RealT_PredT  / (len(output_df[output_df['answer_LLM']==True])+0.0000001)\n",
    "        precise_F_LLM   = num_LLM_RealF_PredF  / (len(output_df[output_df['answer_LLM']==False])+0.0000001)\n",
    "        recall_T_LLM    = num_LLM_RealT_PredT  / (len(output_df[output_df['answer']==True]))\n",
    "        recall_F_LLM    = num_LLM_RealF_PredF  / (len(output_df[output_df['answer']==False]))\n",
    "        \n",
    "        num_LLM_acc     = str(num_LLM_acc  *100)[:6]\n",
    "        num_code_acc    = str(num_code_acc  *100)[:6]\n",
    "        num_code_T      = str(num_code_T    *100)[:6]\n",
    "        num_LLM_T       = str(num_LLM_T     *100)[:6]\n",
    "        precise_T_code  = str(precise_T_code*100)[:6]\n",
    "        precise_F_code  = str(precise_F_code  *100)[:6]\n",
    "        recall_T_code   = str(recall_T_code  *100)[:6]\n",
    "        recall_F_code   = str(recall_F_code  *100)[:6]\n",
    "        num_LLM_acc     = str(num_LLM_acc   *100)[:6]\n",
    "        precise_T_LLM   = str(precise_T_LLM *100)[:6]\n",
    "        precise_F_LLM   = str(precise_F_LLM  *100)[:6]\n",
    "        recall_T_LLM    = str(precise_F_LLM  *100)[:6]\n",
    "        recall_F_LLM    = str(recall_F_LLM  *100)[:6]\n",
    "\n",
    "        print(f\"{dataset_name}\\t{num_all}\\t\\\n",
    "{num_code_acc}\\t{num_code_T}\\t{precise_T_code}\\t{precise_F_code}\\t{recall_T_code}\\t{recall_F_code}\\t\\\n",
    "{num_LLM_acc}\\t{num_LLM_T}\\t{precise_T_LLM}\\t{precise_F_LLM}\\t{recall_T_LLM}\\t{recall_F_LLM}\")\n"
   ]
  },
  {
   "cell_type": "code",
   "execution_count": 24,
   "metadata": {},
   "outputs": [],
   "source": [
    "dataset_name_list = [\n",
    "'CWA-0',\n",
    "'CWA-1',\n",
    "'CWA-2',\n",
    "'CWA-3',\n",
    "'CWA-4',\n",
    "'CWA-5',\n",
    "]"
   ]
  },
  {
   "cell_type": "code",
   "execution_count": 25,
   "metadata": {},
   "outputs": [],
   "source": [
    "dataset_path_list = [\n",
    " './lg_fact[multi3]_rule[multi6]_inf[multi]_[llama-7b-chat-hf]_42_CWA_REAL_depth-0_1000_01_31_11_16_11_mmm_res.csv',\n",
    " './lg_fact[multi3]_rule[multi6]_inf[multi]_[llama-7b-chat-hf]_42_CWA_REAL_depth-1_1000_01_31_11_16_11_mmm_res.csv',\n",
    " './lg_fact[multi3]_rule[multi6]_inf[multi]_[llama-7b-chat-hf]_42_CWA_REAL_depth-2_1000_01_31_11_26_11_mmm_res.csv',\n",
    " './lg_fact[multi3]_rule[multi6]_inf[multi]_[llama-7b-chat-hf]_42_CWA_REAL_depth-3_1000_01_31_13_04_54_mmm_res.csv',\n",
    " './lg_fact[multi3]_rule[multi6]_inf[multi]_[llama-7b-chat-hf]_42_CWA_REAL_depth-4_1000_01_31_13_21_53_mmm_res.csv',\n",
    " './lg_fact[multi3]_rule[multi6]_inf[multi]_[llama-7b-chat-hf]_42_CWA_REAL_depth-5_1000_01_31_14_05_58_mmm_res.csv',\n",
    "]"
   ]
  },
  {
   "cell_type": "code",
   "execution_count": 26,
   "metadata": {},
   "outputs": [
    {
     "data": {
      "text/plain": [
       "Index(['Unnamed: 0', 'nr', 'q_nr', 'theory_nr', 'theory', 'question', 'answer',\n",
       "       'meta_folder', 'meta_file', 'meta_depth', 'meta_id', 'D_maxD',\n",
       "       'D_NFact', 'D_NRule', 'Q_Dep', 'Q_Len', 'Q_strategy', 'Q_proofs',\n",
       "       'formulated_facts_str', 'formulated_rules_str',\n",
       "       'resulted_new_facts_list', 'formulated_query_list', 'answer_code',\n",
       "       'answer_LLM'],\n",
       "      dtype='object')"
      ]
     },
     "execution_count": 26,
     "metadata": {},
     "output_type": "execute_result"
    }
   ],
   "source": [
    "output_df   = pd.read_csv(dataset_path_list[0])\n",
    "output_df.columns"
   ]
  },
  {
   "cell_type": "code",
   "execution_count": 27,
   "metadata": {},
   "outputs": [],
   "source": [
    "# analyse(dataset_name_list=dataset_name_list, dataset_path_list=dataset_path_list)"
   ]
  },
  {
   "cell_type": "code",
   "execution_count": 28,
   "metadata": {},
   "outputs": [
    {
     "name": "stdout",
     "output_type": "stream",
     "text": [
      "name\tall\tco:a\tco:T%\tco:PT\tco:PF\tco:RT\tco:RF\tLLM:a\tLLM:T%\tLLM:PT\tLLM:PF\tLLM:RT\tLLM:RF\n",
      "CWA-0\t1000\t87.6\t41.8\t94.976\t82.302\t79.4\t95.8\t54.800\t15.2\t65.789\t52.830\t52.830\t89.600\n",
      "CWA-1\t1000\t50.1\t0.1\t99.999\t50.050\t0.2\t100.0\t46.246\t9.8\t30.612\t47.893\t47.893\t86.4\n",
      "CWA-2\t1000\t49.9\t0.1\t0.0\t49.949\t0.0\t99.8\t47.547\t9.5\t36.842\t48.618\t48.618\t88.0\n",
      "CWA-3\t1000\t50.0\t0.2\t49.999\t49.999\t0.2\t99.8\t47.447\t8.6\t34.883\t48.577\t48.577\t88.8\n",
      "CWA-4\t1000\t50.0\t0.2\t49.999\t49.999\t0.2\t99.8\t46.800\t8.2000\t30.487\t48.257\t48.257\t88.6\n",
      "CWA-5\t1000\t49.9\t0.1\t0.0\t49.949\t0.0\t99.8\t46.946\t7.7\t29.870\t48.320\t48.320\t89.2\n"
     ]
    }
   ],
   "source": [
    "analyse(dataset_name_list=dataset_name_list, dataset_path_list=dataset_path_list, isMulti=True)"
   ]
  },
  {
   "cell_type": "code",
   "execution_count": null,
   "metadata": {},
   "outputs": [],
   "source": []
  },
  {
   "cell_type": "markdown",
   "metadata": {},
   "source": [
    "# NL\n"
   ]
  },
  {
   "cell_type": "code",
   "execution_count": 29,
   "metadata": {},
   "outputs": [],
   "source": [
    "def label_to_answer(str):\n",
    "    if 'yes' in str.lower() and 'no' not in str.lower() :\n",
    "        return True\n",
    "    elif 'yes' not in str.lower() and 'no' in str.lower() :\n",
    "        return False\n",
    "    else:\n",
    "        return 'error'"
   ]
  },
  {
   "cell_type": "code",
   "execution_count": 30,
   "metadata": {},
   "outputs": [],
   "source": [
    "import pandas as pd\n",
    "def analyse(dataset_name_list, dataset_path_list, isMulti):\n",
    "    print(f\"name\\tall\\t\\\n",
    "co:a\\tco:T%\\tco:PT\\tco:PF\\tco:RT\\tco:RF\\t\\\n",
    "LLM:a\\tLLM:T%\\tLLM:PT\\tLLM:PF\\tLLM:RT\\tLLM:RF\")    \n",
    "\n",
    "    for dataset_name, dataset_path in zip(dataset_name_list, dataset_path_list):\n",
    "        output_df   = pd.read_csv(dataset_path)\n",
    "        num_all     = len(output_df)\n",
    "        if isMulti:\n",
    "            output_df['answer_LLM'] = output_df['answer_labels'].map(label_to_answer)\n",
    "        output_df['correct_code'] = output_df['answer_code'] == output_df['answer']    # correct = True\n",
    "        output_df['correct_LLM'] = output_df['answer_LLM'] == output_df['answer']      # correct = True\n",
    "\n",
    "        # overall acc\n",
    "        num_code_acc   = output_df['correct_code'].value_counts()[True]/1000\n",
    "        num_LLM_acc    = output_df['correct_LLM'].value_counts()[True]/1000\n",
    "\n",
    "        # How many True\n",
    "        num_code_T   = len(output_df[output_df['answer_code']==True]) /1000\n",
    "        num_LLM_T    = len(output_df[output_df['answer_LLM'] ==True]) /1000\n",
    "\n",
    "        # How many\n",
    "        num_code_RealT_PredT = len(output_df[(output_df['answer']==True) & (output_df['answer_code']==True)])\n",
    "        num_code_RealT_PredF = len(output_df[(output_df['answer']==True) & (output_df['answer_code']==False)])\n",
    "        num_code_RealF_PredF = len(output_df[(output_df['answer']==False) & (output_df['answer_code']==False)])\n",
    "        num_code_RealF_PredT = len(output_df[(output_df['answer']==False) & (output_df['answer_code']==True)])\n",
    "\n",
    "        num_LLM_RealT_PredT = len(output_df[(output_df['answer']==True) & (output_df['answer_LLM']==True)])\n",
    "        num_LLM_RealT_PredF = len(output_df[(output_df['answer']==True) & (output_df['answer_LLM']==False)])\n",
    "        num_LLM_RealF_PredF = len(output_df[(output_df['answer']==False) & (output_df['answer_LLM']==False)])\n",
    "        num_LLM_RealF_PredT = len(output_df[(output_df['answer']==False) & (output_df['answer_LLM']==True)])\n",
    "\n",
    "        # precise: in all found True, how many are real True\n",
    "        # recall: in all real True, how many are cound\n",
    "        # Code\n",
    "        precise_T_code  = num_code_RealT_PredT / (len(output_df[output_df['answer_code']==True])+0.0000001)\n",
    "        precise_F_code  = num_code_RealF_PredF  / (len(output_df[output_df['answer_code']==False])+0.0000001)\n",
    "        recall_T_code   = num_code_RealT_PredT / (len(output_df[output_df['answer']==True]))\n",
    "        recall_F_code   = num_code_RealF_PredF / (len(output_df[output_df['answer']==False]))\n",
    "        # LLM\n",
    "        precise_T_LLM   = num_LLM_RealT_PredT  / (len(output_df[output_df['answer_LLM']==True])+0.0000001)\n",
    "        precise_F_LLM   = num_LLM_RealF_PredF  / (len(output_df[output_df['answer_LLM']==False])+0.0000001)\n",
    "        recall_T_LLM    = num_LLM_RealT_PredT  / (len(output_df[output_df['answer']==True]))\n",
    "        recall_F_LLM    = num_LLM_RealF_PredF  / (len(output_df[output_df['answer']==False]))\n",
    "        \n",
    "        num_LLM_acc     = str(num_LLM_acc  *100)[:6]\n",
    "        num_code_acc    = str(num_code_acc  *100)[:6]\n",
    "        num_code_T      = str(num_code_T    *100)[:6]\n",
    "        num_LLM_T       = str(num_LLM_T     *100)[:6]\n",
    "        precise_T_code  = str(precise_T_code*100)[:6]\n",
    "        precise_F_code  = str(precise_F_code  *100)[:6]\n",
    "        recall_T_code   = str(recall_T_code  *100)[:6]\n",
    "        recall_F_code   = str(recall_F_code  *100)[:6]\n",
    "        num_LLM_acc     = str(num_LLM_acc   *100)[:6]\n",
    "        precise_T_LLM   = str(precise_T_LLM *100)[:6]\n",
    "        precise_F_LLM   = str(precise_F_LLM  *100)[:6]\n",
    "        recall_T_LLM    = str(precise_F_LLM  *100)[:6]\n",
    "        recall_F_LLM    = str(recall_F_LLM  *100)[:6]\n",
    "\n",
    "        print(f\"{dataset_name}\\t{num_all}\\t\\\n",
    "{num_code_acc}\\t{num_code_T}\\t{precise_T_code}\\t{precise_F_code}\\t{recall_T_code}\\t{recall_F_code}\\t\\\n",
    "{num_LLM_acc}\\t{num_LLM_T}\\t{precise_T_LLM}\\t{precise_F_LLM}\\t{recall_T_LLM}\\t{recall_F_LLM}\")\n"
   ]
  },
  {
   "cell_type": "code",
   "execution_count": 31,
   "metadata": {},
   "outputs": [],
   "source": [
    "dataset_name_list = [\n",
    "\n",
    "'CWA-0',\n",
    "'CWA-1',\n",
    "# 'CWA-2',\n",
    "# 'CWA-3',\n",
    "# 'CWA-4',\n",
    "# 'CWA-5',\n",
    "    \n",
    "]"
   ]
  },
  {
   "cell_type": "code",
   "execution_count": 32,
   "metadata": {},
   "outputs": [],
   "source": [
    "dataset_path_list = [\n",
    " './NL_inf[multi]_conc[multi]_[3]_[llama-7b-chat-hf]_pinf[0]_pconc[0]_42_CWA_REAL_depth-0_1000_02_01_03_19_29_test_res.csv',\n",
    " './NL_inf[multi]_conc[multi]_[3]_[llama-7b-chat-hf]_pinf[0]_pconc[0]_42_CWA_REAL_depth-1_1000_02_01_03_20_47_test_res.csv',]"
   ]
  },
  {
   "cell_type": "code",
   "execution_count": 33,
   "metadata": {},
   "outputs": [
    {
     "name": "stdout",
     "output_type": "stream",
     "text": [
      "name\tall\tco:a\tco:T%\tco:PT\tco:PF\tco:RT\tco:RF\tLLM:a\tLLM:T%\tLLM:PT\tLLM:PF\tLLM:RT\tLLM:RF\n",
      "CWA-0\t1000\t100.0\t50.0\t99.999\t99.999\t100.0\t100.0\t75.275\t37.8\t83.333\t70.257\t70.257\t87.4\n",
      "CWA-1\t1000\t50.0\t0.0\t0.0\t49.999\t0.0\t100.0\t51.151\t14.899\t53.691\t50.646\t50.646\t86.2\n"
     ]
    }
   ],
   "source": [
    "\n",
    "analyse(dataset_name_list=dataset_name_list, dataset_path_list=dataset_path_list, isMulti=True)"
   ]
  },
  {
   "cell_type": "markdown",
   "metadata": {},
   "source": [
    "# M - M - STEP 1"
   ]
  },
  {
   "cell_type": "code",
   "execution_count": 34,
   "metadata": {},
   "outputs": [
    {
     "name": "stdout",
     "output_type": "stream",
     "text": [
      "name\tall\tco:a\tco:T%\tco:PT\tco:PF\tco:RT\tco:RF\tLLM:a\tLLM:T%\tLLM:PT\tLLM:PF\tLLM:RT\tLLM:RF\n",
      "CWA-0\t1000\t100.0\t50.0\t99.999\t99.999\t100.0\t100.0\t76.076\t31.3\t91.693\t68.950\t68.950\t94.6\n",
      "CWA-1\t1000\t50.0\t0.2\t49.999\t49.999\t0.2\t99.8\t54.400\t11.200\t70.535\t52.483\t52.483\t93.0\n",
      "CWA-2\t1000\t49.9\t0.3\t33.333\t49.949\t0.2\t99.6\t53.800\t10.5\t68.571\t52.183\t52.183\t93.2\n",
      "CWA-3\t1000\t50.0\t0.0\t0.0\t49.999\t0.0\t100.0\t55.755\t10.6\t77.358\t53.191\t53.191\t95.0\n",
      "CWA-4\t1000\t50.0\t0.4\t49.999\t49.999\t0.4\t99.6\t53.900\t10.9\t67.889\t52.188\t52.188\t93.0\n",
      "CWA-5\t1000\t50.4\t0.6\t83.333\t50.201\t1.0\t99.8\t52.252\t9.1\t63.736\t51.214\t51.214\t92.800\n"
     ]
    }
   ],
   "source": [
    "dataset_name_list = [\n",
    "'CWA-0',\n",
    "# 'CWA-0_v',\n",
    "'CWA-1',\n",
    "# 'CWA-1_v',\n",
    "'CWA-2',\n",
    "# 'CWA-2_v',\n",
    "'CWA-3',\n",
    "# 'CWA-3_v',\n",
    "'CWA-4',\n",
    "'CWA-5',  \n",
    "]\n",
    "\n",
    "dataset_path_list = [\n",
    " './NL_inf[multi]_conc[multi]_[1]_[llama-7b-chat-hf]_pinf[0]_pconc[0]_42_CWA_REAL_depth-0_1000_02_01_23_17_34_test_res.csv',\n",
    "#  './NL_inf[multi]_conc[multi]_[1]_[llama-7b-chat-hf]_pinf[0]_pconc[0]_42_CWA_REAL_depth-0_1000_02_01_21_25_09_v100_res.csv',\n",
    " './NL_inf[multi]_conc[multi]_[1]_[llama-7b-chat-hf]_pinf[0]_pconc[0]_42_CWA_REAL_depth-1_1000_02_01_22_32_01_test_res.csv',\n",
    "#  './NL_inf[multi]_conc[multi]_[1]_[llama-7b-chat-hf]_pinf[0]_pconc[0]_42_CWA_REAL_depth-1_1000_02_02_23_57_30_v100_res.csv',\n",
    " './NL_inf[multi]_conc[multi]_[1]_[llama-7b-chat-hf]_pinf[0]_pconc[0]_42_CWA_REAL_depth-2_1000_02_01_21_34_50_test_res.csv',\n",
    "#  './NL_inf[multi]_conc[multi]_[1]_[llama-7b-chat-hf]_pinf[0]_pconc[0]_42_CWA_REAL_depth-2_1000_02_03_01_39_40_v100_res.csv',\n",
    " './NL_inf[multi]_conc[multi]_[1]_[llama-7b-chat-hf]_pinf[0]_pconc[0]_42_CWA_REAL_depth-3_1000_02_01_20_59_29_test_res.csv',\n",
    "#  './NL_inf[multi]_conc[multi]_[1]_[llama-7b-chat-hf]_pinf[0]_pconc[0]_42_CWA_REAL_depth-3_1000_02_03_02_48_21_v100_res.csv',\n",
    " './NL_inf[multi]_conc[multi]_[1]_[llama-7b-chat-hf]_pinf[0]_pconc[0]_42_CWA_REAL_depth-4_1000_02_01_19_02_22_test_res.csv',\n",
    " './NL_inf[multi]_conc[multi]_[1]_[llama-7b-chat-hf]_pinf[0]_pconc[0]_42_CWA_REAL_depth-5_1000_02_01_19_02_22_test_res.csv']\n",
    "\n",
    "analyse(dataset_name_list=dataset_name_list, dataset_path_list=dataset_path_list, isMulti=True)"
   ]
  },
  {
   "cell_type": "markdown",
   "metadata": {},
   "source": [
    "# M - M - Step 2"
   ]
  },
  {
   "cell_type": "code",
   "execution_count": 35,
   "metadata": {},
   "outputs": [
    {
     "name": "stdout",
     "output_type": "stream",
     "text": [
      "name\tall\tco:a\tco:T%\tco:PT\tco:PF\tco:RT\tco:RF\tLLM:a\tLLM:T%\tLLM:PT\tLLM:PF\tLLM:RT\tLLM:RF\n",
      "CWA-0\t1000\t99.9\t50.1\t99.800\t99.999\t100.0\t99.8\t77.077\t34.599\t89.306\t70.705\t70.705\t92.2\n",
      "CWA-1\t1000\t100.0\t50.0\t99.999\t99.999\t100.0\t100.0\t76.876\t34.0\t89.705\t70.364\t70.364\t92.600\n",
      "CWA-2\t1000\t50.0\t0.2\t49.999\t49.999\t0.2\t99.8\t54.654\t12.8\t68.749\t52.643\t52.643\t91.600\n",
      "CWA-3\t1000\t50.0\t0.4\t49.999\t49.999\t0.4\t99.6\t54.754\t11.799\t70.338\t52.727\t52.727\t92.800\n",
      "CWA-4\t1000\t50.0\t0.2\t49.999\t49.999\t0.2\t99.8\t57.199\t13.0\t77.692\t54.137\t54.137\t94.199\n",
      "CWA-5\t1000\t50.0\t0.4\t49.999\t49.999\t0.4\t99.6\t54.900\t12.7\t69.291\t52.806\t52.806\t92.2\n"
     ]
    }
   ],
   "source": [
    "dataset_name_list = [\n",
    "'CWA-0',\n",
    "# 'CWA-0_v',\n",
    "'CWA-1',\n",
    "# 'CWA-1_v',\n",
    "'CWA-2',\n",
    "# 'CWA-2_v',\n",
    "'CWA-3',\n",
    "# 'CWA-3_v',\n",
    "'CWA-4',\n",
    "'CWA-5',  \n",
    "]\n",
    "\n",
    "dataset_path_list = [\n",
    " './NL_inf[multi]_conc[multi]_[2]_[llama-7b-chat-hf]_pinf[0]_pconc[0]_42_CWA_REAL_depth-0_1000_02_03_14_11_56_p100-5h_res.csv',\n",
    " './NL_inf[multi]_conc[multi]_[2]_[llama-7b-chat-hf]_pinf[0]_pconc[0]_42_CWA_REAL_depth-0_1000_02_05_19_34_37_a100-5h_res.csv',\n",
    " './NL_inf[multi]_conc[multi]_[2]_[llama-7b-chat-hf]_pinf[0]_pconc[0]_42_CWA_REAL_depth-1_1000_02_05_21_39_45_a100-5h_res.csv',\n",
    " './NL_inf[multi]_conc[multi]_[2]_[llama-7b-chat-hf]_pinf[0]_pconc[0]_42_CWA_REAL_depth-2_1000_02_05_21_57_38_a100-5h_res.csv',\n",
    " './NL_inf[multi]_conc[multi]_[2]_[llama-7b-chat-hf]_pinf[0]_pconc[0]_42_CWA_REAL_depth-3_1000_02_05_23_48_54_a100-5h_res.csv',\n",
    " './NL_inf[multi]_conc[multi]_[2]_[llama-7b-chat-hf]_pinf[0]_pconc[0]_42_CWA_REAL_depth-4_1000_02_05_23_56_25_a100-5h_res.csv',\n",
    " './NL_inf[multi]_conc[multi]_[2]_[llama-7b-chat-hf]_pinf[0]_pconc[0]_42_CWA_REAL_depth-5_1000_02_06_05_04_00_a100-5h_res.csv']\n",
    "analyse(dataset_name_list=dataset_name_list, dataset_path_list=dataset_path_list, isMulti=True)\n"
   ]
  },
  {
   "cell_type": "markdown",
   "metadata": {},
   "source": [
    "# M - M - Step 3"
   ]
  },
  {
   "cell_type": "code",
   "execution_count": 36,
   "metadata": {},
   "outputs": [
    {
     "name": "stdout",
     "output_type": "stream",
     "text": [
      "name\tall\tco:a\tco:T%\tco:PT\tco:PF\tco:RT\tco:RF\tLLM:a\tLLM:T%\tLLM:PT\tLLM:PF\tLLM:RT\tLLM:RF\n",
      "CWA-0\t1000\t100.0\t50.0\t99.999\t99.999\t100.0\t100.0\t76.876\t34.2\t89.473\t70.426\t70.426\t92.4\n",
      "CWA-1\t1000\t50.0\t0.2\t49.999\t49.999\t0.2\t99.8\t53.900\t11.899\t67.226\t52.218\t52.218\t91.8\n",
      "CWA-2\t1000\t50.0\t0.4\t49.999\t49.999\t0.4\t99.6\t55.400\t11.5\t73.913\t53.114\t53.114\t93.8\n",
      "CWA-3\t1000\t50.1\t0.3\t66.666\t50.050\t0.4\t99.8\t57.457\t13.0\t78.461\t54.252\t54.252\t94.399\n"
     ]
    },
    {
     "name": "stdout",
     "output_type": "stream",
     "text": [
      "CWA-4\t1000\t50.0\t0.4\t49.999\t49.999\t0.4\t99.6\t54.900\t11.899\t70.588\t52.780\t52.780\t93.0\n",
      "CWA-5\t1000\t50.4\t0.6\t83.333\t50.201\t1.0\t99.8\t52.252\t10.100\t62.376\t51.227\t51.227\t91.8\n"
     ]
    }
   ],
   "source": [
    "dataset_name_list = [\n",
    "'CWA-0',\n",
    "# 'CWA-0_v',\n",
    "'CWA-1',\n",
    "# 'CWA-1_v',\n",
    "'CWA-2',\n",
    "# 'CWA-2_v',\n",
    "'CWA-3',\n",
    "# 'CWA-3_v',\n",
    "'CWA-4',\n",
    "'CWA-5',  \n",
    "]\n",
    "\n",
    "dataset_path_list = [\n",
    " './NL_inf[multi]_conc[multi]_[3]_[llama-7b-chat-hf]_pinf[0]_pconc[0]_42_CWA_REAL_depth-0_1000_02_03_19_30_06_test_res.csv',\n",
    " './NL_inf[multi]_conc[multi]_[3]_[llama-7b-chat-hf]_pinf[0]_pconc[0]_42_CWA_REAL_depth-1_1000_02_03_19_30_06_test_res.csv',\n",
    " './NL_inf[multi]_conc[multi]_[3]_[llama-7b-chat-hf]_pinf[0]_pconc[0]_42_CWA_REAL_depth-2_1000_02_03_19_30_06_test_res.csv',\n",
    " './NL_inf[multi]_conc[multi]_[3]_[llama-7b-chat-hf]_pinf[0]_pconc[0]_42_CWA_REAL_depth-3_1000_02_03_21_43_29_test_res.csv',\n",
    " './NL_inf[multi]_conc[multi]_[3]_[llama-7b-chat-hf]_pinf[0]_pconc[0]_42_CWA_REAL_depth-4_1000_02_03_22_13_25_test_res.csv',\n",
    " './NL_inf[multi]_conc[multi]_[3]_[llama-7b-chat-hf]_pinf[0]_pconc[0]_42_CWA_REAL_depth-5_1000_02_03_22_19_55_test_res.csv']\n",
    "analyse(dataset_name_list=dataset_name_list, dataset_path_list=dataset_path_list, isMulti=True)\n"
   ]
  },
  {
   "cell_type": "markdown",
   "metadata": {},
   "source": [
    "# M - M - Step 4"
   ]
  },
  {
   "cell_type": "code",
   "execution_count": 37,
   "metadata": {},
   "outputs": [
    {
     "name": "stdout",
     "output_type": "stream",
     "text": [
      "name\tall\tco:a\tco:T%\tco:PT\tco:PF\tco:RT\tco:RF\tLLM:a\tLLM:T%\tLLM:PT\tLLM:PF\tLLM:RT\tLLM:RF\n",
      "CWA-0\t1000\t100.0\t50.0\t99.999\t99.999\t100.0\t100.0\t76.676\t34.2\t89.181\t70.274\t70.274\t92.2\n"
     ]
    },
    {
     "name": "stdout",
     "output_type": "stream",
     "text": [
      "CWA-1\t1000\t50.0\t0.2\t49.999\t49.999\t0.2\t99.8\t54.154\t12.1\t67.768\t52.337\t52.337\t91.8\n",
      "CWA-2\t1000\t50.0\t0.4\t49.999\t49.999\t0.4\t99.6\t56.000\t12.5\t74.399\t53.493\t53.493\t93.4\n",
      "CWA-3\t1000\t50.1\t0.3\t66.666\t50.050\t0.4\t99.8\t57.357\t13.3\t77.443\t54.209\t54.209\t94.0\n",
      "CWA-4\t1000\t50.0\t0.4\t49.999\t49.999\t0.4\t99.6\t54.800\t12.2\t69.672\t52.733\t52.733\t92.600\n",
      "CWA-5\t1000\t50.4\t0.6\t83.333\t50.201\t1.0\t99.8\t52.300\t10.6\t62.264\t51.290\t51.290\t91.4\n"
     ]
    }
   ],
   "source": [
    "dataset_name_list = [\n",
    "'CWA-0',\n",
    "# 'CWA-0_v',\n",
    "'CWA-1',\n",
    "# 'CWA-1_v',\n",
    "'CWA-2',\n",
    "# 'CWA-2_v',\n",
    "'CWA-3',\n",
    "# 'CWA-3_v',\n",
    "'CWA-4',\n",
    "'CWA-5',  \n",
    "]\n",
    "\n",
    "dataset_path_list = [\n",
    " './NL_inf[multi]_conc[multi]_[4]_[llama-7b-chat-hf]_pinf[0]_pconc[0]_42_CWA_REAL_depth-0_1000_02_04_18_49_33_a100-7h_res.csv',\n",
    " './NL_inf[multi]_conc[multi]_[4]_[llama-7b-chat-hf]_pinf[0]_pconc[0]_42_CWA_REAL_depth-1_1000_02_04_18_53_54_a100-7h_res.csv',\n",
    " './NL_inf[multi]_conc[multi]_[4]_[llama-7b-chat-hf]_pinf[0]_pconc[0]_42_CWA_REAL_depth-2_1000_02_04_20_55_36_a100-7h_res.csv',\n",
    " './NL_inf[multi]_conc[multi]_[4]_[llama-7b-chat-hf]_pinf[0]_pconc[0]_42_CWA_REAL_depth-3_1000_02_04_21_44_43_a100-7h_res.csv',\n",
    " './NL_inf[multi]_conc[multi]_[4]_[llama-7b-chat-hf]_pinf[0]_pconc[0]_42_CWA_REAL_depth-4_1000_02_04_22_08_54_a100-7h_res.csv',\n",
    " './NL_inf[multi]_conc[multi]_[4]_[llama-7b-chat-hf]_pinf[0]_pconc[0]_42_CWA_REAL_depth-5_1000_02_04_22_09_56_a100-7h_res.csv']\n",
    "analyse(dataset_name_list=dataset_name_list, dataset_path_list=dataset_path_list, isMulti=True)\n"
   ]
  },
  {
   "cell_type": "markdown",
   "metadata": {},
   "source": [
    "# M - M - Step 5"
   ]
  },
  {
   "cell_type": "code",
   "execution_count": 38,
   "metadata": {},
   "outputs": [
    {
     "name": "stdout",
     "output_type": "stream",
     "text": [
      "name\tall\tco:a\tco:T%\tco:PT\tco:PF\tco:RT\tco:RF\tLLM:a\tLLM:T%\tLLM:PT\tLLM:PF\tLLM:RT\tLLM:RF\n",
      "CWA-0\t1000\t100.0\t50.0\t99.999\t99.999\t100.0\t100.0\t77.077\t34.8\t89.080\t70.769\t70.769\t92.0\n"
     ]
    },
    {
     "name": "stdout",
     "output_type": "stream",
     "text": [
      "CWA-1\t1000\t50.0\t0.2\t49.999\t49.999\t0.2\t99.8\t54.400\t12.0\t69.166\t52.505\t52.505\t92.2\n",
      "CWA-2\t1000\t50.0\t0.4\t49.999\t49.999\t0.4\t99.6\t55.900\t13.0\t73.076\t53.456\t53.456\t92.800\n",
      "CWA-3\t1000\t50.1\t0.3\t66.666\t50.050\t0.4\t99.8\t57.099\t13.5\t76.296\t54.104\t54.104\t93.600\n",
      "CWA-4\t1000\t50.0\t0.4\t49.999\t49.999\t0.4\t99.6\t55.500\t11.899\t73.109\t53.121\t53.121\t93.600\n",
      "CWA-5\t1000\t50.4\t0.6\t83.333\t50.201\t1.0\t99.8\t52.400\t10.299\t63.106\t51.342\t51.342\t91.8\n"
     ]
    }
   ],
   "source": [
    "dataset_name_list = [\n",
    "'CWA-0',\n",
    "# 'CWA-0_v',\n",
    "'CWA-1',\n",
    "# 'CWA-1_v',\n",
    "'CWA-2',\n",
    "# 'CWA-2_v',\n",
    "'CWA-3',\n",
    "# 'CWA-3_v',\n",
    "'CWA-4',\n",
    "'CWA-5',  \n",
    "]\n",
    "\n",
    "dataset_path_list = [\n",
    " './NL_inf[multi]_conc[multi]_[5]_[llama-7b-chat-hf]_pinf[0]_pconc[0]_42_CWA_REAL_depth-0_1000_02_03_22_26_47_test_res.csv',\n",
    " './NL_inf[multi]_conc[multi]_[5]_[llama-7b-chat-hf]_pinf[0]_pconc[0]_42_CWA_REAL_depth-1_1000_02_04_00_09_14_test_res.csv',\n",
    " './NL_inf[multi]_conc[multi]_[5]_[llama-7b-chat-hf]_pinf[0]_pconc[0]_42_CWA_REAL_depth-2_1000_02_04_00_27_56_test_res.csv',\n",
    " './NL_inf[multi]_conc[multi]_[5]_[llama-7b-chat-hf]_pinf[0]_pconc[0]_42_CWA_REAL_depth-3_1000_02_04_01_00_33_test_res.csv',\n",
    " './NL_inf[multi]_conc[multi]_[5]_[llama-7b-chat-hf]_pinf[0]_pconc[0]_42_CWA_REAL_depth-4_1000_02_04_01_04_21_test_res.csv',\n",
    " './NL_inf[multi]_conc[multi]_[5]_[llama-7b-chat-hf]_pinf[0]_pconc[0]_42_CWA_REAL_depth-5_1000_02_04_02_08_12_test_res.csv']\n",
    "analyse(dataset_name_list=dataset_name_list, dataset_path_list=dataset_path_list, isMulti=True)\n"
   ]
  },
  {
   "cell_type": "markdown",
   "metadata": {},
   "source": [
    "# S - S - Step 1"
   ]
  },
  {
   "cell_type": "code",
   "execution_count": 39,
   "metadata": {},
   "outputs": [
    {
     "name": "stdout",
     "output_type": "stream",
     "text": [
      "name\tall\tco:a\tco:T%\tco:PT\tco:PF\tco:RT\tco:RF\tLLM:a\tLLM:T%\tLLM:PT\tLLM:PF\tLLM:RT\tLLM:RF\n",
      "CWA-0\t1000\t97.0\t53.0\t94.339\t99.999\t100.0\t94.0\t95.595\t54.500\t91.743\t99.999\t99.999\t91.0\n",
      "CWA-1\t1000\t70.399\t22.0\t96.363\t63.076\t42.4\t98.4\t76.076\t29.2\t94.520\t68.361\t68.361\t96.8\n",
      "CWA-2\t1000\t65.5\t17.299\t94.797\t59.371\t32.800\t98.2\t72.672\t27.0\t91.851\t65.479\t65.479\t95.6\n",
      "CWA-3\t1000\t63.7\t15.9\t93.081\t58.145\t29.599\t97.8\t72.272\t27.400\t90.510\t65.289\t65.289\t94.8\n",
      "CWA-4\t1000\t61.5\t12.3\t96.747\t56.556\t23.799\t99.2\t72.372\t25.5\t93.725\t64.966\t64.966\t96.8\n",
      "CWA-5\t1000\t57.8\t8.7999\t94.318\t54.276\t16.6\t99.0\t64.864\t20.200\t86.633\t59.273\t59.273\t94.6\n"
     ]
    }
   ],
   "source": [
    "dataset_name_list = [\n",
    "'CWA-0',\n",
    "# 'CWA-0_v',\n",
    "'CWA-1',\n",
    "# 'CWA-1_v',\n",
    "'CWA-2',\n",
    "# 'CWA-2_v',\n",
    "'CWA-3',\n",
    "# 'CWA-3_v',\n",
    "'CWA-4',\n",
    "'CWA-5',  \n",
    "]\n",
    "\n",
    "dataset_path_list = [\n",
    " './NL_inf[single]_conc[single]_[1]_[llama-7b-chat-hf]_pinf[0]_pconc[0]_42_CWA_REAL_depth-0_1000_02_03_03_56_05_test_res.csv',\n",
    " './NL_inf[single]_conc[single]_[1]_[llama-7b-chat-hf]_pinf[0]_pconc[0]_42_CWA_REAL_depth-1_1000_02_03_04_37_53_test_res.csv',\n",
    " './NL_inf[single]_conc[single]_[1]_[llama-7b-chat-hf]_pinf[0]_pconc[0]_42_CWA_REAL_depth-2_1000_02_03_07_43_06_test_res.csv',\n",
    " './NL_inf[single]_conc[single]_[1]_[llama-7b-chat-hf]_pinf[0]_pconc[0]_42_CWA_REAL_depth-3_1000_02_03_08_37_40_test_res.csv',\n",
    " './NL_inf[single]_conc[single]_[1]_[llama-7b-chat-hf]_pinf[0]_pconc[0]_42_CWA_REAL_depth-4_1000_02_03_17_11_52_test_res.csv',\n",
    " './NL_inf[single]_conc[single]_[1]_[llama-7b-chat-hf]_pinf[0]_pconc[0]_42_CWA_REAL_depth-5_1000_02_03_19_30_06_test_res.csv',]\n",
    "analyse(dataset_name_list=dataset_name_list, dataset_path_list=dataset_path_list, isMulti=False)\n"
   ]
  },
  {
   "cell_type": "markdown",
   "metadata": {},
   "source": [
    "# S - S - Step 3"
   ]
  },
  {
   "cell_type": "code",
   "execution_count": 40,
   "metadata": {},
   "outputs": [
    {
     "name": "stdout",
     "output_type": "stream",
     "text": [
      "name\tall\tco:a\tco:T%\tco:PT\tco:PF\tco:RT\tco:RF\tLLM:a\tLLM:T%\tLLM:PT\tLLM:PF\tLLM:RT\tLLM:RF\n"
     ]
    },
    {
     "name": "stdout",
     "output_type": "stream",
     "text": [
      "CWA-0\t1000\t96.899\t53.1\t94.161\t99.999\t100.0\t93.8\t95.199\t54.800\t91.240\t99.999\t99.999\t90.4\n",
      "CWA-1\t1000\t70.899\t22.900\t95.633\t63.553\t43.8\t98.0\t77.877\t31.6\t93.987\t70.321\t70.321\t96.2\n",
      "CWA-2\t1000\t67.100\t19.7\t93.401\t60.647\t36.8\t97.399\t75.575\t31.1\t90.996\t68.505\t68.505\t94.399\n",
      "CWA-3\t1000\t64.7\t17.1\t92.982\t58.866\t31.8\t97.6\t74.874\t31.2\t89.743\t68.023\t68.023\t93.600\n",
      "CWA-4\t1000\t62.6\t13.4\t97.014\t57.274\t26.0\t99.2\t74.674\t28.4\t93.309\t67.178\t67.178\t96.2\n",
      "CWA-5\t1000\t59.0\t10.0\t94.999\t54.999\t19.0\t99.0\t66.866\t23.0\t86.521\t60.909\t60.909\t93.8\n"
     ]
    }
   ],
   "source": [
    "dataset_name_list = [\n",
    "'CWA-0',\n",
    "'CWA-1',\n",
    "'CWA-2',\n",
    "'CWA-3',\n",
    "'CWA-4',\n",
    "'CWA-5',  \n",
    "]\n",
    "dataset_path_list = [\n",
    " './NL_inf[single]_conc[single]_[3]_[llama-7b-chat-hf]_pinf[0]_pconc[0]_42_CWA_REAL_depth-0_1000_02_01_23_26_03_test_res.csv',\n",
    " './NL_inf[single]_conc[single]_[3]_[llama-7b-chat-hf]_pinf[0]_pconc[0]_42_CWA_REAL_depth-1_1000_02_02_00_04_18_test_res.csv',\n",
    " './NL_inf[single]_conc[single]_[3]_[llama-7b-chat-hf]_pinf[0]_pconc[0]_42_CWA_REAL_depth-2_1000_02_02_00_25_40_test_res.csv',\n",
    " './NL_inf[single]_conc[single]_[3]_[llama-7b-chat-hf]_pinf[0]_pconc[0]_42_CWA_REAL_depth-3_1000_02_02_01_06_23_test_res.csv',\n",
    " './NL_inf[single]_conc[single]_[3]_[llama-7b-chat-hf]_pinf[0]_pconc[0]_42_CWA_REAL_depth-4_1000_02_02_01_15_12_test_res.csv',\n",
    " './NL_inf[single]_conc[single]_[3]_[llama-7b-chat-hf]_pinf[0]_pconc[0]_42_CWA_REAL_depth-5_1000_02_02_06_40_41_test_res.csv']\n",
    "\n",
    "analyse(dataset_name_list=dataset_name_list, dataset_path_list=dataset_path_list, isMulti=False)"
   ]
  },
  {
   "cell_type": "markdown",
   "metadata": {},
   "source": [
    "# S - S - Step 5"
   ]
  },
  {
   "cell_type": "code",
   "execution_count": 41,
   "metadata": {},
   "outputs": [
    {
     "name": "stdout",
     "output_type": "stream",
     "text": [
      "name\tall\tco:a\tco:T%\tco:PT\tco:PF\tco:RT\tco:RF\tLLM:a\tLLM:T%\tLLM:PT\tLLM:PF\tLLM:RT\tLLM:RF\n",
      "CWA-0\t800\t78.2\t51.800\t96.525\t99.999\t100.0\t94.0\t77.377\t52.7\t94.876\t99.999\t99.999\t91.0\n",
      "CWA-1\t800\t51.300\t22.5\t97.333\t51.130\t43.8\t98.0\t58.858\t31.0\t96.451\t58.979\t58.979\t96.333\n",
      "CWA-2\t800\t47.599\t19.400\t95.360\t48.019\t37.0\t97.0\t56.699\t30.9\t93.203\t56.822\t56.822\t93.0\n",
      "CWA-3\t800\t45.4\t16.400\t96.951\t46.383\t31.8\t98.333\t56.356\t29.7\t94.276\t56.262\t56.262\t94.333\n",
      "CWA-4\t600\t22.900\t13.100\t99.236\t21.108\t26.0\t99.0\t36.336\t27.3\t98.168\t29.051\t29.051\t95.0\n",
      "CWA-5\t600\t19.5\t9.5\t99.999\t19.801\t19.0\t100.0\t29.229\t20.599\t96.601\t23.604\t23.604\t93.0\n"
     ]
    }
   ],
   "source": [
    "dataset_name_list = [\n",
    "'CWA-0',\n",
    "'CWA-1',\n",
    "'CWA-2',\n",
    "'CWA-3',\n",
    "'CWA-4',\n",
    "'CWA-5',  \n",
    "]\n",
    "dataset_path_list = [\n",
    " './NL_inf[single]_conc[single]_[5]_[llama-7b-chat-hf]_pinf[0]_pconc[0]_42_CWA_REAL_depth-0_1000_02_02_18_37_33_test_res.csv',\n",
    " './NL_inf[single]_conc[single]_[5]_[llama-7b-chat-hf]_pinf[0]_pconc[0]_42_CWA_REAL_depth-1_1000_02_02_16_11_03_test_res.csv',\n",
    " './NL_inf[single]_conc[single]_[5]_[llama-7b-chat-hf]_pinf[0]_pconc[0]_42_CWA_REAL_depth-2_1000_02_02_10_10_58_test_res.csv',\n",
    " './NL_inf[single]_conc[single]_[5]_[llama-7b-chat-hf]_pinf[0]_pconc[0]_42_CWA_REAL_depth-3_1000_02_02_09_00_31_test_res.csv',\n",
    " './NL_inf[single]_conc[single]_[5]_[llama-7b-chat-hf]_pinf[0]_pconc[0]_42_CWA_REAL_depth-4_1000_02_02_08_55_21_test_res.csv',\n",
    " './NL_inf[single]_conc[single]_[5]_[llama-7b-chat-hf]_pinf[0]_pconc[0]_42_CWA_REAL_depth-5_1000_02_02_08_37_08_test_res.csv']\n",
    "analyse(dataset_name_list=dataset_name_list, dataset_path_list=dataset_path_list, isMulti=False)"
   ]
  },
  {
   "cell_type": "markdown",
   "metadata": {},
   "source": [
    "# M - S - Step 3"
   ]
  },
  {
   "cell_type": "code",
   "execution_count": 42,
   "metadata": {},
   "outputs": [
    {
     "name": "stdout",
     "output_type": "stream",
     "text": [
      "name\tall\tco:a\tco:T%\tco:PT\tco:PF\tco:RT\tco:RF\tLLM:a\tLLM:T%\tLLM:PT\tLLM:PF\tLLM:RT\tLLM:RF\n",
      "CWA-0\t1000\t100.0\t50.0\t99.999\t99.999\t100.0\t100.0\t96.896\t53.2\t93.984\t99.999\t99.999\t93.600\n",
      "CWA-1\t1000\t50.0\t0.2\t49.999\t49.999\t0.2\t99.8\t58.958\t15.299\t79.084\t55.253\t55.253\t93.600\n",
      "CWA-2\t1000\t50.0\t0.4\t49.999\t49.999\t0.4\t99.6\t60.660\t16.8\t81.547\t56.370\t56.370\t93.8\n",
      "CWA-3\t1000\t50.1\t0.3\t66.666\t50.050\t0.4\t99.8\t60.560\t16.1\t82.608\t56.257\t56.257\t94.399\n",
      "CWA-4\t1000\t50.0\t0.4\t49.999\t49.999\t0.4\t99.6\t59.359\t17.299\t76.878\t55.622\t55.622\t92.0\n",
      "CWA-5\t1000\t50.4\t0.6\t83.333\t50.201\t1.0\t99.8\t58.558\t15.7\t77.070\t55.041\t55.041\t92.800\n"
     ]
    }
   ],
   "source": [
    "dataset_name_list = [\n",
    "'CWA-0',\n",
    "'CWA-1',\n",
    "'CWA-2',\n",
    "'CWA-3',\n",
    "'CWA-4',\n",
    "'CWA-5',  \n",
    "]\n",
    "dataset_path_list = [\n",
    " './NL_inf[multi]_conc[single]_[3]_[llama-7b-chat-hf]_pinf[0]_pconc[0]_42_CWA_REAL_depth-0_1000_02_04_07_03_23_a100-7h_res.csv',\n",
    " './NL_inf[multi]_conc[single]_[3]_[llama-7b-chat-hf]_pinf[0]_pconc[0]_42_CWA_REAL_depth-1_1000_02_04_08_37_14_a100-7h_res.csv',\n",
    " './NL_inf[multi]_conc[single]_[3]_[llama-7b-chat-hf]_pinf[0]_pconc[0]_42_CWA_REAL_depth-2_1000_02_04_08_37_14_a100-7h_res.csv',\n",
    " './NL_inf[multi]_conc[single]_[3]_[llama-7b-chat-hf]_pinf[0]_pconc[0]_42_CWA_REAL_depth-3_1000_02_04_08_37_15_a100-7h_res.csv',\n",
    " './NL_inf[multi]_conc[single]_[3]_[llama-7b-chat-hf]_pinf[0]_pconc[0]_42_CWA_REAL_depth-4_1000_02_04_10_31_20_a100-7h_res.csv',\n",
    " './NL_inf[multi]_conc[single]_[3]_[llama-7b-chat-hf]_pinf[0]_pconc[0]_42_CWA_REAL_depth-5_1000_02_04_10_56_34_a100-7h_res.csv']\n",
    "\n",
    "analyse(dataset_name_list=dataset_name_list, dataset_path_list=dataset_path_list, isMulti=False)"
   ]
  },
  {
   "cell_type": "markdown",
   "metadata": {},
   "source": [
    "# S - M - Step 3"
   ]
  },
  {
   "cell_type": "code",
   "execution_count": 43,
   "metadata": {},
   "outputs": [
    {
     "name": "stdout",
     "output_type": "stream",
     "text": [
      "name\tall\tco:a\tco:T%\tco:PT\tco:PF\tco:RT\tco:RF\tLLM:a\tLLM:T%\tLLM:PT\tLLM:PF\tLLM:RT\tLLM:RF\n",
      "CWA-0\t1000\t96.899\t53.1\t94.161\t99.999\t100.0\t93.8\t71.171\t33.300\t81.681\t65.817\t65.817\t87.8\n",
      "CWA-1\t1000\t70.899\t22.900\t95.633\t63.553\t43.8\t98.0\t67.100\t29.7\t78.787\t62.162\t62.162\t87.4\n",
      "CWA-2\t1000\t67.100\t19.7\t93.401\t60.647\t36.8\t97.399\t66.366\t29.5\t77.627\t61.560\t61.560\t86.8\n",
      "CWA-3\t1000\t64.7\t17.1\t92.982\t58.866\t31.8\t97.6\t67.300\t27.1\t81.918\t61.865\t61.865\t90.2\n",
      "CWA-4*\t800\t42.8\t13.200\t98.484\t44.610\t26.0\t99.333\t49.249\t26.0\t86.923\t49.259\t49.259\t88.666\n",
      "CWA-5*\t800\t39.300\t9.7000\t97.938\t42.389\t19.0\t99.333\t41.341\t18.5\t80.540\t42.926\t42.926\t88.0\n"
     ]
    }
   ],
   "source": [
    "dataset_name_list = [\n",
    "'CWA-0',\n",
    "'CWA-1',\n",
    "'CWA-2',\n",
    "'CWA-3',\n",
    "'CWA-4*',\n",
    "'CWA-5*',  \n",
    "]\n",
    "dataset_path_list = [\n",
    " './NL_inf[single]_conc[multi]_[3]_[llama-7b-chat-hf]_pinf[0]_pconc[0]_42_CWA_REAL_depth-0_1000_02_04_12_00_44_a100-7h_res.csv',\n",
    " './NL_inf[single]_conc[multi]_[3]_[llama-7b-chat-hf]_pinf[0]_pconc[0]_42_CWA_REAL_depth-1_1000_02_04_12_04_12_a100-7h_res.csv',\n",
    " './NL_inf[single]_conc[multi]_[3]_[llama-7b-chat-hf]_pinf[0]_pconc[0]_42_CWA_REAL_depth-2_1000_02_04_12_09_40_a100-7h_res.csv',\n",
    " './NL_inf[single]_conc[multi]_[3]_[llama-7b-chat-hf]_pinf[0]_pconc[0]_42_CWA_REAL_depth-3_1000_02_04_14_19_24_a100-7h_res.csv',\n",
    " './NL_inf[single]_conc[multi]_[3]_[llama-7b-chat-hf]_pinf[0]_pconc[0]_42_CWA_REAL_depth-4_1000_02_04_14_44_14_a100-7h_res.csv',\n",
    " './NL_inf[single]_conc[multi]_[3]_[llama-7b-chat-hf]_pinf[0]_pconc[0]_42_CWA_REAL_depth-5_1000_02_04_18_27_51_a100-7h_res.csv']\n",
    "\n",
    "\n",
    "analyse(dataset_name_list=dataset_name_list, dataset_path_list=dataset_path_list, isMulti=True)"
   ]
  }
 ],
 "metadata": {
  "kernelspec": {
   "display_name": "env",
   "language": "python",
   "name": "env"
  },
  "language_info": {
   "codemirror_mode": {
    "name": "ipython",
    "version": 3
   },
   "file_extension": ".py",
   "mimetype": "text/x-python",
   "name": "python",
   "nbconvert_exporter": "python",
   "pygments_lexer": "ipython3",
   "version": "3.10.11"
  }
 },
 "nbformat": 4,
 "nbformat_minor": 2
}
